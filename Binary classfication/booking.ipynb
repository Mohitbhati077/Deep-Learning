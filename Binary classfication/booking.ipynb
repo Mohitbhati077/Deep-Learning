{
 "cells": [
  {
   "cell_type": "markdown",
   "metadata": {},
   "source": [
    "### Binary Classification-Booking Cancellation\n"
   ]
  },
  {
   "cell_type": "code",
   "execution_count": 1,
   "metadata": {},
   "outputs": [],
   "source": [
    "from warnings import filterwarnings\n",
    "filterwarnings('ignore')"
   ]
  },
  {
   "cell_type": "markdown",
   "metadata": {},
   "source": [
    "## Read the train dataset"
   ]
  },
  {
   "cell_type": "code",
   "execution_count": 2,
   "metadata": {},
   "outputs": [
    {
     "data": {
      "text/html": [
       "<div>\n",
       "<style scoped>\n",
       "    .dataframe tbody tr th:only-of-type {\n",
       "        vertical-align: middle;\n",
       "    }\n",
       "\n",
       "    .dataframe tbody tr th {\n",
       "        vertical-align: top;\n",
       "    }\n",
       "\n",
       "    .dataframe thead th {\n",
       "        text-align: right;\n",
       "    }\n",
       "</style>\n",
       "<table border=\"1\" class=\"dataframe\">\n",
       "  <thead>\n",
       "    <tr style=\"text-align: right;\">\n",
       "      <th></th>\n",
       "      <th>id</th>\n",
       "      <th>no_of_adults</th>\n",
       "      <th>no_of_children</th>\n",
       "      <th>no_of_weekend_nights</th>\n",
       "      <th>no_of_week_nights</th>\n",
       "      <th>type_of_meal_plan</th>\n",
       "      <th>required_car_parking_space</th>\n",
       "      <th>room_type_reserved</th>\n",
       "      <th>lead_time</th>\n",
       "      <th>arrival_year</th>\n",
       "      <th>arrival_month</th>\n",
       "      <th>arrival_date</th>\n",
       "      <th>market_segment_type</th>\n",
       "      <th>repeated_guest</th>\n",
       "      <th>no_of_previous_cancellations</th>\n",
       "      <th>no_of_previous_bookings_not_canceled</th>\n",
       "      <th>avg_price_per_room</th>\n",
       "      <th>no_of_special_requests</th>\n",
       "      <th>booking_status</th>\n",
       "    </tr>\n",
       "  </thead>\n",
       "  <tbody>\n",
       "    <tr>\n",
       "      <th>0</th>\n",
       "      <td>0</td>\n",
       "      <td>2</td>\n",
       "      <td>0</td>\n",
       "      <td>0</td>\n",
       "      <td>2</td>\n",
       "      <td>1</td>\n",
       "      <td>0</td>\n",
       "      <td>0</td>\n",
       "      <td>9</td>\n",
       "      <td>2018</td>\n",
       "      <td>1</td>\n",
       "      <td>14</td>\n",
       "      <td>1</td>\n",
       "      <td>1</td>\n",
       "      <td>11</td>\n",
       "      <td>0</td>\n",
       "      <td>67.50</td>\n",
       "      <td>0</td>\n",
       "      <td>0</td>\n",
       "    </tr>\n",
       "    <tr>\n",
       "      <th>1</th>\n",
       "      <td>1</td>\n",
       "      <td>2</td>\n",
       "      <td>0</td>\n",
       "      <td>1</td>\n",
       "      <td>2</td>\n",
       "      <td>0</td>\n",
       "      <td>0</td>\n",
       "      <td>0</td>\n",
       "      <td>117</td>\n",
       "      <td>2018</td>\n",
       "      <td>7</td>\n",
       "      <td>29</td>\n",
       "      <td>0</td>\n",
       "      <td>0</td>\n",
       "      <td>0</td>\n",
       "      <td>0</td>\n",
       "      <td>72.25</td>\n",
       "      <td>0</td>\n",
       "      <td>0</td>\n",
       "    </tr>\n",
       "    <tr>\n",
       "      <th>2</th>\n",
       "      <td>2</td>\n",
       "      <td>2</td>\n",
       "      <td>0</td>\n",
       "      <td>0</td>\n",
       "      <td>1</td>\n",
       "      <td>0</td>\n",
       "      <td>0</td>\n",
       "      <td>0</td>\n",
       "      <td>315</td>\n",
       "      <td>2018</td>\n",
       "      <td>12</td>\n",
       "      <td>2</td>\n",
       "      <td>0</td>\n",
       "      <td>0</td>\n",
       "      <td>0</td>\n",
       "      <td>0</td>\n",
       "      <td>52.00</td>\n",
       "      <td>0</td>\n",
       "      <td>0</td>\n",
       "    </tr>\n",
       "    <tr>\n",
       "      <th>3</th>\n",
       "      <td>3</td>\n",
       "      <td>1</td>\n",
       "      <td>0</td>\n",
       "      <td>0</td>\n",
       "      <td>2</td>\n",
       "      <td>1</td>\n",
       "      <td>0</td>\n",
       "      <td>0</td>\n",
       "      <td>32</td>\n",
       "      <td>2018</td>\n",
       "      <td>12</td>\n",
       "      <td>1</td>\n",
       "      <td>1</td>\n",
       "      <td>0</td>\n",
       "      <td>0</td>\n",
       "      <td>0</td>\n",
       "      <td>56.00</td>\n",
       "      <td>0</td>\n",
       "      <td>0</td>\n",
       "    </tr>\n",
       "    <tr>\n",
       "      <th>4</th>\n",
       "      <td>4</td>\n",
       "      <td>2</td>\n",
       "      <td>0</td>\n",
       "      <td>1</td>\n",
       "      <td>0</td>\n",
       "      <td>0</td>\n",
       "      <td>0</td>\n",
       "      <td>0</td>\n",
       "      <td>258</td>\n",
       "      <td>2018</td>\n",
       "      <td>10</td>\n",
       "      <td>16</td>\n",
       "      <td>0</td>\n",
       "      <td>0</td>\n",
       "      <td>0</td>\n",
       "      <td>0</td>\n",
       "      <td>100.00</td>\n",
       "      <td>0</td>\n",
       "      <td>1</td>\n",
       "    </tr>\n",
       "  </tbody>\n",
       "</table>\n",
       "</div>"
      ],
      "text/plain": [
       "   id  no_of_adults  no_of_children  no_of_weekend_nights  no_of_week_nights  \\\n",
       "0   0             2               0                     0                  2   \n",
       "1   1             2               0                     1                  2   \n",
       "2   2             2               0                     0                  1   \n",
       "3   3             1               0                     0                  2   \n",
       "4   4             2               0                     1                  0   \n",
       "\n",
       "   type_of_meal_plan  required_car_parking_space  room_type_reserved  \\\n",
       "0                  1                           0                   0   \n",
       "1                  0                           0                   0   \n",
       "2                  0                           0                   0   \n",
       "3                  1                           0                   0   \n",
       "4                  0                           0                   0   \n",
       "\n",
       "   lead_time  arrival_year  arrival_month  arrival_date  market_segment_type  \\\n",
       "0          9          2018              1            14                    1   \n",
       "1        117          2018              7            29                    0   \n",
       "2        315          2018             12             2                    0   \n",
       "3         32          2018             12             1                    1   \n",
       "4        258          2018             10            16                    0   \n",
       "\n",
       "   repeated_guest  no_of_previous_cancellations  \\\n",
       "0               1                            11   \n",
       "1               0                             0   \n",
       "2               0                             0   \n",
       "3               0                             0   \n",
       "4               0                             0   \n",
       "\n",
       "   no_of_previous_bookings_not_canceled  avg_price_per_room  \\\n",
       "0                                     0               67.50   \n",
       "1                                     0               72.25   \n",
       "2                                     0               52.00   \n",
       "3                                     0               56.00   \n",
       "4                                     0              100.00   \n",
       "\n",
       "   no_of_special_requests  booking_status  \n",
       "0                       0               0  \n",
       "1                       0               0  \n",
       "2                       0               0  \n",
       "3                       0               0  \n",
       "4                       0               1  "
      ]
     },
     "execution_count": 2,
     "metadata": {},
     "output_type": "execute_result"
    }
   ],
   "source": [
    "import pandas as pd\n",
    "df= pd.read_csv('train_booking.csv')\n",
    "df.head()"
   ]
  },
  {
   "cell_type": "code",
   "execution_count": 3,
   "metadata": {},
   "outputs": [
    {
     "name": "stdout",
     "output_type": "stream",
     "text": [
      "<class 'pandas.core.frame.DataFrame'>\n",
      "RangeIndex: 42100 entries, 0 to 42099\n",
      "Data columns (total 19 columns):\n",
      " #   Column                                Non-Null Count  Dtype  \n",
      "---  ------                                --------------  -----  \n",
      " 0   id                                    42100 non-null  int64  \n",
      " 1   no_of_adults                          42100 non-null  int64  \n",
      " 2   no_of_children                        42100 non-null  int64  \n",
      " 3   no_of_weekend_nights                  42100 non-null  int64  \n",
      " 4   no_of_week_nights                     42100 non-null  int64  \n",
      " 5   type_of_meal_plan                     42100 non-null  int64  \n",
      " 6   required_car_parking_space            42100 non-null  int64  \n",
      " 7   room_type_reserved                    42100 non-null  int64  \n",
      " 8   lead_time                             42100 non-null  int64  \n",
      " 9   arrival_year                          42100 non-null  int64  \n",
      " 10  arrival_month                         42100 non-null  int64  \n",
      " 11  arrival_date                          42100 non-null  int64  \n",
      " 12  market_segment_type                   42100 non-null  int64  \n",
      " 13  repeated_guest                        42100 non-null  int64  \n",
      " 14  no_of_previous_cancellations          42100 non-null  int64  \n",
      " 15  no_of_previous_bookings_not_canceled  42100 non-null  int64  \n",
      " 16  avg_price_per_room                    42100 non-null  float64\n",
      " 17  no_of_special_requests                42100 non-null  int64  \n",
      " 18  booking_status                        42100 non-null  int64  \n",
      "dtypes: float64(1), int64(18)\n",
      "memory usage: 6.1 MB\n"
     ]
    }
   ],
   "source": [
    "df.info()"
   ]
  },
  {
   "cell_type": "code",
   "execution_count": 4,
   "metadata": {},
   "outputs": [
    {
     "data": {
      "text/plain": [
       "id                                      0\n",
       "no_of_adults                            0\n",
       "no_of_children                          0\n",
       "no_of_weekend_nights                    0\n",
       "no_of_week_nights                       0\n",
       "type_of_meal_plan                       0\n",
       "required_car_parking_space              0\n",
       "room_type_reserved                      0\n",
       "lead_time                               0\n",
       "arrival_year                            0\n",
       "arrival_month                           0\n",
       "arrival_date                            0\n",
       "market_segment_type                     0\n",
       "repeated_guest                          0\n",
       "no_of_previous_cancellations            0\n",
       "no_of_previous_bookings_not_canceled    0\n",
       "avg_price_per_room                      0\n",
       "no_of_special_requests                  0\n",
       "booking_status                          0\n",
       "dtype: int64"
      ]
     },
     "execution_count": 4,
     "metadata": {},
     "output_type": "execute_result"
    }
   ],
   "source": [
    "df.isna().sum()"
   ]
  },
  {
   "cell_type": "code",
   "execution_count": 5,
   "metadata": {},
   "outputs": [
    {
     "data": {
      "text/plain": [
       "0"
      ]
     },
     "execution_count": 5,
     "metadata": {},
     "output_type": "execute_result"
    }
   ],
   "source": [
    "df.duplicated().sum()"
   ]
  },
  {
   "cell_type": "markdown",
   "metadata": {},
   "source": [
    "## Seperate X and Y"
   ]
  },
  {
   "cell_type": "code",
   "execution_count": 6,
   "metadata": {},
   "outputs": [],
   "source": [
    "X=df.drop(columns=['id','booking_status'])\n",
    "Y=df[['booking_status']]"
   ]
  },
  {
   "cell_type": "code",
   "execution_count": 7,
   "metadata": {},
   "outputs": [
    {
     "data": {
      "text/html": [
       "<div>\n",
       "<style scoped>\n",
       "    .dataframe tbody tr th:only-of-type {\n",
       "        vertical-align: middle;\n",
       "    }\n",
       "\n",
       "    .dataframe tbody tr th {\n",
       "        vertical-align: top;\n",
       "    }\n",
       "\n",
       "    .dataframe thead th {\n",
       "        text-align: right;\n",
       "    }\n",
       "</style>\n",
       "<table border=\"1\" class=\"dataframe\">\n",
       "  <thead>\n",
       "    <tr style=\"text-align: right;\">\n",
       "      <th></th>\n",
       "      <th>no_of_adults</th>\n",
       "      <th>no_of_children</th>\n",
       "      <th>no_of_weekend_nights</th>\n",
       "      <th>no_of_week_nights</th>\n",
       "      <th>type_of_meal_plan</th>\n",
       "      <th>required_car_parking_space</th>\n",
       "      <th>room_type_reserved</th>\n",
       "      <th>lead_time</th>\n",
       "      <th>arrival_year</th>\n",
       "      <th>arrival_month</th>\n",
       "      <th>arrival_date</th>\n",
       "      <th>market_segment_type</th>\n",
       "      <th>repeated_guest</th>\n",
       "      <th>no_of_previous_cancellations</th>\n",
       "      <th>no_of_previous_bookings_not_canceled</th>\n",
       "      <th>avg_price_per_room</th>\n",
       "      <th>no_of_special_requests</th>\n",
       "    </tr>\n",
       "  </thead>\n",
       "  <tbody>\n",
       "    <tr>\n",
       "      <th>0</th>\n",
       "      <td>2</td>\n",
       "      <td>0</td>\n",
       "      <td>0</td>\n",
       "      <td>2</td>\n",
       "      <td>1</td>\n",
       "      <td>0</td>\n",
       "      <td>0</td>\n",
       "      <td>9</td>\n",
       "      <td>2018</td>\n",
       "      <td>1</td>\n",
       "      <td>14</td>\n",
       "      <td>1</td>\n",
       "      <td>1</td>\n",
       "      <td>11</td>\n",
       "      <td>0</td>\n",
       "      <td>67.50</td>\n",
       "      <td>0</td>\n",
       "    </tr>\n",
       "    <tr>\n",
       "      <th>1</th>\n",
       "      <td>2</td>\n",
       "      <td>0</td>\n",
       "      <td>1</td>\n",
       "      <td>2</td>\n",
       "      <td>0</td>\n",
       "      <td>0</td>\n",
       "      <td>0</td>\n",
       "      <td>117</td>\n",
       "      <td>2018</td>\n",
       "      <td>7</td>\n",
       "      <td>29</td>\n",
       "      <td>0</td>\n",
       "      <td>0</td>\n",
       "      <td>0</td>\n",
       "      <td>0</td>\n",
       "      <td>72.25</td>\n",
       "      <td>0</td>\n",
       "    </tr>\n",
       "    <tr>\n",
       "      <th>2</th>\n",
       "      <td>2</td>\n",
       "      <td>0</td>\n",
       "      <td>0</td>\n",
       "      <td>1</td>\n",
       "      <td>0</td>\n",
       "      <td>0</td>\n",
       "      <td>0</td>\n",
       "      <td>315</td>\n",
       "      <td>2018</td>\n",
       "      <td>12</td>\n",
       "      <td>2</td>\n",
       "      <td>0</td>\n",
       "      <td>0</td>\n",
       "      <td>0</td>\n",
       "      <td>0</td>\n",
       "      <td>52.00</td>\n",
       "      <td>0</td>\n",
       "    </tr>\n",
       "    <tr>\n",
       "      <th>3</th>\n",
       "      <td>1</td>\n",
       "      <td>0</td>\n",
       "      <td>0</td>\n",
       "      <td>2</td>\n",
       "      <td>1</td>\n",
       "      <td>0</td>\n",
       "      <td>0</td>\n",
       "      <td>32</td>\n",
       "      <td>2018</td>\n",
       "      <td>12</td>\n",
       "      <td>1</td>\n",
       "      <td>1</td>\n",
       "      <td>0</td>\n",
       "      <td>0</td>\n",
       "      <td>0</td>\n",
       "      <td>56.00</td>\n",
       "      <td>0</td>\n",
       "    </tr>\n",
       "    <tr>\n",
       "      <th>4</th>\n",
       "      <td>2</td>\n",
       "      <td>0</td>\n",
       "      <td>1</td>\n",
       "      <td>0</td>\n",
       "      <td>0</td>\n",
       "      <td>0</td>\n",
       "      <td>0</td>\n",
       "      <td>258</td>\n",
       "      <td>2018</td>\n",
       "      <td>10</td>\n",
       "      <td>16</td>\n",
       "      <td>0</td>\n",
       "      <td>0</td>\n",
       "      <td>0</td>\n",
       "      <td>0</td>\n",
       "      <td>100.00</td>\n",
       "      <td>0</td>\n",
       "    </tr>\n",
       "  </tbody>\n",
       "</table>\n",
       "</div>"
      ],
      "text/plain": [
       "   no_of_adults  no_of_children  no_of_weekend_nights  no_of_week_nights  \\\n",
       "0             2               0                     0                  2   \n",
       "1             2               0                     1                  2   \n",
       "2             2               0                     0                  1   \n",
       "3             1               0                     0                  2   \n",
       "4             2               0                     1                  0   \n",
       "\n",
       "   type_of_meal_plan  required_car_parking_space  room_type_reserved  \\\n",
       "0                  1                           0                   0   \n",
       "1                  0                           0                   0   \n",
       "2                  0                           0                   0   \n",
       "3                  1                           0                   0   \n",
       "4                  0                           0                   0   \n",
       "\n",
       "   lead_time  arrival_year  arrival_month  arrival_date  market_segment_type  \\\n",
       "0          9          2018              1            14                    1   \n",
       "1        117          2018              7            29                    0   \n",
       "2        315          2018             12             2                    0   \n",
       "3         32          2018             12             1                    1   \n",
       "4        258          2018             10            16                    0   \n",
       "\n",
       "   repeated_guest  no_of_previous_cancellations  \\\n",
       "0               1                            11   \n",
       "1               0                             0   \n",
       "2               0                             0   \n",
       "3               0                             0   \n",
       "4               0                             0   \n",
       "\n",
       "   no_of_previous_bookings_not_canceled  avg_price_per_room  \\\n",
       "0                                     0               67.50   \n",
       "1                                     0               72.25   \n",
       "2                                     0               52.00   \n",
       "3                                     0               56.00   \n",
       "4                                     0              100.00   \n",
       "\n",
       "   no_of_special_requests  \n",
       "0                       0  \n",
       "1                       0  \n",
       "2                       0  \n",
       "3                       0  \n",
       "4                       0  "
      ]
     },
     "execution_count": 7,
     "metadata": {},
     "output_type": "execute_result"
    }
   ],
   "source": [
    "X.head()"
   ]
  },
  {
   "cell_type": "code",
   "execution_count": 9,
   "metadata": {},
   "outputs": [
    {
     "data": {
      "text/html": [
       "<div>\n",
       "<style scoped>\n",
       "    .dataframe tbody tr th:only-of-type {\n",
       "        vertical-align: middle;\n",
       "    }\n",
       "\n",
       "    .dataframe tbody tr th {\n",
       "        vertical-align: top;\n",
       "    }\n",
       "\n",
       "    .dataframe thead th {\n",
       "        text-align: right;\n",
       "    }\n",
       "</style>\n",
       "<table border=\"1\" class=\"dataframe\">\n",
       "  <thead>\n",
       "    <tr style=\"text-align: right;\">\n",
       "      <th></th>\n",
       "      <th>booking_status</th>\n",
       "    </tr>\n",
       "  </thead>\n",
       "  <tbody>\n",
       "    <tr>\n",
       "      <th>0</th>\n",
       "      <td>0</td>\n",
       "    </tr>\n",
       "    <tr>\n",
       "      <th>1</th>\n",
       "      <td>0</td>\n",
       "    </tr>\n",
       "    <tr>\n",
       "      <th>2</th>\n",
       "      <td>0</td>\n",
       "    </tr>\n",
       "    <tr>\n",
       "      <th>3</th>\n",
       "      <td>0</td>\n",
       "    </tr>\n",
       "    <tr>\n",
       "      <th>4</th>\n",
       "      <td>1</td>\n",
       "    </tr>\n",
       "  </tbody>\n",
       "</table>\n",
       "</div>"
      ],
      "text/plain": [
       "   booking_status\n",
       "0               0\n",
       "1               0\n",
       "2               0\n",
       "3               0\n",
       "4               1"
      ]
     },
     "execution_count": 9,
     "metadata": {},
     "output_type": "execute_result"
    }
   ],
   "source": [
    "Y.head()"
   ]
  },
  {
   "cell_type": "code",
   "execution_count": 10,
   "metadata": {},
   "outputs": [
    {
     "data": {
      "text/plain": [
       "booking_status\n",
       "0                 25596\n",
       "1                 16504\n",
       "Name: count, dtype: int64"
      ]
     },
     "execution_count": 10,
     "metadata": {},
     "output_type": "execute_result"
    }
   ],
   "source": [
    "Y.value_counts()"
   ]
  },
  {
   "cell_type": "markdown",
   "metadata": {},
   "source": [
    "# 0-Not CANCELLED,1-CANCELLED"
   ]
  },
  {
   "cell_type": "code",
   "execution_count": 11,
   "metadata": {},
   "outputs": [
    {
     "data": {
      "text/plain": [
       "no_of_adults                              int64\n",
       "no_of_children                            int64\n",
       "no_of_weekend_nights                      int64\n",
       "no_of_week_nights                         int64\n",
       "type_of_meal_plan                         int64\n",
       "required_car_parking_space                int64\n",
       "room_type_reserved                        int64\n",
       "lead_time                                 int64\n",
       "arrival_year                              int64\n",
       "arrival_month                             int64\n",
       "arrival_date                              int64\n",
       "market_segment_type                       int64\n",
       "repeated_guest                            int64\n",
       "no_of_previous_cancellations              int64\n",
       "no_of_previous_bookings_not_canceled      int64\n",
       "avg_price_per_room                      float64\n",
       "no_of_special_requests                    int64\n",
       "dtype: object"
      ]
     },
     "execution_count": 11,
     "metadata": {},
     "output_type": "execute_result"
    }
   ],
   "source": [
    "X.dtypes"
   ]
  },
  {
   "cell_type": "markdown",
   "metadata": {},
   "source": [
    "## Create a preprocessing pipleline for X"
   ]
  },
  {
   "cell_type": "code",
   "execution_count": 12,
   "metadata": {},
   "outputs": [],
   "source": [
    "from sklearn.pipeline import Pipeline\n",
    "from sklearn.impute import  SimpleImputer\n",
    "from sklearn.preprocessing import StandardScaler"
   ]
  },
  {
   "cell_type": "code",
   "execution_count": 13,
   "metadata": {},
   "outputs": [],
   "source": [
    "num_pipe=Pipeline(steps=[('impute',SimpleImputer(strategy='median')),\n",
    "                         ('scaler',StandardScaler())])"
   ]
  },
  {
   "cell_type": "code",
   "execution_count": 15,
   "metadata": {},
   "outputs": [
    {
     "data": {
      "text/plain": [
       "array([[ 0.15103974, -0.31345354, -0.99881361, ..., -0.10147907,\n",
       "        -0.99805198, -0.73769133],\n",
       "       [ 0.15103974, -0.31345354,  0.13025905, ..., -0.10147907,\n",
       "        -0.87015314, -0.73769133],\n",
       "       [ 0.15103974, -0.31345354, -0.99881361, ..., -0.10147907,\n",
       "        -1.41540612, -0.73769133],\n",
       "       ...,\n",
       "       [ 0.15103974, -0.31345354, -0.99881361, ..., -0.10147907,\n",
       "        -0.2306589 , -0.73769133],\n",
       "       [-1.75392524, -0.31345354, -0.99881361, ..., -0.10147907,\n",
       "         0.41556686, -0.73769133],\n",
       "       [ 0.15103974, -0.31345354,  0.13025905, ..., -0.10147907,\n",
       "        -1.06536717, -0.73769133]])"
      ]
     },
     "execution_count": 15,
     "metadata": {},
     "output_type": "execute_result"
    }
   ],
   "source": [
    "X_pre=num_pipe.fit_transform(X)\n",
    "X_pre"
   ]
  },
  {
   "cell_type": "code",
   "execution_count": 16,
   "metadata": {},
   "outputs": [
    {
     "data": {
      "text/plain": [
       "array(['no_of_adults', 'no_of_children', 'no_of_weekend_nights',\n",
       "       'no_of_week_nights', 'type_of_meal_plan',\n",
       "       'required_car_parking_space', 'room_type_reserved', 'lead_time',\n",
       "       'arrival_year', 'arrival_month', 'arrival_date',\n",
       "       'market_segment_type', 'repeated_guest',\n",
       "       'no_of_previous_cancellations',\n",
       "       'no_of_previous_bookings_not_canceled', 'avg_price_per_room',\n",
       "       'no_of_special_requests'], dtype=object)"
      ]
     },
     "execution_count": 16,
     "metadata": {},
     "output_type": "execute_result"
    }
   ],
   "source": [
    "cols=num_pipe.get_feature_names_out()\n",
    "cols"
   ]
  },
  {
   "cell_type": "code",
   "execution_count": 18,
   "metadata": {},
   "outputs": [
    {
     "data": {
      "text/html": [
       "<div>\n",
       "<style scoped>\n",
       "    .dataframe tbody tr th:only-of-type {\n",
       "        vertical-align: middle;\n",
       "    }\n",
       "\n",
       "    .dataframe tbody tr th {\n",
       "        vertical-align: top;\n",
       "    }\n",
       "\n",
       "    .dataframe thead th {\n",
       "        text-align: right;\n",
       "    }\n",
       "</style>\n",
       "<table border=\"1\" class=\"dataframe\">\n",
       "  <thead>\n",
       "    <tr style=\"text-align: right;\">\n",
       "      <th></th>\n",
       "      <th>no_of_adults</th>\n",
       "      <th>no_of_children</th>\n",
       "      <th>no_of_weekend_nights</th>\n",
       "      <th>no_of_week_nights</th>\n",
       "      <th>type_of_meal_plan</th>\n",
       "      <th>required_car_parking_space</th>\n",
       "      <th>room_type_reserved</th>\n",
       "      <th>lead_time</th>\n",
       "      <th>arrival_year</th>\n",
       "      <th>arrival_month</th>\n",
       "      <th>arrival_date</th>\n",
       "      <th>market_segment_type</th>\n",
       "      <th>repeated_guest</th>\n",
       "      <th>no_of_previous_cancellations</th>\n",
       "      <th>no_of_previous_bookings_not_canceled</th>\n",
       "      <th>avg_price_per_room</th>\n",
       "      <th>no_of_special_requests</th>\n",
       "    </tr>\n",
       "  </thead>\n",
       "  <tbody>\n",
       "    <tr>\n",
       "      <th>0</th>\n",
       "      <td>0.151040</td>\n",
       "      <td>-0.313454</td>\n",
       "      <td>-0.998814</td>\n",
       "      <td>-0.278849</td>\n",
       "      <td>1.294624</td>\n",
       "      <td>-0.160945</td>\n",
       "      <td>-0.515173</td>\n",
       "      <td>-1.170469</td>\n",
       "      <td>0.409661</td>\n",
       "      <td>-2.330398</td>\n",
       "      <td>-0.214091</td>\n",
       "      <td>0.428551</td>\n",
       "      <td>5.766758</td>\n",
       "      <td>33.699120</td>\n",
       "      <td>-0.101479</td>\n",
       "      <td>-0.998052</td>\n",
       "      <td>-0.737691</td>\n",
       "    </tr>\n",
       "    <tr>\n",
       "      <th>1</th>\n",
       "      <td>0.151040</td>\n",
       "      <td>-0.313454</td>\n",
       "      <td>0.130259</td>\n",
       "      <td>-0.278849</td>\n",
       "      <td>-0.407020</td>\n",
       "      <td>-0.160945</td>\n",
       "      <td>-0.515173</td>\n",
       "      <td>0.161740</td>\n",
       "      <td>0.409661</td>\n",
       "      <td>-0.209778</td>\n",
       "      <td>1.473487</td>\n",
       "      <td>-1.149928</td>\n",
       "      <td>-0.173408</td>\n",
       "      <td>-0.060506</td>\n",
       "      <td>-0.101479</td>\n",
       "      <td>-0.870153</td>\n",
       "      <td>-0.737691</td>\n",
       "    </tr>\n",
       "    <tr>\n",
       "      <th>2</th>\n",
       "      <td>0.151040</td>\n",
       "      <td>-0.313454</td>\n",
       "      <td>-0.998814</td>\n",
       "      <td>-0.979466</td>\n",
       "      <td>-0.407020</td>\n",
       "      <td>-0.160945</td>\n",
       "      <td>-0.515173</td>\n",
       "      <td>2.604122</td>\n",
       "      <td>0.409661</td>\n",
       "      <td>1.557404</td>\n",
       "      <td>-1.564154</td>\n",
       "      <td>-1.149928</td>\n",
       "      <td>-0.173408</td>\n",
       "      <td>-0.060506</td>\n",
       "      <td>-0.101479</td>\n",
       "      <td>-1.415406</td>\n",
       "      <td>-0.737691</td>\n",
       "    </tr>\n",
       "    <tr>\n",
       "      <th>3</th>\n",
       "      <td>-1.753925</td>\n",
       "      <td>-0.313454</td>\n",
       "      <td>-0.998814</td>\n",
       "      <td>-0.278849</td>\n",
       "      <td>1.294624</td>\n",
       "      <td>-0.160945</td>\n",
       "      <td>-0.515173</td>\n",
       "      <td>-0.886758</td>\n",
       "      <td>0.409661</td>\n",
       "      <td>1.557404</td>\n",
       "      <td>-1.676659</td>\n",
       "      <td>0.428551</td>\n",
       "      <td>-0.173408</td>\n",
       "      <td>-0.060506</td>\n",
       "      <td>-0.101479</td>\n",
       "      <td>-1.307702</td>\n",
       "      <td>-0.737691</td>\n",
       "    </tr>\n",
       "    <tr>\n",
       "      <th>4</th>\n",
       "      <td>0.151040</td>\n",
       "      <td>-0.313454</td>\n",
       "      <td>0.130259</td>\n",
       "      <td>-1.680084</td>\n",
       "      <td>-0.407020</td>\n",
       "      <td>-0.160945</td>\n",
       "      <td>-0.515173</td>\n",
       "      <td>1.901012</td>\n",
       "      <td>0.409661</td>\n",
       "      <td>0.850531</td>\n",
       "      <td>0.010919</td>\n",
       "      <td>-1.149928</td>\n",
       "      <td>-0.173408</td>\n",
       "      <td>-0.060506</td>\n",
       "      <td>-0.101479</td>\n",
       "      <td>-0.122955</td>\n",
       "      <td>-0.737691</td>\n",
       "    </tr>\n",
       "  </tbody>\n",
       "</table>\n",
       "</div>"
      ],
      "text/plain": [
       "   no_of_adults  no_of_children  no_of_weekend_nights  no_of_week_nights  \\\n",
       "0      0.151040       -0.313454             -0.998814          -0.278849   \n",
       "1      0.151040       -0.313454              0.130259          -0.278849   \n",
       "2      0.151040       -0.313454             -0.998814          -0.979466   \n",
       "3     -1.753925       -0.313454             -0.998814          -0.278849   \n",
       "4      0.151040       -0.313454              0.130259          -1.680084   \n",
       "\n",
       "   type_of_meal_plan  required_car_parking_space  room_type_reserved  \\\n",
       "0           1.294624                   -0.160945           -0.515173   \n",
       "1          -0.407020                   -0.160945           -0.515173   \n",
       "2          -0.407020                   -0.160945           -0.515173   \n",
       "3           1.294624                   -0.160945           -0.515173   \n",
       "4          -0.407020                   -0.160945           -0.515173   \n",
       "\n",
       "   lead_time  arrival_year  arrival_month  arrival_date  market_segment_type  \\\n",
       "0  -1.170469      0.409661      -2.330398     -0.214091             0.428551   \n",
       "1   0.161740      0.409661      -0.209778      1.473487            -1.149928   \n",
       "2   2.604122      0.409661       1.557404     -1.564154            -1.149928   \n",
       "3  -0.886758      0.409661       1.557404     -1.676659             0.428551   \n",
       "4   1.901012      0.409661       0.850531      0.010919            -1.149928   \n",
       "\n",
       "   repeated_guest  no_of_previous_cancellations  \\\n",
       "0        5.766758                     33.699120   \n",
       "1       -0.173408                     -0.060506   \n",
       "2       -0.173408                     -0.060506   \n",
       "3       -0.173408                     -0.060506   \n",
       "4       -0.173408                     -0.060506   \n",
       "\n",
       "   no_of_previous_bookings_not_canceled  avg_price_per_room  \\\n",
       "0                             -0.101479           -0.998052   \n",
       "1                             -0.101479           -0.870153   \n",
       "2                             -0.101479           -1.415406   \n",
       "3                             -0.101479           -1.307702   \n",
       "4                             -0.101479           -0.122955   \n",
       "\n",
       "   no_of_special_requests  \n",
       "0               -0.737691  \n",
       "1               -0.737691  \n",
       "2               -0.737691  \n",
       "3               -0.737691  \n",
       "4               -0.737691  "
      ]
     },
     "execution_count": 18,
     "metadata": {},
     "output_type": "execute_result"
    }
   ],
   "source": [
    "X_pre=pd.DataFrame(X_pre,columns=cols)\n",
    "X_pre.head()"
   ]
  },
  {
   "cell_type": "markdown",
   "metadata": {},
   "source": [
    "## Apply Train Test Split"
   ]
  },
  {
   "cell_type": "code",
   "execution_count": 19,
   "metadata": {},
   "outputs": [],
   "source": [
    "from sklearn.model_selection import train_test_split\n",
    "xtrain,xtest,ytrain,ytest=train_test_split(X_pre,Y,test_size=0.2,random_state=42)"
   ]
  },
  {
   "cell_type": "code",
   "execution_count": 20,
   "metadata": {},
   "outputs": [
    {
     "data": {
      "text/html": [
       "<div>\n",
       "<style scoped>\n",
       "    .dataframe tbody tr th:only-of-type {\n",
       "        vertical-align: middle;\n",
       "    }\n",
       "\n",
       "    .dataframe tbody tr th {\n",
       "        vertical-align: top;\n",
       "    }\n",
       "\n",
       "    .dataframe thead th {\n",
       "        text-align: right;\n",
       "    }\n",
       "</style>\n",
       "<table border=\"1\" class=\"dataframe\">\n",
       "  <thead>\n",
       "    <tr style=\"text-align: right;\">\n",
       "      <th></th>\n",
       "      <th>no_of_adults</th>\n",
       "      <th>no_of_children</th>\n",
       "      <th>no_of_weekend_nights</th>\n",
       "      <th>no_of_week_nights</th>\n",
       "      <th>type_of_meal_plan</th>\n",
       "      <th>required_car_parking_space</th>\n",
       "      <th>room_type_reserved</th>\n",
       "      <th>lead_time</th>\n",
       "      <th>arrival_year</th>\n",
       "      <th>arrival_month</th>\n",
       "      <th>arrival_date</th>\n",
       "      <th>market_segment_type</th>\n",
       "      <th>repeated_guest</th>\n",
       "      <th>no_of_previous_cancellations</th>\n",
       "      <th>no_of_previous_bookings_not_canceled</th>\n",
       "      <th>avg_price_per_room</th>\n",
       "      <th>no_of_special_requests</th>\n",
       "    </tr>\n",
       "  </thead>\n",
       "  <tbody>\n",
       "    <tr>\n",
       "      <th>15559</th>\n",
       "      <td>0.151040</td>\n",
       "      <td>-0.313454</td>\n",
       "      <td>-0.998814</td>\n",
       "      <td>0.421768</td>\n",
       "      <td>-0.407020</td>\n",
       "      <td>-0.160945</td>\n",
       "      <td>0.685890</td>\n",
       "      <td>-0.479694</td>\n",
       "      <td>0.409661</td>\n",
       "      <td>1.203968</td>\n",
       "      <td>-1.564154</td>\n",
       "      <td>-1.149928</td>\n",
       "      <td>-0.173408</td>\n",
       "      <td>-0.060506</td>\n",
       "      <td>-0.101479</td>\n",
       "      <td>-1.199998</td>\n",
       "      <td>1.842849</td>\n",
       "    </tr>\n",
       "    <tr>\n",
       "      <th>32783</th>\n",
       "      <td>0.151040</td>\n",
       "      <td>-0.313454</td>\n",
       "      <td>0.130259</td>\n",
       "      <td>1.122386</td>\n",
       "      <td>-0.407020</td>\n",
       "      <td>-0.160945</td>\n",
       "      <td>0.685890</td>\n",
       "      <td>-0.381012</td>\n",
       "      <td>0.409661</td>\n",
       "      <td>1.557404</td>\n",
       "      <td>1.135971</td>\n",
       "      <td>0.428551</td>\n",
       "      <td>-0.173408</td>\n",
       "      <td>-0.060506</td>\n",
       "      <td>-0.101479</td>\n",
       "      <td>0.189388</td>\n",
       "      <td>0.552579</td>\n",
       "    </tr>\n",
       "    <tr>\n",
       "      <th>11797</th>\n",
       "      <td>2.056005</td>\n",
       "      <td>-0.313454</td>\n",
       "      <td>-0.998814</td>\n",
       "      <td>0.421768</td>\n",
       "      <td>-0.407020</td>\n",
       "      <td>-0.160945</td>\n",
       "      <td>0.685890</td>\n",
       "      <td>-0.282330</td>\n",
       "      <td>0.409661</td>\n",
       "      <td>0.497095</td>\n",
       "      <td>-0.889123</td>\n",
       "      <td>0.428551</td>\n",
       "      <td>-0.173408</td>\n",
       "      <td>-0.060506</td>\n",
       "      <td>-0.101479</td>\n",
       "      <td>1.716096</td>\n",
       "      <td>-0.737691</td>\n",
       "    </tr>\n",
       "    <tr>\n",
       "      <th>39750</th>\n",
       "      <td>0.151040</td>\n",
       "      <td>-0.313454</td>\n",
       "      <td>-0.998814</td>\n",
       "      <td>-0.979466</td>\n",
       "      <td>2.996268</td>\n",
       "      <td>-0.160945</td>\n",
       "      <td>-0.515173</td>\n",
       "      <td>1.444607</td>\n",
       "      <td>0.409661</td>\n",
       "      <td>0.143658</td>\n",
       "      <td>-0.439102</td>\n",
       "      <td>-1.149928</td>\n",
       "      <td>-0.173408</td>\n",
       "      <td>-0.060506</td>\n",
       "      <td>-0.101479</td>\n",
       "      <td>0.280936</td>\n",
       "      <td>0.552579</td>\n",
       "    </tr>\n",
       "    <tr>\n",
       "      <th>28711</th>\n",
       "      <td>0.151040</td>\n",
       "      <td>-0.313454</td>\n",
       "      <td>1.259332</td>\n",
       "      <td>0.421768</td>\n",
       "      <td>-0.407020</td>\n",
       "      <td>-0.160945</td>\n",
       "      <td>0.685890</td>\n",
       "      <td>-0.109636</td>\n",
       "      <td>0.409661</td>\n",
       "      <td>0.850531</td>\n",
       "      <td>-1.001628</td>\n",
       "      <td>0.428551</td>\n",
       "      <td>-0.173408</td>\n",
       "      <td>-0.060506</td>\n",
       "      <td>-0.101479</td>\n",
       "      <td>0.746758</td>\n",
       "      <td>-0.737691</td>\n",
       "    </tr>\n",
       "  </tbody>\n",
       "</table>\n",
       "</div>"
      ],
      "text/plain": [
       "       no_of_adults  no_of_children  no_of_weekend_nights  no_of_week_nights  \\\n",
       "15559      0.151040       -0.313454             -0.998814           0.421768   \n",
       "32783      0.151040       -0.313454              0.130259           1.122386   \n",
       "11797      2.056005       -0.313454             -0.998814           0.421768   \n",
       "39750      0.151040       -0.313454             -0.998814          -0.979466   \n",
       "28711      0.151040       -0.313454              1.259332           0.421768   \n",
       "\n",
       "       type_of_meal_plan  required_car_parking_space  room_type_reserved  \\\n",
       "15559          -0.407020                   -0.160945            0.685890   \n",
       "32783          -0.407020                   -0.160945            0.685890   \n",
       "11797          -0.407020                   -0.160945            0.685890   \n",
       "39750           2.996268                   -0.160945           -0.515173   \n",
       "28711          -0.407020                   -0.160945            0.685890   \n",
       "\n",
       "       lead_time  arrival_year  arrival_month  arrival_date  \\\n",
       "15559  -0.479694      0.409661       1.203968     -1.564154   \n",
       "32783  -0.381012      0.409661       1.557404      1.135971   \n",
       "11797  -0.282330      0.409661       0.497095     -0.889123   \n",
       "39750   1.444607      0.409661       0.143658     -0.439102   \n",
       "28711  -0.109636      0.409661       0.850531     -1.001628   \n",
       "\n",
       "       market_segment_type  repeated_guest  no_of_previous_cancellations  \\\n",
       "15559            -1.149928       -0.173408                     -0.060506   \n",
       "32783             0.428551       -0.173408                     -0.060506   \n",
       "11797             0.428551       -0.173408                     -0.060506   \n",
       "39750            -1.149928       -0.173408                     -0.060506   \n",
       "28711             0.428551       -0.173408                     -0.060506   \n",
       "\n",
       "       no_of_previous_bookings_not_canceled  avg_price_per_room  \\\n",
       "15559                             -0.101479           -1.199998   \n",
       "32783                             -0.101479            0.189388   \n",
       "11797                             -0.101479            1.716096   \n",
       "39750                             -0.101479            0.280936   \n",
       "28711                             -0.101479            0.746758   \n",
       "\n",
       "       no_of_special_requests  \n",
       "15559                1.842849  \n",
       "32783                0.552579  \n",
       "11797               -0.737691  \n",
       "39750                0.552579  \n",
       "28711               -0.737691  "
      ]
     },
     "execution_count": 20,
     "metadata": {},
     "output_type": "execute_result"
    }
   ],
   "source": [
    "xtrain.head()"
   ]
  },
  {
   "cell_type": "code",
   "execution_count": 21,
   "metadata": {},
   "outputs": [
    {
     "data": {
      "text/html": [
       "<div>\n",
       "<style scoped>\n",
       "    .dataframe tbody tr th:only-of-type {\n",
       "        vertical-align: middle;\n",
       "    }\n",
       "\n",
       "    .dataframe tbody tr th {\n",
       "        vertical-align: top;\n",
       "    }\n",
       "\n",
       "    .dataframe thead th {\n",
       "        text-align: right;\n",
       "    }\n",
       "</style>\n",
       "<table border=\"1\" class=\"dataframe\">\n",
       "  <thead>\n",
       "    <tr style=\"text-align: right;\">\n",
       "      <th></th>\n",
       "      <th>booking_status</th>\n",
       "    </tr>\n",
       "  </thead>\n",
       "  <tbody>\n",
       "    <tr>\n",
       "      <th>15559</th>\n",
       "      <td>0</td>\n",
       "    </tr>\n",
       "    <tr>\n",
       "      <th>32783</th>\n",
       "      <td>0</td>\n",
       "    </tr>\n",
       "    <tr>\n",
       "      <th>11797</th>\n",
       "      <td>1</td>\n",
       "    </tr>\n",
       "    <tr>\n",
       "      <th>39750</th>\n",
       "      <td>1</td>\n",
       "    </tr>\n",
       "    <tr>\n",
       "      <th>28711</th>\n",
       "      <td>1</td>\n",
       "    </tr>\n",
       "  </tbody>\n",
       "</table>\n",
       "</div>"
      ],
      "text/plain": [
       "       booking_status\n",
       "15559               0\n",
       "32783               0\n",
       "11797               1\n",
       "39750               1\n",
       "28711               1"
      ]
     },
     "execution_count": 21,
     "metadata": {},
     "output_type": "execute_result"
    }
   ],
   "source": [
    "ytrain.head()"
   ]
  },
  {
   "cell_type": "code",
   "execution_count": 22,
   "metadata": {},
   "outputs": [
    {
     "data": {
      "text/html": [
       "<div>\n",
       "<style scoped>\n",
       "    .dataframe tbody tr th:only-of-type {\n",
       "        vertical-align: middle;\n",
       "    }\n",
       "\n",
       "    .dataframe tbody tr th {\n",
       "        vertical-align: top;\n",
       "    }\n",
       "\n",
       "    .dataframe thead th {\n",
       "        text-align: right;\n",
       "    }\n",
       "</style>\n",
       "<table border=\"1\" class=\"dataframe\">\n",
       "  <thead>\n",
       "    <tr style=\"text-align: right;\">\n",
       "      <th></th>\n",
       "      <th>no_of_adults</th>\n",
       "      <th>no_of_children</th>\n",
       "      <th>no_of_weekend_nights</th>\n",
       "      <th>no_of_week_nights</th>\n",
       "      <th>type_of_meal_plan</th>\n",
       "      <th>required_car_parking_space</th>\n",
       "      <th>room_type_reserved</th>\n",
       "      <th>lead_time</th>\n",
       "      <th>arrival_year</th>\n",
       "      <th>arrival_month</th>\n",
       "      <th>arrival_date</th>\n",
       "      <th>market_segment_type</th>\n",
       "      <th>repeated_guest</th>\n",
       "      <th>no_of_previous_cancellations</th>\n",
       "      <th>no_of_previous_bookings_not_canceled</th>\n",
       "      <th>avg_price_per_room</th>\n",
       "      <th>no_of_special_requests</th>\n",
       "    </tr>\n",
       "  </thead>\n",
       "  <tbody>\n",
       "    <tr>\n",
       "      <th>8768</th>\n",
       "      <td>0.15104</td>\n",
       "      <td>-0.313454</td>\n",
       "      <td>-0.998814</td>\n",
       "      <td>0.421768</td>\n",
       "      <td>-0.40702</td>\n",
       "      <td>-0.160945</td>\n",
       "      <td>-0.515173</td>\n",
       "      <td>-0.566041</td>\n",
       "      <td>0.409661</td>\n",
       "      <td>-2.330398</td>\n",
       "      <td>1.135971</td>\n",
       "      <td>-1.149928</td>\n",
       "      <td>-0.173408</td>\n",
       "      <td>-0.060506</td>\n",
       "      <td>-0.101479</td>\n",
       "      <td>-0.643436</td>\n",
       "      <td>0.552579</td>\n",
       "    </tr>\n",
       "    <tr>\n",
       "      <th>38340</th>\n",
       "      <td>0.15104</td>\n",
       "      <td>-0.313454</td>\n",
       "      <td>-0.998814</td>\n",
       "      <td>-0.278849</td>\n",
       "      <td>-0.40702</td>\n",
       "      <td>-0.160945</td>\n",
       "      <td>-0.515173</td>\n",
       "      <td>1.481613</td>\n",
       "      <td>0.409661</td>\n",
       "      <td>0.143658</td>\n",
       "      <td>-1.564154</td>\n",
       "      <td>0.428551</td>\n",
       "      <td>-0.173408</td>\n",
       "      <td>-0.060506</td>\n",
       "      <td>-0.101479</td>\n",
       "      <td>-0.285588</td>\n",
       "      <td>-0.737691</td>\n",
       "    </tr>\n",
       "    <tr>\n",
       "      <th>7104</th>\n",
       "      <td>0.15104</td>\n",
       "      <td>-0.313454</td>\n",
       "      <td>1.259332</td>\n",
       "      <td>-0.979466</td>\n",
       "      <td>-0.40702</td>\n",
       "      <td>-0.160945</td>\n",
       "      <td>4.289080</td>\n",
       "      <td>-0.553706</td>\n",
       "      <td>0.409661</td>\n",
       "      <td>-1.623525</td>\n",
       "      <td>1.023466</td>\n",
       "      <td>0.428551</td>\n",
       "      <td>-0.173408</td>\n",
       "      <td>-0.060506</td>\n",
       "      <td>-0.101479</td>\n",
       "      <td>0.002252</td>\n",
       "      <td>-0.737691</td>\n",
       "    </tr>\n",
       "    <tr>\n",
       "      <th>36898</th>\n",
       "      <td>0.15104</td>\n",
       "      <td>1.908162</td>\n",
       "      <td>1.259332</td>\n",
       "      <td>1.122386</td>\n",
       "      <td>-0.40702</td>\n",
       "      <td>-0.160945</td>\n",
       "      <td>-0.515173</td>\n",
       "      <td>-0.566041</td>\n",
       "      <td>0.409661</td>\n",
       "      <td>1.203968</td>\n",
       "      <td>-0.551607</td>\n",
       "      <td>0.428551</td>\n",
       "      <td>-0.173408</td>\n",
       "      <td>-0.060506</td>\n",
       "      <td>-0.101479</td>\n",
       "      <td>0.541312</td>\n",
       "      <td>3.133119</td>\n",
       "    </tr>\n",
       "    <tr>\n",
       "      <th>9747</th>\n",
       "      <td>0.15104</td>\n",
       "      <td>-0.313454</td>\n",
       "      <td>1.259332</td>\n",
       "      <td>0.421768</td>\n",
       "      <td>-0.40702</td>\n",
       "      <td>-0.160945</td>\n",
       "      <td>-0.515173</td>\n",
       "      <td>0.507127</td>\n",
       "      <td>0.409661</td>\n",
       "      <td>-1.270088</td>\n",
       "      <td>1.585992</td>\n",
       "      <td>0.428551</td>\n",
       "      <td>-0.173408</td>\n",
       "      <td>-0.060506</td>\n",
       "      <td>-0.101479</td>\n",
       "      <td>-0.366636</td>\n",
       "      <td>0.552579</td>\n",
       "    </tr>\n",
       "  </tbody>\n",
       "</table>\n",
       "</div>"
      ],
      "text/plain": [
       "       no_of_adults  no_of_children  no_of_weekend_nights  no_of_week_nights  \\\n",
       "8768        0.15104       -0.313454             -0.998814           0.421768   \n",
       "38340       0.15104       -0.313454             -0.998814          -0.278849   \n",
       "7104        0.15104       -0.313454              1.259332          -0.979466   \n",
       "36898       0.15104        1.908162              1.259332           1.122386   \n",
       "9747        0.15104       -0.313454              1.259332           0.421768   \n",
       "\n",
       "       type_of_meal_plan  required_car_parking_space  room_type_reserved  \\\n",
       "8768            -0.40702                   -0.160945           -0.515173   \n",
       "38340           -0.40702                   -0.160945           -0.515173   \n",
       "7104            -0.40702                   -0.160945            4.289080   \n",
       "36898           -0.40702                   -0.160945           -0.515173   \n",
       "9747            -0.40702                   -0.160945           -0.515173   \n",
       "\n",
       "       lead_time  arrival_year  arrival_month  arrival_date  \\\n",
       "8768   -0.566041      0.409661      -2.330398      1.135971   \n",
       "38340   1.481613      0.409661       0.143658     -1.564154   \n",
       "7104   -0.553706      0.409661      -1.623525      1.023466   \n",
       "36898  -0.566041      0.409661       1.203968     -0.551607   \n",
       "9747    0.507127      0.409661      -1.270088      1.585992   \n",
       "\n",
       "       market_segment_type  repeated_guest  no_of_previous_cancellations  \\\n",
       "8768             -1.149928       -0.173408                     -0.060506   \n",
       "38340             0.428551       -0.173408                     -0.060506   \n",
       "7104              0.428551       -0.173408                     -0.060506   \n",
       "36898             0.428551       -0.173408                     -0.060506   \n",
       "9747              0.428551       -0.173408                     -0.060506   \n",
       "\n",
       "       no_of_previous_bookings_not_canceled  avg_price_per_room  \\\n",
       "8768                              -0.101479           -0.643436   \n",
       "38340                             -0.101479           -0.285588   \n",
       "7104                              -0.101479            0.002252   \n",
       "36898                             -0.101479            0.541312   \n",
       "9747                              -0.101479           -0.366636   \n",
       "\n",
       "       no_of_special_requests  \n",
       "8768                 0.552579  \n",
       "38340               -0.737691  \n",
       "7104                -0.737691  \n",
       "36898                3.133119  \n",
       "9747                 0.552579  "
      ]
     },
     "execution_count": 22,
     "metadata": {},
     "output_type": "execute_result"
    }
   ],
   "source": [
    "xtest.head()"
   ]
  },
  {
   "cell_type": "code",
   "execution_count": 23,
   "metadata": {},
   "outputs": [
    {
     "data": {
      "text/html": [
       "<div>\n",
       "<style scoped>\n",
       "    .dataframe tbody tr th:only-of-type {\n",
       "        vertical-align: middle;\n",
       "    }\n",
       "\n",
       "    .dataframe tbody tr th {\n",
       "        vertical-align: top;\n",
       "    }\n",
       "\n",
       "    .dataframe thead th {\n",
       "        text-align: right;\n",
       "    }\n",
       "</style>\n",
       "<table border=\"1\" class=\"dataframe\">\n",
       "  <thead>\n",
       "    <tr style=\"text-align: right;\">\n",
       "      <th></th>\n",
       "      <th>booking_status</th>\n",
       "    </tr>\n",
       "  </thead>\n",
       "  <tbody>\n",
       "    <tr>\n",
       "      <th>8768</th>\n",
       "      <td>0</td>\n",
       "    </tr>\n",
       "    <tr>\n",
       "      <th>38340</th>\n",
       "      <td>1</td>\n",
       "    </tr>\n",
       "    <tr>\n",
       "      <th>7104</th>\n",
       "      <td>0</td>\n",
       "    </tr>\n",
       "    <tr>\n",
       "      <th>36898</th>\n",
       "      <td>0</td>\n",
       "    </tr>\n",
       "    <tr>\n",
       "      <th>9747</th>\n",
       "      <td>0</td>\n",
       "    </tr>\n",
       "  </tbody>\n",
       "</table>\n",
       "</div>"
      ],
      "text/plain": [
       "       booking_status\n",
       "8768                0\n",
       "38340               1\n",
       "7104                0\n",
       "36898               0\n",
       "9747                0"
      ]
     },
     "execution_count": 23,
     "metadata": {},
     "output_type": "execute_result"
    }
   ],
   "source": [
    "ytest.head()"
   ]
  },
  {
   "cell_type": "code",
   "execution_count": 24,
   "metadata": {},
   "outputs": [
    {
     "data": {
      "text/plain": [
       "(33680, 17)"
      ]
     },
     "execution_count": 24,
     "metadata": {},
     "output_type": "execute_result"
    }
   ],
   "source": [
    "xtrain.shape"
   ]
  },
  {
   "cell_type": "code",
   "execution_count": 25,
   "metadata": {},
   "outputs": [
    {
     "data": {
      "text/plain": [
       "(8420, 17)"
      ]
     },
     "execution_count": 25,
     "metadata": {},
     "output_type": "execute_result"
    }
   ],
   "source": [
    "xtest.shape"
   ]
  },
  {
   "cell_type": "code",
   "execution_count": 26,
   "metadata": {},
   "outputs": [
    {
     "data": {
      "text/plain": [
       "17"
      ]
     },
     "execution_count": 26,
     "metadata": {},
     "output_type": "execute_result"
    }
   ],
   "source": [
    "xtrain.shape[1]"
   ]
  },
  {
   "cell_type": "markdown",
   "metadata": {},
   "source": [
    "## Create a neural network"
   ]
  },
  {
   "cell_type": "code",
   "execution_count": 27,
   "metadata": {},
   "outputs": [],
   "source": [
    "from keras.models import Sequential\n",
    "from keras.layers import Dense,Dropout"
   ]
  },
  {
   "cell_type": "code",
   "execution_count": 30,
   "metadata": {},
   "outputs": [],
   "source": [
    "model=Sequential()\n",
    "\n",
    "#Hidden layer 1 with 17 input neurons\n",
    "model.add(Dense(64,activation='relu',input_dim=xtrain.shape[1]))\n",
    "model.add(Dropout(0.4))\n",
    "\n",
    "#Hidden layer 2\n",
    "model.add(Dense(32,activation='relu'))\n",
    "model.add(Dropout(0.3))\n",
    "\n",
    "#output layer binary classification -Sigmoid\n",
    "model.add(Dense(1,activation='sigmoid'))"
   ]
  },
  {
   "cell_type": "code",
   "execution_count": 31,
   "metadata": {},
   "outputs": [
    {
     "name": "stdout",
     "output_type": "stream",
     "text": [
      "Model: \"sequential_1\"\n",
      "_________________________________________________________________\n",
      " Layer (type)                Output Shape              Param #   \n",
      "=================================================================\n",
      " dense_2 (Dense)             (None, 64)                1152      \n",
      "                                                                 \n",
      " dropout_2 (Dropout)         (None, 64)                0         \n",
      "                                                                 \n",
      " dense_3 (Dense)             (None, 32)                2080      \n",
      "                                                                 \n",
      " dropout_3 (Dropout)         (None, 32)                0         \n",
      "                                                                 \n",
      " dense_4 (Dense)             (None, 1)                 33        \n",
      "                                                                 \n",
      "=================================================================\n",
      "Total params: 3265 (12.75 KB)\n",
      "Trainable params: 3265 (12.75 KB)\n",
      "Non-trainable params: 0 (0.00 Byte)\n",
      "_________________________________________________________________\n"
     ]
    }
   ],
   "source": [
    "model.summary()"
   ]
  },
  {
   "cell_type": "markdown",
   "metadata": {},
   "source": [
    "## Compile the model\n"
   ]
  },
  {
   "cell_type": "code",
   "execution_count": 32,
   "metadata": {},
   "outputs": [
    {
     "name": "stdout",
     "output_type": "stream",
     "text": [
      "WARNING:tensorflow:From c:\\Deep Learning\\repository\\venv\\Lib\\site-packages\\keras\\src\\optimizers\\__init__.py:309: The name tf.train.Optimizer is deprecated. Please use tf.compat.v1.train.Optimizer instead.\n",
      "\n"
     ]
    }
   ],
   "source": [
    "model.compile(optimizer='adam',loss='binary_crossentropy',metrics=['accuracy'])\n"
   ]
  },
  {
   "cell_type": "markdown",
   "metadata": {},
   "source": [
    "## Fit your model"
   ]
  },
  {
   "cell_type": "code",
   "execution_count": 33,
   "metadata": {},
   "outputs": [
    {
     "name": "stdout",
     "output_type": "stream",
     "text": [
      "Epoch 1/100\n",
      "WARNING:tensorflow:From c:\\Deep Learning\\repository\\venv\\Lib\\site-packages\\keras\\src\\utils\\tf_utils.py:492: The name tf.ragged.RaggedTensorValue is deprecated. Please use tf.compat.v1.ragged.RaggedTensorValue instead.\n",
      "\n",
      "WARNING:tensorflow:From c:\\Deep Learning\\repository\\venv\\Lib\\site-packages\\keras\\src\\engine\\base_layer_utils.py:384: The name tf.executing_eagerly_outside_functions is deprecated. Please use tf.compat.v1.executing_eagerly_outside_functions instead.\n",
      "\n",
      "842/842 [==============================] - 3s 2ms/step - loss: 0.5265 - accuracy: 0.7362 - val_loss: 0.4838 - val_accuracy: 0.7669\n",
      "Epoch 2/100\n",
      "842/842 [==============================] - 1s 1ms/step - loss: 0.4885 - accuracy: 0.7668 - val_loss: 0.4738 - val_accuracy: 0.7766\n",
      "Epoch 3/100\n",
      "842/842 [==============================] - 1s 2ms/step - loss: 0.4790 - accuracy: 0.7752 - val_loss: 0.4703 - val_accuracy: 0.7810\n",
      "Epoch 4/100\n",
      "842/842 [==============================] - 1s 1ms/step - loss: 0.4727 - accuracy: 0.7821 - val_loss: 0.4684 - val_accuracy: 0.7803\n",
      "Epoch 5/100\n",
      "842/842 [==============================] - 1s 2ms/step - loss: 0.4688 - accuracy: 0.7824 - val_loss: 0.4651 - val_accuracy: 0.7883\n",
      "Epoch 6/100\n",
      "842/842 [==============================] - 1s 1ms/step - loss: 0.4690 - accuracy: 0.7811 - val_loss: 0.4652 - val_accuracy: 0.7905\n",
      "Epoch 7/100\n",
      "842/842 [==============================] - 1s 1ms/step - loss: 0.4636 - accuracy: 0.7873 - val_loss: 0.4613 - val_accuracy: 0.7916\n",
      "Epoch 8/100\n",
      "842/842 [==============================] - 1s 1ms/step - loss: 0.4611 - accuracy: 0.7878 - val_loss: 0.4615 - val_accuracy: 0.7913\n",
      "Epoch 9/100\n",
      "842/842 [==============================] - 1s 1ms/step - loss: 0.4610 - accuracy: 0.7880 - val_loss: 0.4603 - val_accuracy: 0.7907\n",
      "Epoch 10/100\n",
      "842/842 [==============================] - 1s 1ms/step - loss: 0.4601 - accuracy: 0.7880 - val_loss: 0.4582 - val_accuracy: 0.7907\n",
      "Epoch 11/100\n",
      "842/842 [==============================] - 1s 1ms/step - loss: 0.4587 - accuracy: 0.7879 - val_loss: 0.4568 - val_accuracy: 0.7929\n",
      "Epoch 12/100\n",
      "842/842 [==============================] - 1s 1ms/step - loss: 0.4561 - accuracy: 0.7910 - val_loss: 0.4551 - val_accuracy: 0.7936\n",
      "Epoch 13/100\n",
      "842/842 [==============================] - 1s 1ms/step - loss: 0.4576 - accuracy: 0.7906 - val_loss: 0.4576 - val_accuracy: 0.7947\n",
      "Epoch 14/100\n",
      "842/842 [==============================] - 1s 1ms/step - loss: 0.4551 - accuracy: 0.7923 - val_loss: 0.4554 - val_accuracy: 0.7936\n",
      "Epoch 15/100\n",
      "842/842 [==============================] - 1s 1ms/step - loss: 0.4532 - accuracy: 0.7922 - val_loss: 0.4559 - val_accuracy: 0.7957\n",
      "Epoch 16/100\n",
      "842/842 [==============================] - 1s 1ms/step - loss: 0.4539 - accuracy: 0.7913 - val_loss: 0.4558 - val_accuracy: 0.7936\n",
      "Epoch 17/100\n",
      "842/842 [==============================] - 1s 1ms/step - loss: 0.4537 - accuracy: 0.7916 - val_loss: 0.4558 - val_accuracy: 0.7956\n",
      "Epoch 18/100\n",
      "842/842 [==============================] - 1s 1ms/step - loss: 0.4529 - accuracy: 0.7922 - val_loss: 0.4542 - val_accuracy: 0.7982\n",
      "Epoch 19/100\n",
      "842/842 [==============================] - 1s 1ms/step - loss: 0.4522 - accuracy: 0.7943 - val_loss: 0.4518 - val_accuracy: 0.7991\n",
      "Epoch 20/100\n",
      "842/842 [==============================] - 1s 1ms/step - loss: 0.4499 - accuracy: 0.7945 - val_loss: 0.4527 - val_accuracy: 0.8002\n",
      "Epoch 21/100\n",
      "842/842 [==============================] - 1s 1ms/step - loss: 0.4514 - accuracy: 0.7942 - val_loss: 0.4510 - val_accuracy: 0.7974\n",
      "Epoch 22/100\n",
      "842/842 [==============================] - 1s 1ms/step - loss: 0.4489 - accuracy: 0.7968 - val_loss: 0.4507 - val_accuracy: 0.7982\n",
      "Epoch 23/100\n",
      "842/842 [==============================] - 1s 1ms/step - loss: 0.4503 - accuracy: 0.7949 - val_loss: 0.4496 - val_accuracy: 0.7988\n",
      "Epoch 24/100\n",
      "842/842 [==============================] - 1s 1ms/step - loss: 0.4493 - accuracy: 0.7952 - val_loss: 0.4487 - val_accuracy: 0.8002\n",
      "Epoch 25/100\n",
      "842/842 [==============================] - 1s 1ms/step - loss: 0.4496 - accuracy: 0.7959 - val_loss: 0.4498 - val_accuracy: 0.7975\n",
      "Epoch 26/100\n",
      "842/842 [==============================] - 1s 1ms/step - loss: 0.4483 - accuracy: 0.7943 - val_loss: 0.4501 - val_accuracy: 0.7991\n",
      "Epoch 27/100\n",
      "842/842 [==============================] - 1s 1ms/step - loss: 0.4470 - accuracy: 0.7976 - val_loss: 0.4486 - val_accuracy: 0.8005\n",
      "Epoch 28/100\n",
      "842/842 [==============================] - 1s 1ms/step - loss: 0.4453 - accuracy: 0.7977 - val_loss: 0.4485 - val_accuracy: 0.8008\n",
      "Epoch 29/100\n",
      "842/842 [==============================] - 1s 1ms/step - loss: 0.4477 - accuracy: 0.7996 - val_loss: 0.4487 - val_accuracy: 0.8011\n",
      "Epoch 30/100\n",
      "842/842 [==============================] - 1s 1ms/step - loss: 0.4455 - accuracy: 0.8004 - val_loss: 0.4463 - val_accuracy: 0.8029\n",
      "Epoch 31/100\n",
      "842/842 [==============================] - 1s 1ms/step - loss: 0.4445 - accuracy: 0.8002 - val_loss: 0.4479 - val_accuracy: 0.7997\n",
      "Epoch 32/100\n",
      "842/842 [==============================] - 1s 1ms/step - loss: 0.4477 - accuracy: 0.7961 - val_loss: 0.4467 - val_accuracy: 0.8029\n",
      "Epoch 33/100\n",
      "842/842 [==============================] - 1s 1ms/step - loss: 0.4434 - accuracy: 0.8001 - val_loss: 0.4505 - val_accuracy: 0.7965\n",
      "Epoch 34/100\n",
      "842/842 [==============================] - 1s 1ms/step - loss: 0.4438 - accuracy: 0.7984 - val_loss: 0.4475 - val_accuracy: 0.7999\n",
      "Epoch 35/100\n",
      "842/842 [==============================] - 1s 1ms/step - loss: 0.4440 - accuracy: 0.8002 - val_loss: 0.4452 - val_accuracy: 0.8024\n",
      "Epoch 36/100\n",
      "842/842 [==============================] - 1s 1ms/step - loss: 0.4419 - accuracy: 0.7994 - val_loss: 0.4474 - val_accuracy: 0.7997\n",
      "Epoch 37/100\n",
      "842/842 [==============================] - 1s 1ms/step - loss: 0.4438 - accuracy: 0.8007 - val_loss: 0.4460 - val_accuracy: 0.8002\n",
      "Epoch 38/100\n",
      "842/842 [==============================] - 1s 1ms/step - loss: 0.4424 - accuracy: 0.8007 - val_loss: 0.4470 - val_accuracy: 0.7991\n",
      "Epoch 39/100\n",
      "842/842 [==============================] - 1s 1ms/step - loss: 0.4423 - accuracy: 0.8009 - val_loss: 0.4444 - val_accuracy: 0.8018\n",
      "Epoch 40/100\n",
      "842/842 [==============================] - 1s 1ms/step - loss: 0.4415 - accuracy: 0.8008 - val_loss: 0.4451 - val_accuracy: 0.8017\n",
      "Epoch 41/100\n",
      "842/842 [==============================] - 1s 1ms/step - loss: 0.4424 - accuracy: 0.7998 - val_loss: 0.4435 - val_accuracy: 0.8039\n",
      "Epoch 42/100\n",
      "842/842 [==============================] - 1s 1ms/step - loss: 0.4425 - accuracy: 0.8003 - val_loss: 0.4432 - val_accuracy: 0.8043\n",
      "Epoch 43/100\n",
      "842/842 [==============================] - 1s 1ms/step - loss: 0.4430 - accuracy: 0.8001 - val_loss: 0.4454 - val_accuracy: 0.8009\n",
      "Epoch 44/100\n",
      "842/842 [==============================] - 1s 1ms/step - loss: 0.4411 - accuracy: 0.8014 - val_loss: 0.4437 - val_accuracy: 0.8040\n",
      "Epoch 45/100\n",
      "842/842 [==============================] - 1s 1ms/step - loss: 0.4435 - accuracy: 0.8007 - val_loss: 0.4462 - val_accuracy: 0.7984\n",
      "Epoch 46/100\n",
      "842/842 [==============================] - 1s 1ms/step - loss: 0.4429 - accuracy: 0.8016 - val_loss: 0.4454 - val_accuracy: 0.8021\n",
      "Epoch 47/100\n",
      "842/842 [==============================] - 1s 1ms/step - loss: 0.4407 - accuracy: 0.8018 - val_loss: 0.4456 - val_accuracy: 0.7990\n",
      "Epoch 48/100\n",
      "842/842 [==============================] - 1s 2ms/step - loss: 0.4416 - accuracy: 0.7998 - val_loss: 0.4439 - val_accuracy: 0.8031\n",
      "Epoch 49/100\n",
      "842/842 [==============================] - 1s 2ms/step - loss: 0.4412 - accuracy: 0.8017 - val_loss: 0.4439 - val_accuracy: 0.8011\n",
      "Epoch 50/100\n",
      "842/842 [==============================] - 1s 2ms/step - loss: 0.4431 - accuracy: 0.8000 - val_loss: 0.4446 - val_accuracy: 0.8031\n",
      "Epoch 51/100\n",
      "842/842 [==============================] - 1s 1ms/step - loss: 0.4382 - accuracy: 0.8031 - val_loss: 0.4438 - val_accuracy: 0.8003\n",
      "Epoch 52/100\n",
      "842/842 [==============================] - 1s 1ms/step - loss: 0.4389 - accuracy: 0.8044 - val_loss: 0.4433 - val_accuracy: 0.8024\n",
      "Epoch 53/100\n",
      "842/842 [==============================] - 1s 1ms/step - loss: 0.4382 - accuracy: 0.8036 - val_loss: 0.4418 - val_accuracy: 0.8055\n",
      "Epoch 54/100\n",
      "842/842 [==============================] - 2s 2ms/step - loss: 0.4382 - accuracy: 0.8035 - val_loss: 0.4421 - val_accuracy: 0.8014\n",
      "Epoch 55/100\n",
      "842/842 [==============================] - 2s 2ms/step - loss: 0.4380 - accuracy: 0.8037 - val_loss: 0.4430 - val_accuracy: 0.8009\n",
      "Epoch 56/100\n",
      "842/842 [==============================] - 2s 2ms/step - loss: 0.4379 - accuracy: 0.8020 - val_loss: 0.4427 - val_accuracy: 0.8015\n",
      "Epoch 57/100\n",
      "842/842 [==============================] - 2s 2ms/step - loss: 0.4396 - accuracy: 0.8016 - val_loss: 0.4414 - val_accuracy: 0.8027\n",
      "Epoch 58/100\n",
      "842/842 [==============================] - 1s 2ms/step - loss: 0.4379 - accuracy: 0.8041 - val_loss: 0.4411 - val_accuracy: 0.8011\n",
      "Epoch 59/100\n",
      "842/842 [==============================] - 1s 2ms/step - loss: 0.4415 - accuracy: 0.8023 - val_loss: 0.4419 - val_accuracy: 0.8020\n",
      "Epoch 60/100\n",
      "842/842 [==============================] - 1s 2ms/step - loss: 0.4382 - accuracy: 0.8032 - val_loss: 0.4413 - val_accuracy: 0.8014\n",
      "Epoch 61/100\n",
      "842/842 [==============================] - 1s 2ms/step - loss: 0.4375 - accuracy: 0.8028 - val_loss: 0.4429 - val_accuracy: 0.8012\n",
      "Epoch 62/100\n",
      "842/842 [==============================] - 2s 2ms/step - loss: 0.4372 - accuracy: 0.8030 - val_loss: 0.4434 - val_accuracy: 0.8003\n",
      "Epoch 63/100\n",
      "842/842 [==============================] - 2s 2ms/step - loss: 0.4383 - accuracy: 0.8022 - val_loss: 0.4446 - val_accuracy: 0.8005\n",
      "Epoch 64/100\n",
      "842/842 [==============================] - 2s 2ms/step - loss: 0.4389 - accuracy: 0.8027 - val_loss: 0.4431 - val_accuracy: 0.8011\n",
      "Epoch 65/100\n",
      "842/842 [==============================] - 2s 2ms/step - loss: 0.4383 - accuracy: 0.8034 - val_loss: 0.4428 - val_accuracy: 0.8027\n",
      "Epoch 66/100\n",
      "842/842 [==============================] - 2s 2ms/step - loss: 0.4369 - accuracy: 0.8050 - val_loss: 0.4410 - val_accuracy: 0.8043\n",
      "Epoch 67/100\n",
      "842/842 [==============================] - 2s 2ms/step - loss: 0.4368 - accuracy: 0.8053 - val_loss: 0.4446 - val_accuracy: 0.8002\n",
      "Epoch 68/100\n",
      "842/842 [==============================] - 2s 2ms/step - loss: 0.4352 - accuracy: 0.8024 - val_loss: 0.4411 - val_accuracy: 0.8023\n",
      "Epoch 69/100\n",
      "842/842 [==============================] - 2s 2ms/step - loss: 0.4354 - accuracy: 0.8034 - val_loss: 0.4430 - val_accuracy: 0.7999\n",
      "Epoch 70/100\n",
      "842/842 [==============================] - 2s 2ms/step - loss: 0.4356 - accuracy: 0.8045 - val_loss: 0.4423 - val_accuracy: 0.8030\n",
      "Epoch 71/100\n",
      "842/842 [==============================] - 2s 2ms/step - loss: 0.4351 - accuracy: 0.8044 - val_loss: 0.4423 - val_accuracy: 0.8023\n",
      "Epoch 72/100\n",
      "842/842 [==============================] - 2s 2ms/step - loss: 0.4357 - accuracy: 0.8036 - val_loss: 0.4406 - val_accuracy: 0.8033\n",
      "Epoch 73/100\n",
      "842/842 [==============================] - 2s 2ms/step - loss: 0.4373 - accuracy: 0.8025 - val_loss: 0.4414 - val_accuracy: 0.8040\n",
      "Epoch 74/100\n",
      "842/842 [==============================] - 2s 2ms/step - loss: 0.4357 - accuracy: 0.8035 - val_loss: 0.4425 - val_accuracy: 0.8012\n",
      "Epoch 75/100\n",
      "842/842 [==============================] - 2s 2ms/step - loss: 0.4348 - accuracy: 0.8047 - val_loss: 0.4396 - val_accuracy: 0.8021\n",
      "Epoch 76/100\n",
      "842/842 [==============================] - 2s 2ms/step - loss: 0.4346 - accuracy: 0.8047 - val_loss: 0.4412 - val_accuracy: 0.8026\n",
      "Epoch 77/100\n",
      "842/842 [==============================] - 2s 2ms/step - loss: 0.4356 - accuracy: 0.8026 - val_loss: 0.4412 - val_accuracy: 0.8011\n",
      "Epoch 78/100\n",
      "842/842 [==============================] - 1s 1ms/step - loss: 0.4347 - accuracy: 0.8057 - val_loss: 0.4418 - val_accuracy: 0.8015\n",
      "Epoch 79/100\n",
      "842/842 [==============================] - 1s 2ms/step - loss: 0.4354 - accuracy: 0.8036 - val_loss: 0.4439 - val_accuracy: 0.8009\n",
      "Epoch 80/100\n",
      "842/842 [==============================] - 1s 1ms/step - loss: 0.4354 - accuracy: 0.8054 - val_loss: 0.4399 - val_accuracy: 0.8023\n",
      "Epoch 81/100\n",
      "842/842 [==============================] - 1s 1ms/step - loss: 0.4359 - accuracy: 0.8054 - val_loss: 0.4419 - val_accuracy: 0.8020\n",
      "Epoch 82/100\n",
      "842/842 [==============================] - 1s 2ms/step - loss: 0.4353 - accuracy: 0.8049 - val_loss: 0.4416 - val_accuracy: 0.8039\n",
      "Epoch 83/100\n",
      "842/842 [==============================] - 1s 2ms/step - loss: 0.4346 - accuracy: 0.8036 - val_loss: 0.4415 - val_accuracy: 0.8018\n",
      "Epoch 84/100\n",
      "842/842 [==============================] - 1s 1ms/step - loss: 0.4334 - accuracy: 0.8061 - val_loss: 0.4422 - val_accuracy: 0.8042\n",
      "Epoch 85/100\n",
      "842/842 [==============================] - 1s 2ms/step - loss: 0.4337 - accuracy: 0.8039 - val_loss: 0.4419 - val_accuracy: 0.8021\n",
      "Epoch 86/100\n",
      "842/842 [==============================] - 1s 2ms/step - loss: 0.4321 - accuracy: 0.8060 - val_loss: 0.4405 - val_accuracy: 0.8031\n",
      "Epoch 87/100\n",
      "842/842 [==============================] - 1s 2ms/step - loss: 0.4352 - accuracy: 0.8050 - val_loss: 0.4399 - val_accuracy: 0.8015\n",
      "Epoch 88/100\n",
      "842/842 [==============================] - 1s 2ms/step - loss: 0.4352 - accuracy: 0.8037 - val_loss: 0.4399 - val_accuracy: 0.8042\n",
      "Epoch 89/100\n",
      "842/842 [==============================] - 1s 1ms/step - loss: 0.4326 - accuracy: 0.8062 - val_loss: 0.4391 - val_accuracy: 0.8023\n",
      "Epoch 90/100\n",
      "842/842 [==============================] - 1s 2ms/step - loss: 0.4338 - accuracy: 0.8043 - val_loss: 0.4439 - val_accuracy: 0.8008\n",
      "Epoch 91/100\n",
      "842/842 [==============================] - 1s 2ms/step - loss: 0.4326 - accuracy: 0.8049 - val_loss: 0.4407 - val_accuracy: 0.8043\n",
      "Epoch 92/100\n",
      "842/842 [==============================] - 1s 2ms/step - loss: 0.4337 - accuracy: 0.8038 - val_loss: 0.4407 - val_accuracy: 0.8023\n",
      "Epoch 93/100\n",
      "842/842 [==============================] - 1s 2ms/step - loss: 0.4325 - accuracy: 0.8044 - val_loss: 0.4414 - val_accuracy: 0.8012\n",
      "Epoch 94/100\n",
      "842/842 [==============================] - 1s 2ms/step - loss: 0.4346 - accuracy: 0.8051 - val_loss: 0.4404 - val_accuracy: 0.8020\n",
      "Epoch 95/100\n",
      "842/842 [==============================] - 1s 2ms/step - loss: 0.4341 - accuracy: 0.8026 - val_loss: 0.4393 - val_accuracy: 0.8024\n",
      "Epoch 96/100\n",
      "842/842 [==============================] - 1s 2ms/step - loss: 0.4330 - accuracy: 0.8072 - val_loss: 0.4410 - val_accuracy: 0.8030\n",
      "Epoch 97/100\n",
      "842/842 [==============================] - 1s 2ms/step - loss: 0.4328 - accuracy: 0.8055 - val_loss: 0.4442 - val_accuracy: 0.8020\n",
      "Epoch 98/100\n",
      "842/842 [==============================] - 1s 2ms/step - loss: 0.4348 - accuracy: 0.8057 - val_loss: 0.4417 - val_accuracy: 0.8031\n",
      "Epoch 99/100\n",
      "842/842 [==============================] - 1s 2ms/step - loss: 0.4324 - accuracy: 0.8047 - val_loss: 0.4403 - val_accuracy: 0.8037\n",
      "Epoch 100/100\n",
      "842/842 [==============================] - 1s 1ms/step - loss: 0.4321 - accuracy: 0.8062 - val_loss: 0.4391 - val_accuracy: 0.8051\n"
     ]
    }
   ],
   "source": [
    "hist=model.fit(xtrain,ytrain,validation_split=0.2,epochs=100)"
   ]
  },
  {
   "cell_type": "markdown",
   "metadata": {},
   "source": [
    "# Plot the learning curve for th above model"
   ]
  },
  {
   "cell_type": "code",
   "execution_count": 34,
   "metadata": {},
   "outputs": [
    {
     "data": {
      "image/png": "[encoded data removed]",
      "text/plain": [
       "<Figure size 1600x800 with 1 Axes>"
      ]
     },
     "metadata": {},
     "output_type": "display_data"
    }
   ],
   "source": [
    "import matplotlib.pyplot as plt\n",
    "plt.figure(figsize=(16,8))\n",
    "plt.plot(hist.history['loss'],label='Traning Loss')\n",
    "plt.plot(hist.history['val_loss'],label='Validation Loss')\n",
    "plt.xlabel('Epochs')\n",
    "plt.ylabel('Binary Cross Entropy Loss')\n",
    "plt.title('Learning Curve')\n",
    "plt.legend()\n",
    "plt.show()"
   ]
  },
  {
   "cell_type": "markdown",
   "metadata": {},
   "source": [
    "## Evaluate the model"
   ]
  },
  {
   "cell_type": "code",
   "execution_count": 35,
   "metadata": {},
   "outputs": [
    {
     "name": "stdout",
     "output_type": "stream",
     "text": [
      "1053/1053 [==============================] - 1s 934us/step - loss: 0.4166 - accuracy: 0.8125\n"
     ]
    },
    {
     "data": {
      "text/plain": [
       "[0.4165569245815277, 0.8125296831130981]"
      ]
     },
     "execution_count": 35,
     "metadata": {},
     "output_type": "execute_result"
    }
   ],
   "source": [
    "model.evaluate(xtrain,ytrain)"
   ]
  },
  {
   "cell_type": "code",
   "execution_count": 36,
   "metadata": {},
   "outputs": [
    {
     "name": "stdout",
     "output_type": "stream",
     "text": [
      "264/264 [==============================] - 0s 960us/step - loss: 0.4279 - accuracy: 0.8056\n"
     ]
    },
    {
     "data": {
      "text/plain": [
       "[0.4279178977012634, 0.8055819272994995]"
      ]
     },
     "execution_count": 36,
     "metadata": {},
     "output_type": "execute_result"
    }
   ],
   "source": [
    "model.evaluate(xtest,ytest)"
   ]
  },
  {
   "cell_type": "markdown",
   "metadata": {},
   "source": [
    "## Predict the probailities"
   ]
  },
  {
   "cell_type": "code",
   "execution_count": 37,
   "metadata": {},
   "outputs": [
    {
     "name": "stdout",
     "output_type": "stream",
     "text": [
      "1053/1053 [==============================] - 1s 873us/step\n",
      "264/264 [==============================] - 0s 2ms/step\n"
     ]
    }
   ],
   "source": [
    "yprob_tr=model.predict(xtrain)\n",
    "yprob_ts=model.predict(xtest)"
   ]
  },
  {
   "cell_type": "code",
   "execution_count": 38,
   "metadata": {},
   "outputs": [
    {
     "data": {
      "text/plain": [
       "array([[0.00633381],\n",
       "       [0.11261702],\n",
       "       [0.793539  ],\n",
       "       [0.7666932 ],\n",
       "       [0.81252784]], dtype=float32)"
      ]
     },
     "execution_count": 38,
     "metadata": {},
     "output_type": "execute_result"
    }
   ],
   "source": [
    "yprob_tr[0:5]"
   ]
  },
  {
   "cell_type": "code",
   "execution_count": 39,
   "metadata": {},
   "outputs": [
    {
     "data": {
      "text/plain": [
       "array([[0.03746313],\n",
       "       [0.8609873 ],\n",
       "       [0.3823268 ],\n",
       "       [0.00794036],\n",
       "       [0.16545814]], dtype=float32)"
      ]
     },
     "execution_count": 39,
     "metadata": {},
     "output_type": "execute_result"
    }
   ],
   "source": [
    "yprob_ts[0:5]"
   ]
  },
  {
   "cell_type": "markdown",
   "metadata": {},
   "source": [
    "## Get the predictions"
   ]
  },
  {
   "cell_type": "code",
   "execution_count": 40,
   "metadata": {},
   "outputs": [
    {
     "data": {
      "text/plain": [
       "[0, 0, 1, 1, 1]"
      ]
     },
     "execution_count": 40,
     "metadata": {},
     "output_type": "execute_result"
    }
   ],
   "source": [
    "ypred_tr=[1 if i>=0.5 else 0 for i in yprob_tr]\n",
    "ypred_tr[0:5]"
   ]
  },
  {
   "cell_type": "code",
   "execution_count": 41,
   "metadata": {},
   "outputs": [
    {
     "data": {
      "text/html": [
       "<div>\n",
       "<style scoped>\n",
       "    .dataframe tbody tr th:only-of-type {\n",
       "        vertical-align: middle;\n",
       "    }\n",
       "\n",
       "    .dataframe tbody tr th {\n",
       "        vertical-align: top;\n",
       "    }\n",
       "\n",
       "    .dataframe thead th {\n",
       "        text-align: right;\n",
       "    }\n",
       "</style>\n",
       "<table border=\"1\" class=\"dataframe\">\n",
       "  <thead>\n",
       "    <tr style=\"text-align: right;\">\n",
       "      <th></th>\n",
       "      <th>booking_status</th>\n",
       "    </tr>\n",
       "  </thead>\n",
       "  <tbody>\n",
       "    <tr>\n",
       "      <th>15559</th>\n",
       "      <td>0</td>\n",
       "    </tr>\n",
       "    <tr>\n",
       "      <th>32783</th>\n",
       "      <td>0</td>\n",
       "    </tr>\n",
       "    <tr>\n",
       "      <th>11797</th>\n",
       "      <td>1</td>\n",
       "    </tr>\n",
       "    <tr>\n",
       "      <th>39750</th>\n",
       "      <td>1</td>\n",
       "    </tr>\n",
       "    <tr>\n",
       "      <th>28711</th>\n",
       "      <td>1</td>\n",
       "    </tr>\n",
       "  </tbody>\n",
       "</table>\n",
       "</div>"
      ],
      "text/plain": [
       "       booking_status\n",
       "15559               0\n",
       "32783               0\n",
       "11797               1\n",
       "39750               1\n",
       "28711               1"
      ]
     },
     "execution_count": 41,
     "metadata": {},
     "output_type": "execute_result"
    }
   ],
   "source": [
    "ytrain.head()"
   ]
  },
  {
   "cell_type": "code",
   "execution_count": 44,
   "metadata": {},
   "outputs": [
    {
     "data": {
      "text/plain": [
       "[0, 1, 0, 0, 0]"
      ]
     },
     "execution_count": 44,
     "metadata": {},
     "output_type": "execute_result"
    }
   ],
   "source": [
    "ypred_ts=[1 if i>=0.5 else 0 for i in yprob_ts]\n",
    "ypred_ts[0:5]"
   ]
  },
  {
   "cell_type": "code",
   "execution_count": 45,
   "metadata": {},
   "outputs": [
    {
     "data": {
      "text/html": [
       "<div>\n",
       "<style scoped>\n",
       "    .dataframe tbody tr th:only-of-type {\n",
       "        vertical-align: middle;\n",
       "    }\n",
       "\n",
       "    .dataframe tbody tr th {\n",
       "        vertical-align: top;\n",
       "    }\n",
       "\n",
       "    .dataframe thead th {\n",
       "        text-align: right;\n",
       "    }\n",
       "</style>\n",
       "<table border=\"1\" class=\"dataframe\">\n",
       "  <thead>\n",
       "    <tr style=\"text-align: right;\">\n",
       "      <th></th>\n",
       "      <th>booking_status</th>\n",
       "    </tr>\n",
       "  </thead>\n",
       "  <tbody>\n",
       "    <tr>\n",
       "      <th>8768</th>\n",
       "      <td>0</td>\n",
       "    </tr>\n",
       "    <tr>\n",
       "      <th>38340</th>\n",
       "      <td>1</td>\n",
       "    </tr>\n",
       "    <tr>\n",
       "      <th>7104</th>\n",
       "      <td>0</td>\n",
       "    </tr>\n",
       "    <tr>\n",
       "      <th>36898</th>\n",
       "      <td>0</td>\n",
       "    </tr>\n",
       "    <tr>\n",
       "      <th>9747</th>\n",
       "      <td>0</td>\n",
       "    </tr>\n",
       "  </tbody>\n",
       "</table>\n",
       "</div>"
      ],
      "text/plain": [
       "       booking_status\n",
       "8768                0\n",
       "38340               1\n",
       "7104                0\n",
       "36898               0\n",
       "9747                0"
      ]
     },
     "execution_count": 45,
     "metadata": {},
     "output_type": "execute_result"
    }
   ],
   "source": [
    "ytest.head()"
   ]
  },
  {
   "cell_type": "markdown",
   "metadata": {},
   "source": [
    "## Create a confusion matrix"
   ]
  },
  {
   "cell_type": "code",
   "execution_count": 46,
   "metadata": {},
   "outputs": [
    {
     "data": {
      "text/plain": [
       "<sklearn.metrics._plot.confusion_matrix.ConfusionMatrixDisplay at 0x21a4305bf50>"
      ]
     },
     "execution_count": 46,
     "metadata": {},
     "output_type": "execute_result"
    },
    {
     "data": {
      "image/png": "[encoded data removed]",
      "text/plain": [
       "<Figure size 640x480 with 2 Axes>"
      ]
     },
     "metadata": {},
     "output_type": "display_data"
    }
   ],
   "source": [
    "from sklearn.metrics import confusion_matrix,ConfusionMatrixDisplay\n",
    "cf=confusion_matrix(ytest,ypred_ts)\n",
    "cfd=ConfusionMatrixDisplay(cf)\n",
    "cfd.plot()"
   ]
  },
  {
   "cell_type": "markdown",
   "metadata": {},
   "source": [
    "## Check classification report"
   ]
  },
  {
   "cell_type": "code",
   "execution_count": 47,
   "metadata": {},
   "outputs": [
    {
     "name": "stdout",
     "output_type": "stream",
     "text": [
      "              precision    recall  f1-score   support\n",
      "\n",
      "           0       0.82      0.88      0.85      5150\n",
      "           1       0.78      0.69      0.73      3270\n",
      "\n",
      "    accuracy                           0.81      8420\n",
      "   macro avg       0.80      0.78      0.79      8420\n",
      "weighted avg       0.80      0.81      0.80      8420\n",
      "\n"
     ]
    }
   ],
   "source": [
    "from sklearn.metrics import classification_report\n",
    "print(classification_report(ytest,ypred_ts))"
   ]
  },
  {
   "cell_type": "markdown",
   "metadata": {},
   "source": [
    "# Save the model for future use"
   ]
  },
  {
   "cell_type": "code",
   "execution_count": 48,
   "metadata": {},
   "outputs": [],
   "source": [
    "model.save('BookingModel.keras')"
   ]
  },
  {
   "cell_type": "markdown",
   "metadata": {},
   "source": [
    "## Loading Model"
   ]
  },
  {
   "cell_type": "code",
   "execution_count": 49,
   "metadata": {},
   "outputs": [
    {
     "name": "stdout",
     "output_type": "stream",
     "text": [
      "Model: \"sequential_1\"\n",
      "_________________________________________________________________\n",
      " Layer (type)                Output Shape              Param #   \n",
      "=================================================================\n",
      " dense_2 (Dense)             (None, 64)                1152      \n",
      "                                                                 \n",
      " dropout_2 (Dropout)         (None, 64)                0         \n",
      "                                                                 \n",
      " dense_3 (Dense)             (None, 32)                2080      \n",
      "                                                                 \n",
      " dropout_3 (Dropout)         (None, 32)                0         \n",
      "                                                                 \n",
      " dense_4 (Dense)             (None, 1)                 33        \n",
      "                                                                 \n",
      "=================================================================\n",
      "Total params: 3265 (12.75 KB)\n",
      "Trainable params: 3265 (12.75 KB)\n",
      "Non-trainable params: 0 (0.00 Byte)\n",
      "_________________________________________________________________\n"
     ]
    }
   ],
   "source": [
    "from keras.models import load_model\n",
    "nn=load_model('BookingModel.keras')\n",
    "nn.summary()"
   ]
  },
  {
   "cell_type": "markdown",
   "metadata": {},
   "source": [
    "# PERFORM PREDICTION ON TEST_BOOKING.CSV"
   ]
  },
  {
   "cell_type": "code",
   "execution_count": 50,
   "metadata": {},
   "outputs": [
    {
     "data": {
      "text/html": [
       "<div>\n",
       "<style scoped>\n",
       "    .dataframe tbody tr th:only-of-type {\n",
       "        vertical-align: middle;\n",
       "    }\n",
       "\n",
       "    .dataframe tbody tr th {\n",
       "        vertical-align: top;\n",
       "    }\n",
       "\n",
       "    .dataframe thead th {\n",
       "        text-align: right;\n",
       "    }\n",
       "</style>\n",
       "<table border=\"1\" class=\"dataframe\">\n",
       "  <thead>\n",
       "    <tr style=\"text-align: right;\">\n",
       "      <th></th>\n",
       "      <th>id</th>\n",
       "      <th>no_of_adults</th>\n",
       "      <th>no_of_children</th>\n",
       "      <th>no_of_weekend_nights</th>\n",
       "      <th>no_of_week_nights</th>\n",
       "      <th>type_of_meal_plan</th>\n",
       "      <th>required_car_parking_space</th>\n",
       "      <th>room_type_reserved</th>\n",
       "      <th>lead_time</th>\n",
       "      <th>arrival_year</th>\n",
       "      <th>arrival_month</th>\n",
       "      <th>arrival_date</th>\n",
       "      <th>market_segment_type</th>\n",
       "      <th>repeated_guest</th>\n",
       "      <th>no_of_previous_cancellations</th>\n",
       "      <th>no_of_previous_bookings_not_canceled</th>\n",
       "      <th>avg_price_per_room</th>\n",
       "      <th>no_of_special_requests</th>\n",
       "    </tr>\n",
       "  </thead>\n",
       "  <tbody>\n",
       "    <tr>\n",
       "      <th>0</th>\n",
       "      <td>42100</td>\n",
       "      <td>3</td>\n",
       "      <td>0</td>\n",
       "      <td>1</td>\n",
       "      <td>4</td>\n",
       "      <td>0</td>\n",
       "      <td>0</td>\n",
       "      <td>1</td>\n",
       "      <td>111</td>\n",
       "      <td>2018</td>\n",
       "      <td>12</td>\n",
       "      <td>5</td>\n",
       "      <td>1</td>\n",
       "      <td>0</td>\n",
       "      <td>0</td>\n",
       "      <td>0</td>\n",
       "      <td>115.60</td>\n",
       "      <td>2</td>\n",
       "    </tr>\n",
       "    <tr>\n",
       "      <th>1</th>\n",
       "      <td>42101</td>\n",
       "      <td>2</td>\n",
       "      <td>0</td>\n",
       "      <td>0</td>\n",
       "      <td>3</td>\n",
       "      <td>0</td>\n",
       "      <td>0</td>\n",
       "      <td>0</td>\n",
       "      <td>22</td>\n",
       "      <td>2017</td>\n",
       "      <td>10</td>\n",
       "      <td>21</td>\n",
       "      <td>0</td>\n",
       "      <td>0</td>\n",
       "      <td>0</td>\n",
       "      <td>0</td>\n",
       "      <td>85.00</td>\n",
       "      <td>0</td>\n",
       "    </tr>\n",
       "    <tr>\n",
       "      <th>2</th>\n",
       "      <td>42102</td>\n",
       "      <td>2</td>\n",
       "      <td>2</td>\n",
       "      <td>0</td>\n",
       "      <td>1</td>\n",
       "      <td>0</td>\n",
       "      <td>0</td>\n",
       "      <td>3</td>\n",
       "      <td>18</td>\n",
       "      <td>2018</td>\n",
       "      <td>8</td>\n",
       "      <td>10</td>\n",
       "      <td>1</td>\n",
       "      <td>0</td>\n",
       "      <td>0</td>\n",
       "      <td>0</td>\n",
       "      <td>240.00</td>\n",
       "      <td>1</td>\n",
       "    </tr>\n",
       "    <tr>\n",
       "      <th>3</th>\n",
       "      <td>42103</td>\n",
       "      <td>2</td>\n",
       "      <td>0</td>\n",
       "      <td>0</td>\n",
       "      <td>3</td>\n",
       "      <td>0</td>\n",
       "      <td>0</td>\n",
       "      <td>0</td>\n",
       "      <td>88</td>\n",
       "      <td>2018</td>\n",
       "      <td>5</td>\n",
       "      <td>30</td>\n",
       "      <td>0</td>\n",
       "      <td>0</td>\n",
       "      <td>0</td>\n",
       "      <td>0</td>\n",
       "      <td>80.75</td>\n",
       "      <td>0</td>\n",
       "    </tr>\n",
       "    <tr>\n",
       "      <th>4</th>\n",
       "      <td>42104</td>\n",
       "      <td>1</td>\n",
       "      <td>0</td>\n",
       "      <td>0</td>\n",
       "      <td>2</td>\n",
       "      <td>2</td>\n",
       "      <td>0</td>\n",
       "      <td>0</td>\n",
       "      <td>7</td>\n",
       "      <td>2018</td>\n",
       "      <td>9</td>\n",
       "      <td>21</td>\n",
       "      <td>1</td>\n",
       "      <td>0</td>\n",
       "      <td>0</td>\n",
       "      <td>0</td>\n",
       "      <td>144.00</td>\n",
       "      <td>0</td>\n",
       "    </tr>\n",
       "  </tbody>\n",
       "</table>\n",
       "</div>"
      ],
      "text/plain": [
       "      id  no_of_adults  no_of_children  no_of_weekend_nights  \\\n",
       "0  42100             3               0                     1   \n",
       "1  42101             2               0                     0   \n",
       "2  42102             2               2                     0   \n",
       "3  42103             2               0                     0   \n",
       "4  42104             1               0                     0   \n",
       "\n",
       "   no_of_week_nights  type_of_meal_plan  required_car_parking_space  \\\n",
       "0                  4                  0                           0   \n",
       "1                  3                  0                           0   \n",
       "2                  1                  0                           0   \n",
       "3                  3                  0                           0   \n",
       "4                  2                  2                           0   \n",
       "\n",
       "   room_type_reserved  lead_time  arrival_year  arrival_month  arrival_date  \\\n",
       "0                   1        111          2018             12             5   \n",
       "1                   0         22          2017             10            21   \n",
       "2                   3         18          2018              8            10   \n",
       "3                   0         88          2018              5            30   \n",
       "4                   0          7          2018              9            21   \n",
       "\n",
       "   market_segment_type  repeated_guest  no_of_previous_cancellations  \\\n",
       "0                    1               0                             0   \n",
       "1                    0               0                             0   \n",
       "2                    1               0                             0   \n",
       "3                    0               0                             0   \n",
       "4                    1               0                             0   \n",
       "\n",
       "   no_of_previous_bookings_not_canceled  avg_price_per_room  \\\n",
       "0                                     0              115.60   \n",
       "1                                     0               85.00   \n",
       "2                                     0              240.00   \n",
       "3                                     0               80.75   \n",
       "4                                     0              144.00   \n",
       "\n",
       "   no_of_special_requests  \n",
       "0                       2  \n",
       "1                       0  \n",
       "2                       1  \n",
       "3                       0  \n",
       "4                       0  "
      ]
     },
     "execution_count": 50,
     "metadata": {},
     "output_type": "execute_result"
    }
   ],
   "source": [
    "xnew=pd.read_csv('test_booking.csv')\n",
    "xnew.head()"
   ]
  },
  {
   "cell_type": "code",
   "execution_count": 51,
   "metadata": {},
   "outputs": [
    {
     "name": "stdout",
     "output_type": "stream",
     "text": [
      "<class 'pandas.core.frame.DataFrame'>\n",
      "RangeIndex: 28068 entries, 0 to 28067\n",
      "Data columns (total 18 columns):\n",
      " #   Column                                Non-Null Count  Dtype  \n",
      "---  ------                                --------------  -----  \n",
      " 0   id                                    28068 non-null  int64  \n",
      " 1   no_of_adults                          28068 non-null  int64  \n",
      " 2   no_of_children                        28068 non-null  int64  \n",
      " 3   no_of_weekend_nights                  28068 non-null  int64  \n",
      " 4   no_of_week_nights                     28068 non-null  int64  \n",
      " 5   type_of_meal_plan                     28068 non-null  int64  \n",
      " 6   required_car_parking_space            28068 non-null  int64  \n",
      " 7   room_type_reserved                    28068 non-null  int64  \n",
      " 8   lead_time                             28068 non-null  int64  \n",
      " 9   arrival_year                          28068 non-null  int64  \n",
      " 10  arrival_month                         28068 non-null  int64  \n",
      " 11  arrival_date                          28068 non-null  int64  \n",
      " 12  market_segment_type                   28068 non-null  int64  \n",
      " 13  repeated_guest                        28068 non-null  int64  \n",
      " 14  no_of_previous_cancellations          28068 non-null  int64  \n",
      " 15  no_of_previous_bookings_not_canceled  28068 non-null  int64  \n",
      " 16  avg_price_per_room                    28068 non-null  float64\n",
      " 17  no_of_special_requests                28068 non-null  int64  \n",
      "dtypes: float64(1), int64(17)\n",
      "memory usage: 3.9 MB\n"
     ]
    }
   ],
   "source": [
    "xnew.info()"
   ]
  },
  {
   "cell_type": "code",
   "execution_count": 52,
   "metadata": {},
   "outputs": [
    {
     "data": {
      "text/plain": [
       "id                                      0\n",
       "no_of_adults                            0\n",
       "no_of_children                          0\n",
       "no_of_weekend_nights                    0\n",
       "no_of_week_nights                       0\n",
       "type_of_meal_plan                       0\n",
       "required_car_parking_space              0\n",
       "room_type_reserved                      0\n",
       "lead_time                               0\n",
       "arrival_year                            0\n",
       "arrival_month                           0\n",
       "arrival_date                            0\n",
       "market_segment_type                     0\n",
       "repeated_guest                          0\n",
       "no_of_previous_cancellations            0\n",
       "no_of_previous_bookings_not_canceled    0\n",
       "avg_price_per_room                      0\n",
       "no_of_special_requests                  0\n",
       "dtype: int64"
      ]
     },
     "execution_count": 52,
     "metadata": {},
     "output_type": "execute_result"
    }
   ],
   "source": [
    "xnew.isna().sum()"
   ]
  },
  {
   "cell_type": "code",
   "execution_count": 53,
   "metadata": {},
   "outputs": [
    {
     "data": {
      "text/html": [
       "<div>\n",
       "<style scoped>\n",
       "    .dataframe tbody tr th:only-of-type {\n",
       "        vertical-align: middle;\n",
       "    }\n",
       "\n",
       "    .dataframe tbody tr th {\n",
       "        vertical-align: top;\n",
       "    }\n",
       "\n",
       "    .dataframe thead th {\n",
       "        text-align: right;\n",
       "    }\n",
       "</style>\n",
       "<table border=\"1\" class=\"dataframe\">\n",
       "  <thead>\n",
       "    <tr style=\"text-align: right;\">\n",
       "      <th></th>\n",
       "      <th>no_of_adults</th>\n",
       "      <th>no_of_children</th>\n",
       "      <th>no_of_weekend_nights</th>\n",
       "      <th>no_of_week_nights</th>\n",
       "      <th>type_of_meal_plan</th>\n",
       "      <th>required_car_parking_space</th>\n",
       "      <th>room_type_reserved</th>\n",
       "      <th>lead_time</th>\n",
       "      <th>arrival_year</th>\n",
       "      <th>arrival_month</th>\n",
       "      <th>arrival_date</th>\n",
       "      <th>market_segment_type</th>\n",
       "      <th>repeated_guest</th>\n",
       "      <th>no_of_previous_cancellations</th>\n",
       "      <th>no_of_previous_bookings_not_canceled</th>\n",
       "      <th>avg_price_per_room</th>\n",
       "      <th>no_of_special_requests</th>\n",
       "    </tr>\n",
       "  </thead>\n",
       "  <tbody>\n",
       "    <tr>\n",
       "      <th>0</th>\n",
       "      <td>3</td>\n",
       "      <td>0</td>\n",
       "      <td>1</td>\n",
       "      <td>4</td>\n",
       "      <td>0</td>\n",
       "      <td>0</td>\n",
       "      <td>1</td>\n",
       "      <td>111</td>\n",
       "      <td>2018</td>\n",
       "      <td>12</td>\n",
       "      <td>5</td>\n",
       "      <td>1</td>\n",
       "      <td>0</td>\n",
       "      <td>0</td>\n",
       "      <td>0</td>\n",
       "      <td>115.60</td>\n",
       "      <td>2</td>\n",
       "    </tr>\n",
       "    <tr>\n",
       "      <th>1</th>\n",
       "      <td>2</td>\n",
       "      <td>0</td>\n",
       "      <td>0</td>\n",
       "      <td>3</td>\n",
       "      <td>0</td>\n",
       "      <td>0</td>\n",
       "      <td>0</td>\n",
       "      <td>22</td>\n",
       "      <td>2017</td>\n",
       "      <td>10</td>\n",
       "      <td>21</td>\n",
       "      <td>0</td>\n",
       "      <td>0</td>\n",
       "      <td>0</td>\n",
       "      <td>0</td>\n",
       "      <td>85.00</td>\n",
       "      <td>0</td>\n",
       "    </tr>\n",
       "    <tr>\n",
       "      <th>2</th>\n",
       "      <td>2</td>\n",
       "      <td>2</td>\n",
       "      <td>0</td>\n",
       "      <td>1</td>\n",
       "      <td>0</td>\n",
       "      <td>0</td>\n",
       "      <td>3</td>\n",
       "      <td>18</td>\n",
       "      <td>2018</td>\n",
       "      <td>8</td>\n",
       "      <td>10</td>\n",
       "      <td>1</td>\n",
       "      <td>0</td>\n",
       "      <td>0</td>\n",
       "      <td>0</td>\n",
       "      <td>240.00</td>\n",
       "      <td>1</td>\n",
       "    </tr>\n",
       "    <tr>\n",
       "      <th>3</th>\n",
       "      <td>2</td>\n",
       "      <td>0</td>\n",
       "      <td>0</td>\n",
       "      <td>3</td>\n",
       "      <td>0</td>\n",
       "      <td>0</td>\n",
       "      <td>0</td>\n",
       "      <td>88</td>\n",
       "      <td>2018</td>\n",
       "      <td>5</td>\n",
       "      <td>30</td>\n",
       "      <td>0</td>\n",
       "      <td>0</td>\n",
       "      <td>0</td>\n",
       "      <td>0</td>\n",
       "      <td>80.75</td>\n",
       "      <td>0</td>\n",
       "    </tr>\n",
       "    <tr>\n",
       "      <th>4</th>\n",
       "      <td>1</td>\n",
       "      <td>0</td>\n",
       "      <td>0</td>\n",
       "      <td>2</td>\n",
       "      <td>2</td>\n",
       "      <td>0</td>\n",
       "      <td>0</td>\n",
       "      <td>7</td>\n",
       "      <td>2018</td>\n",
       "      <td>9</td>\n",
       "      <td>21</td>\n",
       "      <td>1</td>\n",
       "      <td>0</td>\n",
       "      <td>0</td>\n",
       "      <td>0</td>\n",
       "      <td>144.00</td>\n",
       "      <td>0</td>\n",
       "    </tr>\n",
       "  </tbody>\n",
       "</table>\n",
       "</div>"
      ],
      "text/plain": [
       "   no_of_adults  no_of_children  no_of_weekend_nights  no_of_week_nights  \\\n",
       "0             3               0                     1                  4   \n",
       "1             2               0                     0                  3   \n",
       "2             2               2                     0                  1   \n",
       "3             2               0                     0                  3   \n",
       "4             1               0                     0                  2   \n",
       "\n",
       "   type_of_meal_plan  required_car_parking_space  room_type_reserved  \\\n",
       "0                  0                           0                   1   \n",
       "1                  0                           0                   0   \n",
       "2                  0                           0                   3   \n",
       "3                  0                           0                   0   \n",
       "4                  2                           0                   0   \n",
       "\n",
       "   lead_time  arrival_year  arrival_month  arrival_date  market_segment_type  \\\n",
       "0        111          2018             12             5                    1   \n",
       "1         22          2017             10            21                    0   \n",
       "2         18          2018              8            10                    1   \n",
       "3         88          2018              5            30                    0   \n",
       "4          7          2018              9            21                    1   \n",
       "\n",
       "   repeated_guest  no_of_previous_cancellations  \\\n",
       "0               0                             0   \n",
       "1               0                             0   \n",
       "2               0                             0   \n",
       "3               0                             0   \n",
       "4               0                             0   \n",
       "\n",
       "   no_of_previous_bookings_not_canceled  avg_price_per_room  \\\n",
       "0                                     0              115.60   \n",
       "1                                     0               85.00   \n",
       "2                                     0              240.00   \n",
       "3                                     0               80.75   \n",
       "4                                     0              144.00   \n",
       "\n",
       "   no_of_special_requests  \n",
       "0                       2  \n",
       "1                       0  \n",
       "2                       1  \n",
       "3                       0  \n",
       "4                       0  "
      ]
     },
     "execution_count": 53,
     "metadata": {},
     "output_type": "execute_result"
    }
   ],
   "source": [
    "xnew1=xnew.drop(columns=['id'])\n",
    "xnew1.head()"
   ]
  },
  {
   "cell_type": "code",
   "execution_count": 54,
   "metadata": {},
   "outputs": [
    {
     "data": {
      "text/plain": [
       "array([[ 2.05600472, -0.31345354,  0.13025905, ..., -0.10147907,\n",
       "         0.29709213,  1.84284918],\n",
       "       [ 0.15103974, -0.31345354, -0.99881361, ..., -0.10147907,\n",
       "        -0.5268457 , -0.73769133],\n",
       "       [ 0.15103974,  4.12977678, -0.99881361, ..., -0.10147907,\n",
       "         3.64669564,  0.55257892],\n",
       "       ...,\n",
       "       [ 0.15103974, -0.31345354,  0.13025905, ..., -0.10147907,\n",
       "        -0.5268457 , -0.73769133],\n",
       "       [ 2.05600472, -0.31345354, -0.99881361, ..., -0.10147907,\n",
       "         1.56665649, -0.73769133],\n",
       "       [ 0.15103974, -0.31345354,  1.25933171, ..., -0.10147907,\n",
       "        -0.54542469, -0.73769133]])"
      ]
     },
     "execution_count": 54,
     "metadata": {},
     "output_type": "execute_result"
    }
   ],
   "source": [
    "xnew_pre=num_pipe.transform(xnew1)\n",
    "xnew_pre\n"
   ]
  },
  {
   "cell_type": "code",
   "execution_count": 55,
   "metadata": {},
   "outputs": [
    {
     "data": {
      "text/html": [
       "<div>\n",
       "<style scoped>\n",
       "    .dataframe tbody tr th:only-of-type {\n",
       "        vertical-align: middle;\n",
       "    }\n",
       "\n",
       "    .dataframe tbody tr th {\n",
       "        vertical-align: top;\n",
       "    }\n",
       "\n",
       "    .dataframe thead th {\n",
       "        text-align: right;\n",
       "    }\n",
       "</style>\n",
       "<table border=\"1\" class=\"dataframe\">\n",
       "  <thead>\n",
       "    <tr style=\"text-align: right;\">\n",
       "      <th></th>\n",
       "      <th>no_of_adults</th>\n",
       "      <th>no_of_children</th>\n",
       "      <th>no_of_weekend_nights</th>\n",
       "      <th>no_of_week_nights</th>\n",
       "      <th>type_of_meal_plan</th>\n",
       "      <th>required_car_parking_space</th>\n",
       "      <th>room_type_reserved</th>\n",
       "      <th>lead_time</th>\n",
       "      <th>arrival_year</th>\n",
       "      <th>arrival_month</th>\n",
       "      <th>arrival_date</th>\n",
       "      <th>market_segment_type</th>\n",
       "      <th>repeated_guest</th>\n",
       "      <th>no_of_previous_cancellations</th>\n",
       "      <th>no_of_previous_bookings_not_canceled</th>\n",
       "      <th>avg_price_per_room</th>\n",
       "      <th>no_of_special_requests</th>\n",
       "    </tr>\n",
       "  </thead>\n",
       "  <tbody>\n",
       "    <tr>\n",
       "      <th>0</th>\n",
       "      <td>2.056005</td>\n",
       "      <td>-0.313454</td>\n",
       "      <td>0.130259</td>\n",
       "      <td>1.122386</td>\n",
       "      <td>-0.407020</td>\n",
       "      <td>-0.160945</td>\n",
       "      <td>0.685890</td>\n",
       "      <td>0.087728</td>\n",
       "      <td>0.409661</td>\n",
       "      <td>1.557404</td>\n",
       "      <td>-1.226638</td>\n",
       "      <td>0.428551</td>\n",
       "      <td>-0.173408</td>\n",
       "      <td>-0.060506</td>\n",
       "      <td>-0.101479</td>\n",
       "      <td>0.297092</td>\n",
       "      <td>1.842849</td>\n",
       "    </tr>\n",
       "    <tr>\n",
       "      <th>1</th>\n",
       "      <td>0.151040</td>\n",
       "      <td>-0.313454</td>\n",
       "      <td>-0.998814</td>\n",
       "      <td>0.421768</td>\n",
       "      <td>-0.407020</td>\n",
       "      <td>-0.160945</td>\n",
       "      <td>-0.515173</td>\n",
       "      <td>-1.010111</td>\n",
       "      <td>-2.441040</td>\n",
       "      <td>0.850531</td>\n",
       "      <td>0.573445</td>\n",
       "      <td>-1.149928</td>\n",
       "      <td>-0.173408</td>\n",
       "      <td>-0.060506</td>\n",
       "      <td>-0.101479</td>\n",
       "      <td>-0.526846</td>\n",
       "      <td>-0.737691</td>\n",
       "    </tr>\n",
       "    <tr>\n",
       "      <th>2</th>\n",
       "      <td>0.151040</td>\n",
       "      <td>4.129777</td>\n",
       "      <td>-0.998814</td>\n",
       "      <td>-0.979466</td>\n",
       "      <td>-0.407020</td>\n",
       "      <td>-0.160945</td>\n",
       "      <td>3.088017</td>\n",
       "      <td>-1.059452</td>\n",
       "      <td>0.409661</td>\n",
       "      <td>0.143658</td>\n",
       "      <td>-0.664112</td>\n",
       "      <td>0.428551</td>\n",
       "      <td>-0.173408</td>\n",
       "      <td>-0.060506</td>\n",
       "      <td>-0.101479</td>\n",
       "      <td>3.646696</td>\n",
       "      <td>0.552579</td>\n",
       "    </tr>\n",
       "    <tr>\n",
       "      <th>3</th>\n",
       "      <td>0.151040</td>\n",
       "      <td>-0.313454</td>\n",
       "      <td>-0.998814</td>\n",
       "      <td>0.421768</td>\n",
       "      <td>-0.407020</td>\n",
       "      <td>-0.160945</td>\n",
       "      <td>-0.515173</td>\n",
       "      <td>-0.195983</td>\n",
       "      <td>0.409661</td>\n",
       "      <td>-0.916652</td>\n",
       "      <td>1.585992</td>\n",
       "      <td>-1.149928</td>\n",
       "      <td>-0.173408</td>\n",
       "      <td>-0.060506</td>\n",
       "      <td>-0.101479</td>\n",
       "      <td>-0.641282</td>\n",
       "      <td>-0.737691</td>\n",
       "    </tr>\n",
       "    <tr>\n",
       "      <th>4</th>\n",
       "      <td>-1.753925</td>\n",
       "      <td>-0.313454</td>\n",
       "      <td>-0.998814</td>\n",
       "      <td>-0.278849</td>\n",
       "      <td>2.996268</td>\n",
       "      <td>-0.160945</td>\n",
       "      <td>-0.515173</td>\n",
       "      <td>-1.195140</td>\n",
       "      <td>0.409661</td>\n",
       "      <td>0.497095</td>\n",
       "      <td>0.573445</td>\n",
       "      <td>0.428551</td>\n",
       "      <td>-0.173408</td>\n",
       "      <td>-0.060506</td>\n",
       "      <td>-0.101479</td>\n",
       "      <td>1.061793</td>\n",
       "      <td>-0.737691</td>\n",
       "    </tr>\n",
       "  </tbody>\n",
       "</table>\n",
       "</div>"
      ],
      "text/plain": [
       "   no_of_adults  no_of_children  no_of_weekend_nights  no_of_week_nights  \\\n",
       "0      2.056005       -0.313454              0.130259           1.122386   \n",
       "1      0.151040       -0.313454             -0.998814           0.421768   \n",
       "2      0.151040        4.129777             -0.998814          -0.979466   \n",
       "3      0.151040       -0.313454             -0.998814           0.421768   \n",
       "4     -1.753925       -0.313454             -0.998814          -0.278849   \n",
       "\n",
       "   type_of_meal_plan  required_car_parking_space  room_type_reserved  \\\n",
       "0          -0.407020                   -0.160945            0.685890   \n",
       "1          -0.407020                   -0.160945           -0.515173   \n",
       "2          -0.407020                   -0.160945            3.088017   \n",
       "3          -0.407020                   -0.160945           -0.515173   \n",
       "4           2.996268                   -0.160945           -0.515173   \n",
       "\n",
       "   lead_time  arrival_year  arrival_month  arrival_date  market_segment_type  \\\n",
       "0   0.087728      0.409661       1.557404     -1.226638             0.428551   \n",
       "1  -1.010111     -2.441040       0.850531      0.573445            -1.149928   \n",
       "2  -1.059452      0.409661       0.143658     -0.664112             0.428551   \n",
       "3  -0.195983      0.409661      -0.916652      1.585992            -1.149928   \n",
       "4  -1.195140      0.409661       0.497095      0.573445             0.428551   \n",
       "\n",
       "   repeated_guest  no_of_previous_cancellations  \\\n",
       "0       -0.173408                     -0.060506   \n",
       "1       -0.173408                     -0.060506   \n",
       "2       -0.173408                     -0.060506   \n",
       "3       -0.173408                     -0.060506   \n",
       "4       -0.173408                     -0.060506   \n",
       "\n",
       "   no_of_previous_bookings_not_canceled  avg_price_per_room  \\\n",
       "0                             -0.101479            0.297092   \n",
       "1                             -0.101479           -0.526846   \n",
       "2                             -0.101479            3.646696   \n",
       "3                             -0.101479           -0.641282   \n",
       "4                             -0.101479            1.061793   \n",
       "\n",
       "   no_of_special_requests  \n",
       "0                1.842849  \n",
       "1               -0.737691  \n",
       "2                0.552579  \n",
       "3               -0.737691  \n",
       "4               -0.737691  "
      ]
     },
     "execution_count": 55,
     "metadata": {},
     "output_type": "execute_result"
    }
   ],
   "source": [
    "xnew_pre=pd.DataFrame(xnew_pre,columns=cols)\n",
    "xnew_pre.head()"
   ]
  },
  {
   "cell_type": "markdown",
   "metadata": {},
   "source": [
    "## Get probabilities for the above data"
   ]
  },
  {
   "cell_type": "code",
   "execution_count": 56,
   "metadata": {},
   "outputs": [
    {
     "name": "stdout",
     "output_type": "stream",
     "text": [
      "878/878 [==============================] - 1s 844us/step\n"
     ]
    },
    {
     "data": {
      "text/plain": [
       "array([[0.08428218],\n",
       "       [0.02514573],\n",
       "       [0.28646526],\n",
       "       [0.14280479],\n",
       "       [0.5558595 ]], dtype=float32)"
      ]
     },
     "execution_count": 56,
     "metadata": {},
     "output_type": "execute_result"
    }
   ],
   "source": [
    "prob=model.predict(xnew_pre)\n",
    "prob[0:5]"
   ]
  },
  {
   "cell_type": "markdown",
   "metadata": {},
   "source": [
    "## Predict the class 0 (not cancelled), 1(cancelled)"
   ]
  },
  {
   "cell_type": "code",
   "execution_count": 57,
   "metadata": {},
   "outputs": [
    {
     "data": {
      "text/plain": [
       "[0, 0, 0, 0, 1]"
      ]
     },
     "execution_count": 57,
     "metadata": {},
     "output_type": "execute_result"
    }
   ],
   "source": [
    "preds=[1 if i>=0.5 else 0 for i in prob]\n",
    "preds[0:5]"
   ]
  },
  {
   "cell_type": "markdown",
   "metadata": {},
   "source": [
    "## SAVE ABOVE VALUES IN XNEW DATAFRAME"
   ]
  },
  {
   "cell_type": "code",
   "execution_count": 58,
   "metadata": {},
   "outputs": [
    {
     "data": {
      "text/html": [
       "<div>\n",
       "<style scoped>\n",
       "    .dataframe tbody tr th:only-of-type {\n",
       "        vertical-align: middle;\n",
       "    }\n",
       "\n",
       "    .dataframe tbody tr th {\n",
       "        vertical-align: top;\n",
       "    }\n",
       "\n",
       "    .dataframe thead th {\n",
       "        text-align: right;\n",
       "    }\n",
       "</style>\n",
       "<table border=\"1\" class=\"dataframe\">\n",
       "  <thead>\n",
       "    <tr style=\"text-align: right;\">\n",
       "      <th></th>\n",
       "      <th>id</th>\n",
       "    </tr>\n",
       "  </thead>\n",
       "  <tbody>\n",
       "    <tr>\n",
       "      <th>0</th>\n",
       "      <td>42100</td>\n",
       "    </tr>\n",
       "    <tr>\n",
       "      <th>1</th>\n",
       "      <td>42101</td>\n",
       "    </tr>\n",
       "    <tr>\n",
       "      <th>2</th>\n",
       "      <td>42102</td>\n",
       "    </tr>\n",
       "    <tr>\n",
       "      <th>3</th>\n",
       "      <td>42103</td>\n",
       "    </tr>\n",
       "    <tr>\n",
       "      <th>4</th>\n",
       "      <td>42104</td>\n",
       "    </tr>\n",
       "    <tr>\n",
       "      <th>...</th>\n",
       "      <td>...</td>\n",
       "    </tr>\n",
       "    <tr>\n",
       "      <th>28063</th>\n",
       "      <td>70163</td>\n",
       "    </tr>\n",
       "    <tr>\n",
       "      <th>28064</th>\n",
       "      <td>70164</td>\n",
       "    </tr>\n",
       "    <tr>\n",
       "      <th>28065</th>\n",
       "      <td>70165</td>\n",
       "    </tr>\n",
       "    <tr>\n",
       "      <th>28066</th>\n",
       "      <td>70166</td>\n",
       "    </tr>\n",
       "    <tr>\n",
       "      <th>28067</th>\n",
       "      <td>70167</td>\n",
       "    </tr>\n",
       "  </tbody>\n",
       "</table>\n",
       "<p>28068 rows × 1 columns</p>\n",
       "</div>"
      ],
      "text/plain": [
       "          id\n",
       "0      42100\n",
       "1      42101\n",
       "2      42102\n",
       "3      42103\n",
       "4      42104\n",
       "...      ...\n",
       "28063  70163\n",
       "28064  70164\n",
       "28065  70165\n",
       "28066  70166\n",
       "28067  70167\n",
       "\n",
       "[28068 rows x 1 columns]"
      ]
     },
     "execution_count": 58,
     "metadata": {},
     "output_type": "execute_result"
    }
   ],
   "source": [
    "df_final=xnew[['id']]\n",
    "df_final"
   ]
  },
  {
   "cell_type": "code",
   "execution_count": 59,
   "metadata": {},
   "outputs": [],
   "source": [
    "df_final['booking_status_pred']=preds\n",
    "df_final['Cancellation_prob']=prob"
   ]
  },
  {
   "cell_type": "code",
   "execution_count": 60,
   "metadata": {},
   "outputs": [
    {
     "data": {
      "text/html": [
       "<div>\n",
       "<style scoped>\n",
       "    .dataframe tbody tr th:only-of-type {\n",
       "        vertical-align: middle;\n",
       "    }\n",
       "\n",
       "    .dataframe tbody tr th {\n",
       "        vertical-align: top;\n",
       "    }\n",
       "\n",
       "    .dataframe thead th {\n",
       "        text-align: right;\n",
       "    }\n",
       "</style>\n",
       "<table border=\"1\" class=\"dataframe\">\n",
       "  <thead>\n",
       "    <tr style=\"text-align: right;\">\n",
       "      <th></th>\n",
       "      <th>id</th>\n",
       "      <th>booking_status_pred</th>\n",
       "      <th>Cancellation_prob</th>\n",
       "    </tr>\n",
       "  </thead>\n",
       "  <tbody>\n",
       "    <tr>\n",
       "      <th>0</th>\n",
       "      <td>42100</td>\n",
       "      <td>0</td>\n",
       "      <td>0.084282</td>\n",
       "    </tr>\n",
       "    <tr>\n",
       "      <th>1</th>\n",
       "      <td>42101</td>\n",
       "      <td>0</td>\n",
       "      <td>0.025146</td>\n",
       "    </tr>\n",
       "    <tr>\n",
       "      <th>2</th>\n",
       "      <td>42102</td>\n",
       "      <td>0</td>\n",
       "      <td>0.286465</td>\n",
       "    </tr>\n",
       "    <tr>\n",
       "      <th>3</th>\n",
       "      <td>42103</td>\n",
       "      <td>0</td>\n",
       "      <td>0.142805</td>\n",
       "    </tr>\n",
       "    <tr>\n",
       "      <th>4</th>\n",
       "      <td>42104</td>\n",
       "      <td>1</td>\n",
       "      <td>0.555860</td>\n",
       "    </tr>\n",
       "    <tr>\n",
       "      <th>...</th>\n",
       "      <td>...</td>\n",
       "      <td>...</td>\n",
       "      <td>...</td>\n",
       "    </tr>\n",
       "    <tr>\n",
       "      <th>28063</th>\n",
       "      <td>70163</td>\n",
       "      <td>1</td>\n",
       "      <td>0.977165</td>\n",
       "    </tr>\n",
       "    <tr>\n",
       "      <th>28064</th>\n",
       "      <td>70164</td>\n",
       "      <td>0</td>\n",
       "      <td>0.044387</td>\n",
       "    </tr>\n",
       "    <tr>\n",
       "      <th>28065</th>\n",
       "      <td>70165</td>\n",
       "      <td>0</td>\n",
       "      <td>0.172499</td>\n",
       "    </tr>\n",
       "    <tr>\n",
       "      <th>28066</th>\n",
       "      <td>70166</td>\n",
       "      <td>0</td>\n",
       "      <td>0.389274</td>\n",
       "    </tr>\n",
       "    <tr>\n",
       "      <th>28067</th>\n",
       "      <td>70167</td>\n",
       "      <td>1</td>\n",
       "      <td>0.828446</td>\n",
       "    </tr>\n",
       "  </tbody>\n",
       "</table>\n",
       "<p>28068 rows × 3 columns</p>\n",
       "</div>"
      ],
      "text/plain": [
       "          id  booking_status_pred  Cancellation_prob\n",
       "0      42100                    0           0.084282\n",
       "1      42101                    0           0.025146\n",
       "2      42102                    0           0.286465\n",
       "3      42103                    0           0.142805\n",
       "4      42104                    1           0.555860\n",
       "...      ...                  ...                ...\n",
       "28063  70163                    1           0.977165\n",
       "28064  70164                    0           0.044387\n",
       "28065  70165                    0           0.172499\n",
       "28066  70166                    0           0.389274\n",
       "28067  70167                    1           0.828446\n",
       "\n",
       "[28068 rows x 3 columns]"
      ]
     },
     "execution_count": 60,
     "metadata": {},
     "output_type": "execute_result"
    }
   ],
   "source": [
    "df_final"
   ]
  },
  {
   "cell_type": "code",
   "execution_count": 61,
   "metadata": {},
   "outputs": [
    {
     "data": {
      "text/plain": [
       "booking_status_pred\n",
       "0    18544\n",
       "1     9524\n",
       "Name: count, dtype: int64"
      ]
     },
     "execution_count": 61,
     "metadata": {},
     "output_type": "execute_result"
    }
   ],
   "source": [
    "df_final['booking_status_pred'].value_counts()"
   ]
  },
  {
   "cell_type": "code",
   "execution_count": 62,
   "metadata": {},
   "outputs": [
    {
     "data": {
      "text/plain": [
       "<Axes: title={'center': 'Count plot for booking status pred'}, xlabel='booking_status_pred'>"
      ]
     },
     "execution_count": 62,
     "metadata": {},
     "output_type": "execute_result"
    },
    {
     "data": {
      "image/png": "[encoded data removed]",
      "text/plain": [
       "<Figure size 640x480 with 1 Axes>"
      ]
     },
     "metadata": {},
     "output_type": "display_data"
    }
   ],
   "source": [
    "df_final['booking_status_pred'].value_counts().plot(kind='bar',title='Count plot for booking status pred')"
   ]
  },
  {
   "cell_type": "markdown",
   "metadata": {},
   "source": [
    "## save the csv file"
   ]
  },
  {
   "cell_type": "code",
   "execution_count": 63,
   "metadata": {},
   "outputs": [],
   "source": [
    "df_final.to_csv('BookingResult.csv',index=False)"
   ]
  },
  {
   "cell_type": "code",
   "execution_count": null,
   "metadata": {},
   "outputs": [],
   "source": []
  }
 ],
 "metadata": {
  "kernelspec": {
   "display_name": "venv",
   "language": "python",
   "name": "python3"
  },
  "language_info": {
   "codemirror_mode": {
    "name": "ipython",
    "version": 3
   },
   "file_extension": ".py",
   "mimetype": "text/x-python",
   "name": "python",
   "nbconvert_exporter": "python",
   "pygments_lexer": "ipython3",
   "version": "3.11.6"
  }
 },
 "nbformat": 4,
 "nbformat_minor": 2
}
