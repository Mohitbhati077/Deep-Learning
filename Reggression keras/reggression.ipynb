{
 "cells": [
  {
   "cell_type": "markdown",
   "metadata": {},
   "source": [
    "## Regression- Predicting continous values"
   ]
  },
  {
   "cell_type": "code",
   "execution_count": 1,
   "metadata": {},
   "outputs": [],
   "source": [
    "from warnings import filterwarnings\n",
    "filterwarnings('ignore')"
   ]
  },
  {
   "cell_type": "markdown",
   "metadata": {},
   "source": [
    "## create a regression dataset"
   ]
  },
  {
   "cell_type": "code",
   "execution_count": 2,
   "metadata": {},
   "outputs": [],
   "source": [
    "from sklearn.datasets import make_regression\n",
    "X,Y=make_regression(n_samples=5000,n_features=30,n_informative=25,noise=10,random_state=42)"
   ]
  },
  {
   "cell_type": "code",
   "execution_count": 3,
   "metadata": {},
   "outputs": [
    {
     "data": {
      "text/plain": [
       "array([[-1.05245683, -0.94496269, -1.79989659, ..., -1.83442393,\n",
       "        -0.07956011,  1.20745263],\n",
       "       [-0.84747383,  0.31840811,  0.24796167, ..., -0.2390554 ,\n",
       "        -0.69763862,  1.31984005],\n",
       "       [-0.94602775,  0.2383774 , -1.6176638 , ..., -0.09142036,\n",
       "        -0.74652074, -2.21823553],\n",
       "       ...,\n",
       "       [-0.22097737,  1.14453288, -0.39354952, ..., -0.90184457,\n",
       "        -0.07424546, -0.2463316 ],\n",
       "       [-0.95614616,  0.03256098, -1.12885675, ..., -0.00963513,\n",
       "        -1.43734832,  0.63541106],\n",
       "       [ 1.51114116, -0.00270833, -1.26097476, ..., -0.15650465,\n",
       "         0.50981791,  1.19398227]])"
      ]
     },
     "execution_count": 3,
     "metadata": {},
     "output_type": "execute_result"
    }
   ],
   "source": [
    "X"
   ]
  },
  {
   "cell_type": "code",
   "execution_count": 4,
   "metadata": {},
   "outputs": [
    {
     "data": {
      "text/plain": [
       "array([-232.93639282, -144.45063306,  -30.67109763, ...,  143.2968639 ,\n",
       "       -248.32988778,  -19.83229819])"
      ]
     },
     "execution_count": 4,
     "metadata": {},
     "output_type": "execute_result"
    }
   ],
   "source": [
    "Y"
   ]
  },
  {
   "cell_type": "code",
   "execution_count": 5,
   "metadata": {},
   "outputs": [
    {
     "data": {
      "text/plain": [
       "(5000, 30)"
      ]
     },
     "execution_count": 5,
     "metadata": {},
     "output_type": "execute_result"
    }
   ],
   "source": [
    "X.shape"
   ]
  },
  {
   "cell_type": "markdown",
   "metadata": {},
   "source": [
    "## Save X and Y in dataframe"
   ]
  },
  {
   "cell_type": "code",
   "execution_count": 6,
   "metadata": {},
   "outputs": [
    {
     "data": {
      "text/plain": [
       "['x1',\n",
       " 'x2',\n",
       " 'x3',\n",
       " 'x4',\n",
       " 'x5',\n",
       " 'x6',\n",
       " 'x7',\n",
       " 'x8',\n",
       " 'x9',\n",
       " 'x10',\n",
       " 'x11',\n",
       " 'x12',\n",
       " 'x13',\n",
       " 'x14',\n",
       " 'x15',\n",
       " 'x16',\n",
       " 'x17',\n",
       " 'x18',\n",
       " 'x19',\n",
       " 'x20',\n",
       " 'x21',\n",
       " 'x22',\n",
       " 'x23',\n",
       " 'x24',\n",
       " 'x25',\n",
       " 'x26',\n",
       " 'x27',\n",
       " 'x28',\n",
       " 'x29',\n",
       " 'x30']"
      ]
     },
     "execution_count": 6,
     "metadata": {},
     "output_type": "execute_result"
    }
   ],
   "source": [
    "cols=[f'x{i+1}' for i in range(30)]\n",
    "cols"
   ]
  },
  {
   "cell_type": "code",
   "execution_count": 7,
   "metadata": {},
   "outputs": [
    {
     "data": {
      "text/html": [
       "<div>\n",
       "<style scoped>\n",
       "    .dataframe tbody tr th:only-of-type {\n",
       "        vertical-align: middle;\n",
       "    }\n",
       "\n",
       "    .dataframe tbody tr th {\n",
       "        vertical-align: top;\n",
       "    }\n",
       "\n",
       "    .dataframe thead th {\n",
       "        text-align: right;\n",
       "    }\n",
       "</style>\n",
       "<table border=\"1\" class=\"dataframe\">\n",
       "  <thead>\n",
       "    <tr style=\"text-align: right;\">\n",
       "      <th></th>\n",
       "      <th>x1</th>\n",
       "      <th>x2</th>\n",
       "      <th>x3</th>\n",
       "      <th>x4</th>\n",
       "      <th>x5</th>\n",
       "      <th>x6</th>\n",
       "      <th>x7</th>\n",
       "      <th>x8</th>\n",
       "      <th>x9</th>\n",
       "      <th>x10</th>\n",
       "      <th>...</th>\n",
       "      <th>x21</th>\n",
       "      <th>x22</th>\n",
       "      <th>x23</th>\n",
       "      <th>x24</th>\n",
       "      <th>x25</th>\n",
       "      <th>x26</th>\n",
       "      <th>x27</th>\n",
       "      <th>x28</th>\n",
       "      <th>x29</th>\n",
       "      <th>x30</th>\n",
       "    </tr>\n",
       "  </thead>\n",
       "  <tbody>\n",
       "    <tr>\n",
       "      <th>0</th>\n",
       "      <td>-1.052457</td>\n",
       "      <td>-0.944963</td>\n",
       "      <td>-1.799897</td>\n",
       "      <td>-0.034799</td>\n",
       "      <td>-1.482409</td>\n",
       "      <td>1.613543</td>\n",
       "      <td>-0.748163</td>\n",
       "      <td>-0.645310</td>\n",
       "      <td>1.063117</td>\n",
       "      <td>-1.335465</td>\n",
       "      <td>...</td>\n",
       "      <td>-0.398323</td>\n",
       "      <td>0.326932</td>\n",
       "      <td>2.042239</td>\n",
       "      <td>-0.301699</td>\n",
       "      <td>-1.361063</td>\n",
       "      <td>1.454857</td>\n",
       "      <td>-0.066823</td>\n",
       "      <td>-1.834424</td>\n",
       "      <td>-0.079560</td>\n",
       "      <td>1.207453</td>\n",
       "    </tr>\n",
       "    <tr>\n",
       "      <th>1</th>\n",
       "      <td>-0.847474</td>\n",
       "      <td>0.318408</td>\n",
       "      <td>0.247962</td>\n",
       "      <td>0.176165</td>\n",
       "      <td>0.550274</td>\n",
       "      <td>-0.695864</td>\n",
       "      <td>0.599538</td>\n",
       "      <td>-0.050914</td>\n",
       "      <td>1.363157</td>\n",
       "      <td>-1.201647</td>\n",
       "      <td>...</td>\n",
       "      <td>-1.368967</td>\n",
       "      <td>-0.403174</td>\n",
       "      <td>0.125837</td>\n",
       "      <td>-1.231097</td>\n",
       "      <td>-0.042579</td>\n",
       "      <td>-0.293594</td>\n",
       "      <td>-0.505876</td>\n",
       "      <td>-0.239055</td>\n",
       "      <td>-0.697639</td>\n",
       "      <td>1.319840</td>\n",
       "    </tr>\n",
       "    <tr>\n",
       "      <th>2</th>\n",
       "      <td>-0.946028</td>\n",
       "      <td>0.238377</td>\n",
       "      <td>-1.617664</td>\n",
       "      <td>-2.253756</td>\n",
       "      <td>-1.057629</td>\n",
       "      <td>-0.011553</td>\n",
       "      <td>1.400647</td>\n",
       "      <td>0.990803</td>\n",
       "      <td>-0.262228</td>\n",
       "      <td>-0.396235</td>\n",
       "      <td>...</td>\n",
       "      <td>-0.400736</td>\n",
       "      <td>0.007432</td>\n",
       "      <td>0.219753</td>\n",
       "      <td>2.205187</td>\n",
       "      <td>0.746020</td>\n",
       "      <td>-0.175596</td>\n",
       "      <td>-1.132978</td>\n",
       "      <td>-0.091420</td>\n",
       "      <td>-0.746521</td>\n",
       "      <td>-2.218236</td>\n",
       "    </tr>\n",
       "    <tr>\n",
       "      <th>3</th>\n",
       "      <td>-0.365222</td>\n",
       "      <td>0.004347</td>\n",
       "      <td>1.459301</td>\n",
       "      <td>1.650519</td>\n",
       "      <td>-3.114990</td>\n",
       "      <td>0.718841</td>\n",
       "      <td>1.669763</td>\n",
       "      <td>0.594568</td>\n",
       "      <td>0.350614</td>\n",
       "      <td>-0.528732</td>\n",
       "      <td>...</td>\n",
       "      <td>0.587610</td>\n",
       "      <td>0.050495</td>\n",
       "      <td>0.692244</td>\n",
       "      <td>0.492412</td>\n",
       "      <td>-0.118160</td>\n",
       "      <td>0.151945</td>\n",
       "      <td>-0.299890</td>\n",
       "      <td>1.009559</td>\n",
       "      <td>-0.779756</td>\n",
       "      <td>1.105541</td>\n",
       "    </tr>\n",
       "    <tr>\n",
       "      <th>4</th>\n",
       "      <td>-0.937119</td>\n",
       "      <td>0.038862</td>\n",
       "      <td>0.267291</td>\n",
       "      <td>-2.321520</td>\n",
       "      <td>-0.519995</td>\n",
       "      <td>1.281711</td>\n",
       "      <td>-0.447109</td>\n",
       "      <td>1.847404</td>\n",
       "      <td>-0.179080</td>\n",
       "      <td>0.073799</td>\n",
       "      <td>...</td>\n",
       "      <td>-0.985717</td>\n",
       "      <td>0.734585</td>\n",
       "      <td>-0.870311</td>\n",
       "      <td>0.316585</td>\n",
       "      <td>0.373045</td>\n",
       "      <td>-0.594102</td>\n",
       "      <td>-1.388615</td>\n",
       "      <td>1.262913</td>\n",
       "      <td>-0.668793</td>\n",
       "      <td>-0.049186</td>\n",
       "    </tr>\n",
       "  </tbody>\n",
       "</table>\n",
       "<p>5 rows × 30 columns</p>\n",
       "</div>"
      ],
      "text/plain": [
       "         x1        x2        x3        x4        x5        x6        x7  \\\n",
       "0 -1.052457 -0.944963 -1.799897 -0.034799 -1.482409  1.613543 -0.748163   \n",
       "1 -0.847474  0.318408  0.247962  0.176165  0.550274 -0.695864  0.599538   \n",
       "2 -0.946028  0.238377 -1.617664 -2.253756 -1.057629 -0.011553  1.400647   \n",
       "3 -0.365222  0.004347  1.459301  1.650519 -3.114990  0.718841  1.669763   \n",
       "4 -0.937119  0.038862  0.267291 -2.321520 -0.519995  1.281711 -0.447109   \n",
       "\n",
       "         x8        x9       x10  ...       x21       x22       x23       x24  \\\n",
       "0 -0.645310  1.063117 -1.335465  ... -0.398323  0.326932  2.042239 -0.301699   \n",
       "1 -0.050914  1.363157 -1.201647  ... -1.368967 -0.403174  0.125837 -1.231097   \n",
       "2  0.990803 -0.262228 -0.396235  ... -0.400736  0.007432  0.219753  2.205187   \n",
       "3  0.594568  0.350614 -0.528732  ...  0.587610  0.050495  0.692244  0.492412   \n",
       "4  1.847404 -0.179080  0.073799  ... -0.985717  0.734585 -0.870311  0.316585   \n",
       "\n",
       "        x25       x26       x27       x28       x29       x30  \n",
       "0 -1.361063  1.454857 -0.066823 -1.834424 -0.079560  1.207453  \n",
       "1 -0.042579 -0.293594 -0.505876 -0.239055 -0.697639  1.319840  \n",
       "2  0.746020 -0.175596 -1.132978 -0.091420 -0.746521 -2.218236  \n",
       "3 -0.118160  0.151945 -0.299890  1.009559 -0.779756  1.105541  \n",
       "4  0.373045 -0.594102 -1.388615  1.262913 -0.668793 -0.049186  \n",
       "\n",
       "[5 rows x 30 columns]"
      ]
     },
     "execution_count": 7,
     "metadata": {},
     "output_type": "execute_result"
    }
   ],
   "source": [
    "import pandas as pd\n",
    "X=pd.DataFrame(X,columns=cols)\n",
    "X.head()"
   ]
  },
  {
   "cell_type": "code",
   "execution_count": 8,
   "metadata": {},
   "outputs": [],
   "source": [
    "Y=pd.DataFrame(Y,columns=['Y'])"
   ]
  },
  {
   "cell_type": "code",
   "execution_count": 9,
   "metadata": {},
   "outputs": [
    {
     "data": {
      "text/html": [
       "<div>\n",
       "<style scoped>\n",
       "    .dataframe tbody tr th:only-of-type {\n",
       "        vertical-align: middle;\n",
       "    }\n",
       "\n",
       "    .dataframe tbody tr th {\n",
       "        vertical-align: top;\n",
       "    }\n",
       "\n",
       "    .dataframe thead th {\n",
       "        text-align: right;\n",
       "    }\n",
       "</style>\n",
       "<table border=\"1\" class=\"dataframe\">\n",
       "  <thead>\n",
       "    <tr style=\"text-align: right;\">\n",
       "      <th></th>\n",
       "      <th>Y</th>\n",
       "    </tr>\n",
       "  </thead>\n",
       "  <tbody>\n",
       "    <tr>\n",
       "      <th>0</th>\n",
       "      <td>-232.936393</td>\n",
       "    </tr>\n",
       "    <tr>\n",
       "      <th>1</th>\n",
       "      <td>-144.450633</td>\n",
       "    </tr>\n",
       "    <tr>\n",
       "      <th>2</th>\n",
       "      <td>-30.671098</td>\n",
       "    </tr>\n",
       "    <tr>\n",
       "      <th>3</th>\n",
       "      <td>165.764197</td>\n",
       "    </tr>\n",
       "    <tr>\n",
       "      <th>4</th>\n",
       "      <td>-252.068764</td>\n",
       "    </tr>\n",
       "    <tr>\n",
       "      <th>...</th>\n",
       "      <td>...</td>\n",
       "    </tr>\n",
       "    <tr>\n",
       "      <th>4995</th>\n",
       "      <td>337.924300</td>\n",
       "    </tr>\n",
       "    <tr>\n",
       "      <th>4996</th>\n",
       "      <td>587.266360</td>\n",
       "    </tr>\n",
       "    <tr>\n",
       "      <th>4997</th>\n",
       "      <td>143.296864</td>\n",
       "    </tr>\n",
       "    <tr>\n",
       "      <th>4998</th>\n",
       "      <td>-248.329888</td>\n",
       "    </tr>\n",
       "    <tr>\n",
       "      <th>4999</th>\n",
       "      <td>-19.832298</td>\n",
       "    </tr>\n",
       "  </tbody>\n",
       "</table>\n",
       "<p>5000 rows × 1 columns</p>\n",
       "</div>"
      ],
      "text/plain": [
       "               Y\n",
       "0    -232.936393\n",
       "1    -144.450633\n",
       "2     -30.671098\n",
       "3     165.764197\n",
       "4    -252.068764\n",
       "...          ...\n",
       "4995  337.924300\n",
       "4996  587.266360\n",
       "4997  143.296864\n",
       "4998 -248.329888\n",
       "4999  -19.832298\n",
       "\n",
       "[5000 rows x 1 columns]"
      ]
     },
     "execution_count": 9,
     "metadata": {},
     "output_type": "execute_result"
    }
   ],
   "source": [
    "Y"
   ]
  },
  {
   "cell_type": "markdown",
   "metadata": {},
   "source": [
    "## Create a preprocessing Pipeline for X"
   ]
  },
  {
   "cell_type": "code",
   "execution_count": 10,
   "metadata": {},
   "outputs": [],
   "source": [
    "from sklearn.pipeline import Pipeline\n",
    "from sklearn.impute import SimpleImputer\n",
    "from sklearn.preprocessing import StandardScaler"
   ]
  },
  {
   "cell_type": "code",
   "execution_count": 11,
   "metadata": {},
   "outputs": [],
   "source": [
    "num_pipe=Pipeline(steps=[('impute',SimpleImputer(strategy='mean')),\n",
    "                         ('scaler',StandardScaler())])"
   ]
  },
  {
   "cell_type": "code",
   "execution_count": 12,
   "metadata": {},
   "outputs": [
    {
     "data": {
      "text/plain": [
       "array([[-1.00877542, -0.96849615, -1.8356222 , ..., -1.84743596,\n",
       "        -0.06441693,  1.19633814],\n",
       "       [-0.80656544,  0.30321775,  0.22782616, ..., -0.25077076,\n",
       "        -0.67948802,  1.30863615],\n",
       "       [-0.90378611,  0.22265853, -1.6520021 , ..., -0.10301574,\n",
       "        -0.72813229, -2.22662492],\n",
       "       ...,\n",
       "       [-0.1885443 ,  1.13479811, -0.41856878, ..., -0.91409862,\n",
       "        -0.05912814, -0.25628963],\n",
       "       [-0.91376764,  0.01548293, -1.15947382, ..., -0.02116403,\n",
       "        -1.41559849,  0.62475162],\n",
       "       [ 1.52014196, -0.02001929, -1.29259762, ..., -0.16815292,\n",
       "         0.52209333,  1.18287849]])"
      ]
     },
     "execution_count": 12,
     "metadata": {},
     "output_type": "execute_result"
    }
   ],
   "source": [
    "X_pre=num_pipe.fit_transform(X)\n",
    "X_pre"
   ]
  },
  {
   "cell_type": "code",
   "execution_count": 14,
   "metadata": {},
   "outputs": [],
   "source": [
    "cols=num_pipe.get_feature_names_out()"
   ]
  },
  {
   "cell_type": "code",
   "execution_count": 15,
   "metadata": {},
   "outputs": [
    {
     "data": {
      "text/plain": [
       "array(['x1', 'x2', 'x3', 'x4', 'x5', 'x6', 'x7', 'x8', 'x9', 'x10', 'x11',\n",
       "       'x12', 'x13', 'x14', 'x15', 'x16', 'x17', 'x18', 'x19', 'x20',\n",
       "       'x21', 'x22', 'x23', 'x24', 'x25', 'x26', 'x27', 'x28', 'x29',\n",
       "       'x30'], dtype=object)"
      ]
     },
     "execution_count": 15,
     "metadata": {},
     "output_type": "execute_result"
    }
   ],
   "source": [
    "cols"
   ]
  },
  {
   "cell_type": "code",
   "execution_count": 16,
   "metadata": {},
   "outputs": [
    {
     "data": {
      "text/html": [
       "<div>\n",
       "<style scoped>\n",
       "    .dataframe tbody tr th:only-of-type {\n",
       "        vertical-align: middle;\n",
       "    }\n",
       "\n",
       "    .dataframe tbody tr th {\n",
       "        vertical-align: top;\n",
       "    }\n",
       "\n",
       "    .dataframe thead th {\n",
       "        text-align: right;\n",
       "    }\n",
       "</style>\n",
       "<table border=\"1\" class=\"dataframe\">\n",
       "  <thead>\n",
       "    <tr style=\"text-align: right;\">\n",
       "      <th></th>\n",
       "      <th>x1</th>\n",
       "      <th>x2</th>\n",
       "      <th>x3</th>\n",
       "      <th>x4</th>\n",
       "      <th>x5</th>\n",
       "      <th>x6</th>\n",
       "      <th>x7</th>\n",
       "      <th>x8</th>\n",
       "      <th>x9</th>\n",
       "      <th>x10</th>\n",
       "      <th>...</th>\n",
       "      <th>x21</th>\n",
       "      <th>x22</th>\n",
       "      <th>x23</th>\n",
       "      <th>x24</th>\n",
       "      <th>x25</th>\n",
       "      <th>x26</th>\n",
       "      <th>x27</th>\n",
       "      <th>x28</th>\n",
       "      <th>x29</th>\n",
       "      <th>x30</th>\n",
       "    </tr>\n",
       "  </thead>\n",
       "  <tbody>\n",
       "    <tr>\n",
       "      <th>0</th>\n",
       "      <td>-1.008775</td>\n",
       "      <td>-0.968496</td>\n",
       "      <td>-1.835622</td>\n",
       "      <td>-0.032196</td>\n",
       "      <td>-1.485420</td>\n",
       "      <td>1.614947</td>\n",
       "      <td>-0.747164</td>\n",
       "      <td>-0.627734</td>\n",
       "      <td>1.038359</td>\n",
       "      <td>-1.340893</td>\n",
       "      <td>...</td>\n",
       "      <td>-0.418507</td>\n",
       "      <td>0.322752</td>\n",
       "      <td>2.071710</td>\n",
       "      <td>-0.324901</td>\n",
       "      <td>-1.342910</td>\n",
       "      <td>1.406812</td>\n",
       "      <td>-0.052268</td>\n",
       "      <td>-1.847436</td>\n",
       "      <td>-0.064417</td>\n",
       "      <td>1.196338</td>\n",
       "    </tr>\n",
       "    <tr>\n",
       "      <th>1</th>\n",
       "      <td>-0.806565</td>\n",
       "      <td>0.303218</td>\n",
       "      <td>0.227826</td>\n",
       "      <td>0.179320</td>\n",
       "      <td>0.577043</td>\n",
       "      <td>-0.684461</td>\n",
       "      <td>0.585446</td>\n",
       "      <td>-0.053781</td>\n",
       "      <td>1.334905</td>\n",
       "      <td>-1.205877</td>\n",
       "      <td>...</td>\n",
       "      <td>-1.393646</td>\n",
       "      <td>-0.402106</td>\n",
       "      <td>0.132047</td>\n",
       "      <td>-1.271369</td>\n",
       "      <td>-0.027103</td>\n",
       "      <td>-0.319448</td>\n",
       "      <td>-0.496045</td>\n",
       "      <td>-0.250771</td>\n",
       "      <td>-0.679488</td>\n",
       "      <td>1.308636</td>\n",
       "    </tr>\n",
       "    <tr>\n",
       "      <th>2</th>\n",
       "      <td>-0.903786</td>\n",
       "      <td>0.222659</td>\n",
       "      <td>-1.652002</td>\n",
       "      <td>-2.256956</td>\n",
       "      <td>-1.054417</td>\n",
       "      <td>-0.003112</td>\n",
       "      <td>1.377584</td>\n",
       "      <td>0.952108</td>\n",
       "      <td>-0.271556</td>\n",
       "      <td>-0.393252</td>\n",
       "      <td>...</td>\n",
       "      <td>-0.420931</td>\n",
       "      <td>0.005548</td>\n",
       "      <td>0.227103</td>\n",
       "      <td>2.228029</td>\n",
       "      <td>0.759895</td>\n",
       "      <td>-0.202948</td>\n",
       "      <td>-1.129894</td>\n",
       "      <td>-0.103016</td>\n",
       "      <td>-0.728132</td>\n",
       "      <td>-2.226625</td>\n",
       "    </tr>\n",
       "    <tr>\n",
       "      <th>3</th>\n",
       "      <td>-0.330838</td>\n",
       "      <td>-0.012918</td>\n",
       "      <td>1.448387</td>\n",
       "      <td>1.657530</td>\n",
       "      <td>-3.141920</td>\n",
       "      <td>0.724120</td>\n",
       "      <td>1.643688</td>\n",
       "      <td>0.569500</td>\n",
       "      <td>0.334151</td>\n",
       "      <td>-0.526935</td>\n",
       "      <td>...</td>\n",
       "      <td>0.571991</td>\n",
       "      <td>0.048302</td>\n",
       "      <td>0.705328</td>\n",
       "      <td>0.483796</td>\n",
       "      <td>-0.102530</td>\n",
       "      <td>0.120436</td>\n",
       "      <td>-0.287843</td>\n",
       "      <td>0.998859</td>\n",
       "      <td>-0.761205</td>\n",
       "      <td>1.094508</td>\n",
       "    </tr>\n",
       "    <tr>\n",
       "      <th>4</th>\n",
       "      <td>-0.894998</td>\n",
       "      <td>0.021825</td>\n",
       "      <td>0.247303</td>\n",
       "      <td>-2.324897</td>\n",
       "      <td>-0.508906</td>\n",
       "      <td>1.284552</td>\n",
       "      <td>-0.449481</td>\n",
       "      <td>1.779248</td>\n",
       "      <td>-0.189376</td>\n",
       "      <td>0.080993</td>\n",
       "      <td>...</td>\n",
       "      <td>-1.008621</td>\n",
       "      <td>0.727476</td>\n",
       "      <td>-0.876193</td>\n",
       "      <td>0.304739</td>\n",
       "      <td>0.387677</td>\n",
       "      <td>-0.616143</td>\n",
       "      <td>-1.388281</td>\n",
       "      <td>1.252419</td>\n",
       "      <td>-0.650783</td>\n",
       "      <td>-0.059300</td>\n",
       "    </tr>\n",
       "  </tbody>\n",
       "</table>\n",
       "<p>5 rows × 30 columns</p>\n",
       "</div>"
      ],
      "text/plain": [
       "         x1        x2        x3        x4        x5        x6        x7  \\\n",
       "0 -1.008775 -0.968496 -1.835622 -0.032196 -1.485420  1.614947 -0.747164   \n",
       "1 -0.806565  0.303218  0.227826  0.179320  0.577043 -0.684461  0.585446   \n",
       "2 -0.903786  0.222659 -1.652002 -2.256956 -1.054417 -0.003112  1.377584   \n",
       "3 -0.330838 -0.012918  1.448387  1.657530 -3.141920  0.724120  1.643688   \n",
       "4 -0.894998  0.021825  0.247303 -2.324897 -0.508906  1.284552 -0.449481   \n",
       "\n",
       "         x8        x9       x10  ...       x21       x22       x23       x24  \\\n",
       "0 -0.627734  1.038359 -1.340893  ... -0.418507  0.322752  2.071710 -0.324901   \n",
       "1 -0.053781  1.334905 -1.205877  ... -1.393646 -0.402106  0.132047 -1.271369   \n",
       "2  0.952108 -0.271556 -0.393252  ... -0.420931  0.005548  0.227103  2.228029   \n",
       "3  0.569500  0.334151 -0.526935  ...  0.571991  0.048302  0.705328  0.483796   \n",
       "4  1.779248 -0.189376  0.080993  ... -1.008621  0.727476 -0.876193  0.304739   \n",
       "\n",
       "        x25       x26       x27       x28       x29       x30  \n",
       "0 -1.342910  1.406812 -0.052268 -1.847436 -0.064417  1.196338  \n",
       "1 -0.027103 -0.319448 -0.496045 -0.250771 -0.679488  1.308636  \n",
       "2  0.759895 -0.202948 -1.129894 -0.103016 -0.728132 -2.226625  \n",
       "3 -0.102530  0.120436 -0.287843  0.998859 -0.761205  1.094508  \n",
       "4  0.387677 -0.616143 -1.388281  1.252419 -0.650783 -0.059300  \n",
       "\n",
       "[5 rows x 30 columns]"
      ]
     },
     "execution_count": 16,
     "metadata": {},
     "output_type": "execute_result"
    }
   ],
   "source": [
    "X_pre=pd.DataFrame(X_pre,columns=cols)\n",
    "X_pre.head()"
   ]
  },
  {
   "cell_type": "markdown",
   "metadata": {},
   "source": [
    "# Train test Split"
   ]
  },
  {
   "cell_type": "code",
   "execution_count": 17,
   "metadata": {},
   "outputs": [],
   "source": [
    "from sklearn.model_selection import train_test_split\n",
    "xtrain,xtest,ytrain,ytest=train_test_split(X_pre,Y,test_size=0.2,random_state=42)"
   ]
  },
  {
   "cell_type": "code",
   "execution_count": 18,
   "metadata": {},
   "outputs": [
    {
     "data": {
      "text/html": [
       "<div>\n",
       "<style scoped>\n",
       "    .dataframe tbody tr th:only-of-type {\n",
       "        vertical-align: middle;\n",
       "    }\n",
       "\n",
       "    .dataframe tbody tr th {\n",
       "        vertical-align: top;\n",
       "    }\n",
       "\n",
       "    .dataframe thead th {\n",
       "        text-align: right;\n",
       "    }\n",
       "</style>\n",
       "<table border=\"1\" class=\"dataframe\">\n",
       "  <thead>\n",
       "    <tr style=\"text-align: right;\">\n",
       "      <th></th>\n",
       "      <th>x1</th>\n",
       "      <th>x2</th>\n",
       "      <th>x3</th>\n",
       "      <th>x4</th>\n",
       "      <th>x5</th>\n",
       "      <th>x6</th>\n",
       "      <th>x7</th>\n",
       "      <th>x8</th>\n",
       "      <th>x9</th>\n",
       "      <th>x10</th>\n",
       "      <th>...</th>\n",
       "      <th>x21</th>\n",
       "      <th>x22</th>\n",
       "      <th>x23</th>\n",
       "      <th>x24</th>\n",
       "      <th>x25</th>\n",
       "      <th>x26</th>\n",
       "      <th>x27</th>\n",
       "      <th>x28</th>\n",
       "      <th>x29</th>\n",
       "      <th>x30</th>\n",
       "    </tr>\n",
       "  </thead>\n",
       "  <tbody>\n",
       "    <tr>\n",
       "      <th>4227</th>\n",
       "      <td>0.274306</td>\n",
       "      <td>-2.243030</td>\n",
       "      <td>0.307393</td>\n",
       "      <td>2.279325</td>\n",
       "      <td>-0.849919</td>\n",
       "      <td>-0.499417</td>\n",
       "      <td>0.063387</td>\n",
       "      <td>0.322236</td>\n",
       "      <td>-0.279113</td>\n",
       "      <td>-1.485297</td>\n",
       "      <td>...</td>\n",
       "      <td>-0.435550</td>\n",
       "      <td>0.016456</td>\n",
       "      <td>-0.478773</td>\n",
       "      <td>0.826978</td>\n",
       "      <td>0.348374</td>\n",
       "      <td>0.203044</td>\n",
       "      <td>-0.974020</td>\n",
       "      <td>1.133163</td>\n",
       "      <td>0.644459</td>\n",
       "      <td>1.026561</td>\n",
       "    </tr>\n",
       "    <tr>\n",
       "      <th>4676</th>\n",
       "      <td>-0.110889</td>\n",
       "      <td>-2.308274</td>\n",
       "      <td>-0.306657</td>\n",
       "      <td>-2.797217</td>\n",
       "      <td>0.744218</td>\n",
       "      <td>-1.215240</td>\n",
       "      <td>0.092720</td>\n",
       "      <td>-0.881949</td>\n",
       "      <td>0.099739</td>\n",
       "      <td>-0.153516</td>\n",
       "      <td>...</td>\n",
       "      <td>0.684150</td>\n",
       "      <td>-0.050237</td>\n",
       "      <td>0.659385</td>\n",
       "      <td>0.950390</td>\n",
       "      <td>-2.264741</td>\n",
       "      <td>-0.934321</td>\n",
       "      <td>-0.207092</td>\n",
       "      <td>-1.429908</td>\n",
       "      <td>0.477449</td>\n",
       "      <td>-0.143864</td>\n",
       "    </tr>\n",
       "    <tr>\n",
       "      <th>800</th>\n",
       "      <td>-0.534724</td>\n",
       "      <td>0.341340</td>\n",
       "      <td>-0.318392</td>\n",
       "      <td>1.233363</td>\n",
       "      <td>1.778518</td>\n",
       "      <td>0.298750</td>\n",
       "      <td>0.083038</td>\n",
       "      <td>0.104657</td>\n",
       "      <td>0.121582</td>\n",
       "      <td>1.150535</td>\n",
       "      <td>...</td>\n",
       "      <td>2.105502</td>\n",
       "      <td>0.100787</td>\n",
       "      <td>0.150310</td>\n",
       "      <td>0.796843</td>\n",
       "      <td>0.088543</td>\n",
       "      <td>1.044029</td>\n",
       "      <td>-0.691462</td>\n",
       "      <td>0.027791</td>\n",
       "      <td>-0.467562</td>\n",
       "      <td>1.088671</td>\n",
       "    </tr>\n",
       "    <tr>\n",
       "      <th>3671</th>\n",
       "      <td>-0.366200</td>\n",
       "      <td>1.081039</td>\n",
       "      <td>-0.920495</td>\n",
       "      <td>-1.060692</td>\n",
       "      <td>-0.616689</td>\n",
       "      <td>0.923926</td>\n",
       "      <td>1.178280</td>\n",
       "      <td>-2.049797</td>\n",
       "      <td>-0.133985</td>\n",
       "      <td>-1.437462</td>\n",
       "      <td>...</td>\n",
       "      <td>0.375930</td>\n",
       "      <td>0.799287</td>\n",
       "      <td>-1.524107</td>\n",
       "      <td>-0.213573</td>\n",
       "      <td>1.841831</td>\n",
       "      <td>-0.235666</td>\n",
       "      <td>-1.623648</td>\n",
       "      <td>0.003545</td>\n",
       "      <td>2.453793</td>\n",
       "      <td>-0.826658</td>\n",
       "    </tr>\n",
       "    <tr>\n",
       "      <th>4193</th>\n",
       "      <td>-0.834782</td>\n",
       "      <td>1.471498</td>\n",
       "      <td>-1.414701</td>\n",
       "      <td>-0.704299</td>\n",
       "      <td>2.131088</td>\n",
       "      <td>-0.208189</td>\n",
       "      <td>0.823199</td>\n",
       "      <td>0.547557</td>\n",
       "      <td>0.462746</td>\n",
       "      <td>-1.556602</td>\n",
       "      <td>...</td>\n",
       "      <td>-1.605144</td>\n",
       "      <td>0.394171</td>\n",
       "      <td>0.414800</td>\n",
       "      <td>0.015313</td>\n",
       "      <td>-1.559552</td>\n",
       "      <td>0.776827</td>\n",
       "      <td>-1.919909</td>\n",
       "      <td>1.235952</td>\n",
       "      <td>-1.425568</td>\n",
       "      <td>0.749621</td>\n",
       "    </tr>\n",
       "  </tbody>\n",
       "</table>\n",
       "<p>5 rows × 30 columns</p>\n",
       "</div>"
      ],
      "text/plain": [
       "            x1        x2        x3        x4        x5        x6        x7  \\\n",
       "4227  0.274306 -2.243030  0.307393  2.279325 -0.849919 -0.499417  0.063387   \n",
       "4676 -0.110889 -2.308274 -0.306657 -2.797217  0.744218 -1.215240  0.092720   \n",
       "800  -0.534724  0.341340 -0.318392  1.233363  1.778518  0.298750  0.083038   \n",
       "3671 -0.366200  1.081039 -0.920495 -1.060692 -0.616689  0.923926  1.178280   \n",
       "4193 -0.834782  1.471498 -1.414701 -0.704299  2.131088 -0.208189  0.823199   \n",
       "\n",
       "            x8        x9       x10  ...       x21       x22       x23  \\\n",
       "4227  0.322236 -0.279113 -1.485297  ... -0.435550  0.016456 -0.478773   \n",
       "4676 -0.881949  0.099739 -0.153516  ...  0.684150 -0.050237  0.659385   \n",
       "800   0.104657  0.121582  1.150535  ...  2.105502  0.100787  0.150310   \n",
       "3671 -2.049797 -0.133985 -1.437462  ...  0.375930  0.799287 -1.524107   \n",
       "4193  0.547557  0.462746 -1.556602  ... -1.605144  0.394171  0.414800   \n",
       "\n",
       "           x24       x25       x26       x27       x28       x29       x30  \n",
       "4227  0.826978  0.348374  0.203044 -0.974020  1.133163  0.644459  1.026561  \n",
       "4676  0.950390 -2.264741 -0.934321 -0.207092 -1.429908  0.477449 -0.143864  \n",
       "800   0.796843  0.088543  1.044029 -0.691462  0.027791 -0.467562  1.088671  \n",
       "3671 -0.213573  1.841831 -0.235666 -1.623648  0.003545  2.453793 -0.826658  \n",
       "4193  0.015313 -1.559552  0.776827 -1.919909  1.235952 -1.425568  0.749621  \n",
       "\n",
       "[5 rows x 30 columns]"
      ]
     },
     "execution_count": 18,
     "metadata": {},
     "output_type": "execute_result"
    }
   ],
   "source": [
    "xtrain.head()"
   ]
  },
  {
   "cell_type": "code",
   "execution_count": 19,
   "metadata": {},
   "outputs": [
    {
     "data": {
      "text/html": [
       "<div>\n",
       "<style scoped>\n",
       "    .dataframe tbody tr th:only-of-type {\n",
       "        vertical-align: middle;\n",
       "    }\n",
       "\n",
       "    .dataframe tbody tr th {\n",
       "        vertical-align: top;\n",
       "    }\n",
       "\n",
       "    .dataframe thead th {\n",
       "        text-align: right;\n",
       "    }\n",
       "</style>\n",
       "<table border=\"1\" class=\"dataframe\">\n",
       "  <thead>\n",
       "    <tr style=\"text-align: right;\">\n",
       "      <th></th>\n",
       "      <th>Y</th>\n",
       "    </tr>\n",
       "  </thead>\n",
       "  <tbody>\n",
       "    <tr>\n",
       "      <th>4227</th>\n",
       "      <td>421.295025</td>\n",
       "    </tr>\n",
       "    <tr>\n",
       "      <th>4676</th>\n",
       "      <td>-469.452726</td>\n",
       "    </tr>\n",
       "    <tr>\n",
       "      <th>800</th>\n",
       "      <td>42.172815</td>\n",
       "    </tr>\n",
       "    <tr>\n",
       "      <th>3671</th>\n",
       "      <td>114.083914</td>\n",
       "    </tr>\n",
       "    <tr>\n",
       "      <th>4193</th>\n",
       "      <td>-217.535707</td>\n",
       "    </tr>\n",
       "  </tbody>\n",
       "</table>\n",
       "</div>"
      ],
      "text/plain": [
       "               Y\n",
       "4227  421.295025\n",
       "4676 -469.452726\n",
       "800    42.172815\n",
       "3671  114.083914\n",
       "4193 -217.535707"
      ]
     },
     "execution_count": 19,
     "metadata": {},
     "output_type": "execute_result"
    }
   ],
   "source": [
    "ytrain.head()"
   ]
  },
  {
   "cell_type": "code",
   "execution_count": 20,
   "metadata": {},
   "outputs": [
    {
     "data": {
      "text/html": [
       "<div>\n",
       "<style scoped>\n",
       "    .dataframe tbody tr th:only-of-type {\n",
       "        vertical-align: middle;\n",
       "    }\n",
       "\n",
       "    .dataframe tbody tr th {\n",
       "        vertical-align: top;\n",
       "    }\n",
       "\n",
       "    .dataframe thead th {\n",
       "        text-align: right;\n",
       "    }\n",
       "</style>\n",
       "<table border=\"1\" class=\"dataframe\">\n",
       "  <thead>\n",
       "    <tr style=\"text-align: right;\">\n",
       "      <th></th>\n",
       "      <th>x1</th>\n",
       "      <th>x2</th>\n",
       "      <th>x3</th>\n",
       "      <th>x4</th>\n",
       "      <th>x5</th>\n",
       "      <th>x6</th>\n",
       "      <th>x7</th>\n",
       "      <th>x8</th>\n",
       "      <th>x9</th>\n",
       "      <th>x10</th>\n",
       "      <th>...</th>\n",
       "      <th>x21</th>\n",
       "      <th>x22</th>\n",
       "      <th>x23</th>\n",
       "      <th>x24</th>\n",
       "      <th>x25</th>\n",
       "      <th>x26</th>\n",
       "      <th>x27</th>\n",
       "      <th>x28</th>\n",
       "      <th>x29</th>\n",
       "      <th>x30</th>\n",
       "    </tr>\n",
       "  </thead>\n",
       "  <tbody>\n",
       "    <tr>\n",
       "      <th>1501</th>\n",
       "      <td>0.523841</td>\n",
       "      <td>0.380018</td>\n",
       "      <td>1.397668</td>\n",
       "      <td>1.832757</td>\n",
       "      <td>-0.050539</td>\n",
       "      <td>-0.370155</td>\n",
       "      <td>-0.415394</td>\n",
       "      <td>-1.015830</td>\n",
       "      <td>-0.468665</td>\n",
       "      <td>1.118904</td>\n",
       "      <td>...</td>\n",
       "      <td>-1.087076</td>\n",
       "      <td>0.280815</td>\n",
       "      <td>1.197157</td>\n",
       "      <td>-0.330182</td>\n",
       "      <td>-0.384110</td>\n",
       "      <td>0.456972</td>\n",
       "      <td>0.408793</td>\n",
       "      <td>0.229924</td>\n",
       "      <td>0.065080</td>\n",
       "      <td>-0.460325</td>\n",
       "    </tr>\n",
       "    <tr>\n",
       "      <th>2586</th>\n",
       "      <td>0.427962</td>\n",
       "      <td>0.736934</td>\n",
       "      <td>-1.337873</td>\n",
       "      <td>-0.286005</td>\n",
       "      <td>1.022151</td>\n",
       "      <td>-1.001614</td>\n",
       "      <td>1.835519</td>\n",
       "      <td>-1.545811</td>\n",
       "      <td>0.770498</td>\n",
       "      <td>0.293343</td>\n",
       "      <td>...</td>\n",
       "      <td>-0.316910</td>\n",
       "      <td>0.912012</td>\n",
       "      <td>-0.200186</td>\n",
       "      <td>0.895191</td>\n",
       "      <td>-1.340780</td>\n",
       "      <td>-0.398981</td>\n",
       "      <td>-1.299802</td>\n",
       "      <td>-1.160043</td>\n",
       "      <td>0.238474</td>\n",
       "      <td>-0.353788</td>\n",
       "    </tr>\n",
       "    <tr>\n",
       "      <th>2653</th>\n",
       "      <td>-1.237790</td>\n",
       "      <td>0.022987</td>\n",
       "      <td>0.591727</td>\n",
       "      <td>0.153331</td>\n",
       "      <td>-1.080162</td>\n",
       "      <td>0.695919</td>\n",
       "      <td>-0.224618</td>\n",
       "      <td>-1.372016</td>\n",
       "      <td>-0.465166</td>\n",
       "      <td>2.577988</td>\n",
       "      <td>...</td>\n",
       "      <td>0.420588</td>\n",
       "      <td>-0.927035</td>\n",
       "      <td>-1.260994</td>\n",
       "      <td>-0.041976</td>\n",
       "      <td>0.559996</td>\n",
       "      <td>-0.025339</td>\n",
       "      <td>0.715960</td>\n",
       "      <td>-2.211627</td>\n",
       "      <td>-0.158048</td>\n",
       "      <td>0.088334</td>\n",
       "    </tr>\n",
       "    <tr>\n",
       "      <th>1055</th>\n",
       "      <td>1.163302</td>\n",
       "      <td>0.829281</td>\n",
       "      <td>-0.052936</td>\n",
       "      <td>0.871349</td>\n",
       "      <td>0.526932</td>\n",
       "      <td>-0.469475</td>\n",
       "      <td>0.681055</td>\n",
       "      <td>2.525169</td>\n",
       "      <td>0.805937</td>\n",
       "      <td>-0.311984</td>\n",
       "      <td>...</td>\n",
       "      <td>-0.363881</td>\n",
       "      <td>-1.270352</td>\n",
       "      <td>-0.114835</td>\n",
       "      <td>-0.838927</td>\n",
       "      <td>0.522602</td>\n",
       "      <td>0.531030</td>\n",
       "      <td>-0.113249</td>\n",
       "      <td>-0.130759</td>\n",
       "      <td>-1.530358</td>\n",
       "      <td>0.355058</td>\n",
       "    </tr>\n",
       "    <tr>\n",
       "      <th>705</th>\n",
       "      <td>-0.916867</td>\n",
       "      <td>-0.873641</td>\n",
       "      <td>0.964425</td>\n",
       "      <td>-3.404521</td>\n",
       "      <td>-0.352093</td>\n",
       "      <td>0.141089</td>\n",
       "      <td>0.059867</td>\n",
       "      <td>-0.401822</td>\n",
       "      <td>0.274345</td>\n",
       "      <td>1.985234</td>\n",
       "      <td>...</td>\n",
       "      <td>-0.846910</td>\n",
       "      <td>1.259358</td>\n",
       "      <td>-0.624477</td>\n",
       "      <td>0.947502</td>\n",
       "      <td>0.249482</td>\n",
       "      <td>-0.340038</td>\n",
       "      <td>-0.624088</td>\n",
       "      <td>0.983280</td>\n",
       "      <td>1.321964</td>\n",
       "      <td>0.613101</td>\n",
       "    </tr>\n",
       "  </tbody>\n",
       "</table>\n",
       "<p>5 rows × 30 columns</p>\n",
       "</div>"
      ],
      "text/plain": [
       "            x1        x2        x3        x4        x5        x6        x7  \\\n",
       "1501  0.523841  0.380018  1.397668  1.832757 -0.050539 -0.370155 -0.415394   \n",
       "2586  0.427962  0.736934 -1.337873 -0.286005  1.022151 -1.001614  1.835519   \n",
       "2653 -1.237790  0.022987  0.591727  0.153331 -1.080162  0.695919 -0.224618   \n",
       "1055  1.163302  0.829281 -0.052936  0.871349  0.526932 -0.469475  0.681055   \n",
       "705  -0.916867 -0.873641  0.964425 -3.404521 -0.352093  0.141089  0.059867   \n",
       "\n",
       "            x8        x9       x10  ...       x21       x22       x23  \\\n",
       "1501 -1.015830 -0.468665  1.118904  ... -1.087076  0.280815  1.197157   \n",
       "2586 -1.545811  0.770498  0.293343  ... -0.316910  0.912012 -0.200186   \n",
       "2653 -1.372016 -0.465166  2.577988  ...  0.420588 -0.927035 -1.260994   \n",
       "1055  2.525169  0.805937 -0.311984  ... -0.363881 -1.270352 -0.114835   \n",
       "705  -0.401822  0.274345  1.985234  ... -0.846910  1.259358 -0.624477   \n",
       "\n",
       "           x24       x25       x26       x27       x28       x29       x30  \n",
       "1501 -0.330182 -0.384110  0.456972  0.408793  0.229924  0.065080 -0.460325  \n",
       "2586  0.895191 -1.340780 -0.398981 -1.299802 -1.160043  0.238474 -0.353788  \n",
       "2653 -0.041976  0.559996 -0.025339  0.715960 -2.211627 -0.158048  0.088334  \n",
       "1055 -0.838927  0.522602  0.531030 -0.113249 -0.130759 -1.530358  0.355058  \n",
       "705   0.947502  0.249482 -0.340038 -0.624088  0.983280  1.321964  0.613101  \n",
       "\n",
       "[5 rows x 30 columns]"
      ]
     },
     "execution_count": 20,
     "metadata": {},
     "output_type": "execute_result"
    }
   ],
   "source": [
    "xtest.head()"
   ]
  },
  {
   "cell_type": "code",
   "execution_count": 21,
   "metadata": {},
   "outputs": [
    {
     "data": {
      "text/html": [
       "<div>\n",
       "<style scoped>\n",
       "    .dataframe tbody tr th:only-of-type {\n",
       "        vertical-align: middle;\n",
       "    }\n",
       "\n",
       "    .dataframe tbody tr th {\n",
       "        vertical-align: top;\n",
       "    }\n",
       "\n",
       "    .dataframe thead th {\n",
       "        text-align: right;\n",
       "    }\n",
       "</style>\n",
       "<table border=\"1\" class=\"dataframe\">\n",
       "  <thead>\n",
       "    <tr style=\"text-align: right;\">\n",
       "      <th></th>\n",
       "      <th>Y</th>\n",
       "    </tr>\n",
       "  </thead>\n",
       "  <tbody>\n",
       "    <tr>\n",
       "      <th>1501</th>\n",
       "      <td>297.782677</td>\n",
       "    </tr>\n",
       "    <tr>\n",
       "      <th>2586</th>\n",
       "      <td>-55.418700</td>\n",
       "    </tr>\n",
       "    <tr>\n",
       "      <th>2653</th>\n",
       "      <td>-181.896454</td>\n",
       "    </tr>\n",
       "    <tr>\n",
       "      <th>1055</th>\n",
       "      <td>210.251382</td>\n",
       "    </tr>\n",
       "    <tr>\n",
       "      <th>705</th>\n",
       "      <td>188.412050</td>\n",
       "    </tr>\n",
       "  </tbody>\n",
       "</table>\n",
       "</div>"
      ],
      "text/plain": [
       "               Y\n",
       "1501  297.782677\n",
       "2586  -55.418700\n",
       "2653 -181.896454\n",
       "1055  210.251382\n",
       "705   188.412050"
      ]
     },
     "execution_count": 21,
     "metadata": {},
     "output_type": "execute_result"
    }
   ],
   "source": [
    "ytest.head()"
   ]
  },
  {
   "cell_type": "code",
   "execution_count": 23,
   "metadata": {},
   "outputs": [
    {
     "data": {
      "text/plain": [
       "(4000, 30)"
      ]
     },
     "execution_count": 23,
     "metadata": {},
     "output_type": "execute_result"
    }
   ],
   "source": [
    "xtrain.shape"
   ]
  },
  {
   "cell_type": "code",
   "execution_count": 24,
   "metadata": {},
   "outputs": [
    {
     "data": {
      "text/plain": [
       "(1000, 30)"
      ]
     },
     "execution_count": 24,
     "metadata": {},
     "output_type": "execute_result"
    }
   ],
   "source": [
    "xtest.shape"
   ]
  },
  {
   "cell_type": "code",
   "execution_count": 25,
   "metadata": {},
   "outputs": [
    {
     "data": {
      "text/plain": [
       "30"
      ]
     },
     "execution_count": 25,
     "metadata": {},
     "output_type": "execute_result"
    }
   ],
   "source": [
    "xtrain.shape[1]"
   ]
  },
  {
   "cell_type": "markdown",
   "metadata": {},
   "source": [
    "## Create a neural network with keras"
   ]
  },
  {
   "cell_type": "code",
   "execution_count": 26,
   "metadata": {},
   "outputs": [],
   "source": [
    "from keras.models import Sequential\n",
    "from keras.layers import Dense"
   ]
  },
  {
   "cell_type": "code",
   "execution_count": 27,
   "metadata": {},
   "outputs": [
    {
     "name": "stdout",
     "output_type": "stream",
     "text": [
      "WARNING:tensorflow:From c:\\Deep Learning\\repository\\venv\\Lib\\site-packages\\keras\\src\\backend.py:873: The name tf.get_default_graph is deprecated. Please use tf.compat.v1.get_default_graph instead.\n",
      "\n"
     ]
    }
   ],
   "source": [
    "#  Initalize sequential model\n",
    "model=Sequential()\n",
    "\n",
    "#Hidden Layer 1\n",
    "model.add(Dense(64,activation='relu',input_dim=xtrain.shape[1]))\n",
    "#Hidden Layer 2\n",
    "model.add(Dense(32,activation='relu'))\n",
    "#output layer\n",
    "model.add(Dense(1,activation='linear'))"
   ]
  },
  {
   "cell_type": "code",
   "execution_count": 28,
   "metadata": {},
   "outputs": [
    {
     "name": "stdout",
     "output_type": "stream",
     "text": [
      "Model: \"sequential\"\n",
      "_________________________________________________________________\n",
      " Layer (type)                Output Shape              Param #   \n",
      "=================================================================\n",
      " dense (Dense)               (None, 64)                1984      \n",
      "                                                                 \n",
      " dense_1 (Dense)             (None, 32)                2080      \n",
      "                                                                 \n",
      " dense_2 (Dense)             (None, 1)                 33        \n",
      "                                                                 \n",
      "=================================================================\n",
      "Total params: 4097 (16.00 KB)\n",
      "Trainable params: 4097 (16.00 KB)\n",
      "Non-trainable params: 0 (0.00 Byte)\n",
      "_________________________________________________________________\n"
     ]
    }
   ],
   "source": [
    "model.summary()"
   ]
  },
  {
   "cell_type": "markdown",
   "metadata": {},
   "source": [
    "## Compile the model"
   ]
  },
  {
   "cell_type": "code",
   "execution_count": 29,
   "metadata": {},
   "outputs": [
    {
     "name": "stdout",
     "output_type": "stream",
     "text": [
      "WARNING:tensorflow:From c:\\Deep Learning\\repository\\venv\\Lib\\site-packages\\keras\\src\\optimizers\\__init__.py:309: The name tf.train.Optimizer is deprecated. Please use tf.compat.v1.train.Optimizer instead.\n",
      "\n"
     ]
    }
   ],
   "source": [
    "model.compile(optimizer='adam',loss='mse',metrics=['mae'])"
   ]
  },
  {
   "cell_type": "markdown",
   "metadata": {},
   "source": [
    "## Training the neural network"
   ]
  },
  {
   "cell_type": "code",
   "execution_count": 30,
   "metadata": {},
   "outputs": [
    {
     "name": "stdout",
     "output_type": "stream",
     "text": [
      "Epoch 1/100\n",
      "WARNING:tensorflow:From c:\\Deep Learning\\repository\\venv\\Lib\\site-packages\\keras\\src\\utils\\tf_utils.py:492: The name tf.ragged.RaggedTensorValue is deprecated. Please use tf.compat.v1.ragged.RaggedTensorValue instead.\n",
      "\n",
      "WARNING:tensorflow:From c:\\Deep Learning\\repository\\venv\\Lib\\site-packages\\keras\\src\\engine\\base_layer_utils.py:384: The name tf.executing_eagerly_outside_functions is deprecated. Please use tf.compat.v1.executing_eagerly_outside_functions instead.\n",
      "\n",
      "100/100 [==============================] - 6s 22ms/step - loss: 67131.6562 - mae: 207.6540 - val_loss: 68964.9062 - val_mae: 209.2387\n",
      "Epoch 2/100\n",
      "100/100 [==============================] - 1s 11ms/step - loss: 57563.0938 - mae: 191.1990 - val_loss: 46397.0039 - val_mae: 168.9710\n",
      "Epoch 3/100\n",
      "100/100 [==============================] - 1s 10ms/step - loss: 24388.7754 - mae: 115.5603 - val_loss: 8449.1914 - val_mae: 64.3666\n",
      "Epoch 4/100\n",
      "100/100 [==============================] - 1s 12ms/step - loss: 3010.9773 - mae: 36.2530 - val_loss: 1239.4231 - val_mae: 25.5135\n",
      "Epoch 5/100\n",
      "100/100 [==============================] - 1s 10ms/step - loss: 771.1008 - mae: 20.8730 - val_loss: 608.9075 - val_mae: 18.7012\n",
      "Epoch 6/100\n",
      "100/100 [==============================] - 1s 11ms/step - loss: 465.2006 - mae: 16.6037 - val_loss: 457.5031 - val_mae: 16.2285\n",
      "Epoch 7/100\n",
      "100/100 [==============================] - 1s 11ms/step - loss: 401.7733 - mae: 15.5740 - val_loss: 415.8344 - val_mae: 15.8339\n",
      "Epoch 8/100\n",
      "100/100 [==============================] - 1s 10ms/step - loss: 374.4606 - mae: 15.1476 - val_loss: 387.9277 - val_mae: 15.4657\n",
      "Epoch 9/100\n",
      "100/100 [==============================] - 1s 10ms/step - loss: 356.0766 - mae: 14.7766 - val_loss: 376.2331 - val_mae: 14.9665\n",
      "Epoch 10/100\n",
      "100/100 [==============================] - 1s 10ms/step - loss: 336.9841 - mae: 14.3797 - val_loss: 356.2559 - val_mae: 14.6744\n",
      "Epoch 11/100\n",
      "100/100 [==============================] - 1s 10ms/step - loss: 319.4102 - mae: 13.9985 - val_loss: 343.1934 - val_mae: 14.5350\n",
      "Epoch 12/100\n",
      "100/100 [==============================] - 1s 10ms/step - loss: 300.7155 - mae: 13.5857 - val_loss: 319.8651 - val_mae: 14.0410\n",
      "Epoch 13/100\n",
      "100/100 [==============================] - 1s 10ms/step - loss: 283.2876 - mae: 13.1925 - val_loss: 314.7869 - val_mae: 13.6753\n",
      "Epoch 14/100\n",
      "100/100 [==============================] - 1s 11ms/step - loss: 268.5317 - mae: 12.8078 - val_loss: 296.7047 - val_mae: 13.8247\n",
      "Epoch 15/100\n",
      "100/100 [==============================] - 1s 11ms/step - loss: 251.8534 - mae: 12.4795 - val_loss: 282.5523 - val_mae: 13.4861\n",
      "Epoch 16/100\n",
      "100/100 [==============================] - 1s 11ms/step - loss: 239.6270 - mae: 12.1626 - val_loss: 261.4295 - val_mae: 12.8058\n",
      "Epoch 17/100\n",
      "100/100 [==============================] - 1s 11ms/step - loss: 222.4466 - mae: 11.7065 - val_loss: 252.9164 - val_mae: 12.6130\n",
      "Epoch 18/100\n",
      "100/100 [==============================] - 1s 9ms/step - loss: 209.1243 - mae: 11.3663 - val_loss: 242.2406 - val_mae: 12.2578\n",
      "Epoch 19/100\n",
      "100/100 [==============================] - 1s 8ms/step - loss: 196.1075 - mae: 11.0272 - val_loss: 229.3094 - val_mae: 12.0424\n",
      "Epoch 20/100\n",
      "100/100 [==============================] - 1s 8ms/step - loss: 185.2339 - mae: 10.7175 - val_loss: 220.6483 - val_mae: 11.8289\n",
      "Epoch 21/100\n",
      "100/100 [==============================] - 1s 10ms/step - loss: 173.5353 - mae: 10.3890 - val_loss: 211.0022 - val_mae: 11.5820\n",
      "Epoch 22/100\n",
      "100/100 [==============================] - 1s 9ms/step - loss: 163.7630 - mae: 10.0627 - val_loss: 201.7499 - val_mae: 11.2810\n",
      "Epoch 23/100\n",
      "100/100 [==============================] - 1s 11ms/step - loss: 153.4039 - mae: 9.7473 - val_loss: 198.2175 - val_mae: 11.0695\n",
      "Epoch 24/100\n",
      "100/100 [==============================] - 1s 10ms/step - loss: 145.1654 - mae: 9.4896 - val_loss: 186.1466 - val_mae: 10.9281\n",
      "Epoch 25/100\n",
      "100/100 [==============================] - 1s 10ms/step - loss: 137.8289 - mae: 9.2801 - val_loss: 180.4431 - val_mae: 10.6514\n",
      "Epoch 26/100\n",
      "100/100 [==============================] - 1s 9ms/step - loss: 130.8334 - mae: 9.0406 - val_loss: 173.9232 - val_mae: 10.4851\n",
      "Epoch 27/100\n",
      "100/100 [==============================] - 1s 10ms/step - loss: 123.3107 - mae: 8.7579 - val_loss: 167.7469 - val_mae: 10.3872\n",
      "Epoch 28/100\n",
      "100/100 [==============================] - 1s 8ms/step - loss: 118.5331 - mae: 8.6149 - val_loss: 163.5677 - val_mae: 10.1704\n",
      "Epoch 29/100\n",
      "100/100 [==============================] - 1s 9ms/step - loss: 113.7586 - mae: 8.4020 - val_loss: 159.3300 - val_mae: 10.1173\n",
      "Epoch 30/100\n",
      "100/100 [==============================] - 1s 9ms/step - loss: 109.3915 - mae: 8.2976 - val_loss: 158.1930 - val_mae: 9.9921\n",
      "Epoch 31/100\n",
      "100/100 [==============================] - 1s 8ms/step - loss: 106.7941 - mae: 8.1991 - val_loss: 150.6600 - val_mae: 9.8477\n",
      "Epoch 32/100\n",
      "100/100 [==============================] - 1s 9ms/step - loss: 102.1564 - mae: 8.0034 - val_loss: 146.9719 - val_mae: 9.7197\n",
      "Epoch 33/100\n",
      "100/100 [==============================] - 1s 8ms/step - loss: 99.6448 - mae: 7.9218 - val_loss: 146.6829 - val_mae: 9.7396\n",
      "Epoch 34/100\n",
      "100/100 [==============================] - 1s 8ms/step - loss: 96.6816 - mae: 7.8103 - val_loss: 144.6504 - val_mae: 9.6827\n",
      "Epoch 35/100\n",
      "100/100 [==============================] - 1s 8ms/step - loss: 94.5396 - mae: 7.7307 - val_loss: 141.7962 - val_mae: 9.5494\n",
      "Epoch 36/100\n",
      "100/100 [==============================] - 1s 9ms/step - loss: 92.7632 - mae: 7.6281 - val_loss: 140.8867 - val_mae: 9.5099\n",
      "Epoch 37/100\n",
      "100/100 [==============================] - 1s 9ms/step - loss: 91.8407 - mae: 7.5864 - val_loss: 139.0076 - val_mae: 9.4013\n",
      "Epoch 38/100\n",
      "100/100 [==============================] - 1s 7ms/step - loss: 88.9933 - mae: 7.5065 - val_loss: 138.5843 - val_mae: 9.4243\n",
      "Epoch 39/100\n",
      "100/100 [==============================] - 1s 6ms/step - loss: 88.5163 - mae: 7.4236 - val_loss: 143.4109 - val_mae: 9.5886\n",
      "Epoch 40/100\n",
      "100/100 [==============================] - 1s 6ms/step - loss: 86.9448 - mae: 7.3419 - val_loss: 136.6873 - val_mae: 9.3781\n",
      "Epoch 41/100\n",
      "100/100 [==============================] - 1s 6ms/step - loss: 85.8502 - mae: 7.3557 - val_loss: 135.4143 - val_mae: 9.2901\n",
      "Epoch 42/100\n",
      "100/100 [==============================] - 1s 7ms/step - loss: 84.6712 - mae: 7.3118 - val_loss: 141.3365 - val_mae: 9.5088\n",
      "Epoch 43/100\n",
      "100/100 [==============================] - 1s 7ms/step - loss: 83.4705 - mae: 7.2445 - val_loss: 136.1545 - val_mae: 9.3380\n",
      "Epoch 44/100\n",
      "100/100 [==============================] - 1s 8ms/step - loss: 82.8423 - mae: 7.2358 - val_loss: 135.6973 - val_mae: 9.2629\n",
      "Epoch 45/100\n",
      "100/100 [==============================] - 1s 10ms/step - loss: 81.7701 - mae: 7.1710 - val_loss: 134.1058 - val_mae: 9.2735\n",
      "Epoch 46/100\n",
      "100/100 [==============================] - 1s 7ms/step - loss: 80.1293 - mae: 7.1170 - val_loss: 133.5515 - val_mae: 9.2357\n",
      "Epoch 47/100\n",
      "100/100 [==============================] - 1s 6ms/step - loss: 79.1323 - mae: 7.0436 - val_loss: 130.5243 - val_mae: 9.1839\n",
      "Epoch 48/100\n",
      "100/100 [==============================] - 1s 6ms/step - loss: 79.5570 - mae: 7.0635 - val_loss: 134.2573 - val_mae: 9.2017\n",
      "Epoch 49/100\n",
      "100/100 [==============================] - 1s 6ms/step - loss: 77.1433 - mae: 6.9371 - val_loss: 132.4103 - val_mae: 9.2429\n",
      "Epoch 50/100\n",
      "100/100 [==============================] - 1s 6ms/step - loss: 79.3108 - mae: 7.0680 - val_loss: 135.8748 - val_mae: 9.3209\n",
      "Epoch 51/100\n",
      "100/100 [==============================] - 1s 6ms/step - loss: 77.4364 - mae: 6.9408 - val_loss: 132.3338 - val_mae: 9.1841\n",
      "Epoch 52/100\n",
      "100/100 [==============================] - 1s 7ms/step - loss: 76.5556 - mae: 6.9052 - val_loss: 133.2788 - val_mae: 9.2430\n",
      "Epoch 53/100\n",
      "100/100 [==============================] - 1s 6ms/step - loss: 75.9396 - mae: 6.8794 - val_loss: 129.8683 - val_mae: 9.0992\n",
      "Epoch 54/100\n",
      "100/100 [==============================] - 1s 7ms/step - loss: 74.2354 - mae: 6.8048 - val_loss: 132.4634 - val_mae: 9.1775\n",
      "Epoch 55/100\n",
      "100/100 [==============================] - 1s 6ms/step - loss: 74.3319 - mae: 6.7901 - val_loss: 130.6126 - val_mae: 9.1616\n",
      "Epoch 56/100\n",
      "100/100 [==============================] - 1s 5ms/step - loss: 74.5509 - mae: 6.8059 - val_loss: 132.8785 - val_mae: 9.2024\n",
      "Epoch 57/100\n",
      "100/100 [==============================] - 1s 6ms/step - loss: 73.5439 - mae: 6.7828 - val_loss: 131.7009 - val_mae: 9.1335\n",
      "Epoch 58/100\n",
      "100/100 [==============================] - 1s 6ms/step - loss: 73.2429 - mae: 6.7675 - val_loss: 137.8402 - val_mae: 9.3018\n",
      "Epoch 59/100\n",
      "100/100 [==============================] - 1s 6ms/step - loss: 71.9066 - mae: 6.7111 - val_loss: 136.6444 - val_mae: 9.2947\n",
      "Epoch 60/100\n",
      "100/100 [==============================] - 1s 5ms/step - loss: 71.2769 - mae: 6.6667 - val_loss: 133.0209 - val_mae: 9.2051\n",
      "Epoch 61/100\n",
      "100/100 [==============================] - 1s 6ms/step - loss: 70.3532 - mae: 6.6000 - val_loss: 131.2098 - val_mae: 9.1402\n",
      "Epoch 62/100\n",
      "100/100 [==============================] - 1s 6ms/step - loss: 71.6532 - mae: 6.6734 - val_loss: 130.2264 - val_mae: 9.1687\n",
      "Epoch 63/100\n",
      "100/100 [==============================] - 1s 6ms/step - loss: 70.8610 - mae: 6.6536 - val_loss: 134.0231 - val_mae: 9.3075\n",
      "Epoch 64/100\n",
      "100/100 [==============================] - 1s 6ms/step - loss: 69.0552 - mae: 6.5377 - val_loss: 135.2849 - val_mae: 9.2836\n",
      "Epoch 65/100\n",
      "100/100 [==============================] - 1s 5ms/step - loss: 68.7146 - mae: 6.5072 - val_loss: 133.5258 - val_mae: 9.2564\n",
      "Epoch 66/100\n",
      "100/100 [==============================] - 1s 5ms/step - loss: 68.9358 - mae: 6.5470 - val_loss: 141.2949 - val_mae: 9.4504\n",
      "Epoch 67/100\n",
      "100/100 [==============================] - 1s 5ms/step - loss: 68.9204 - mae: 6.5790 - val_loss: 132.2283 - val_mae: 9.2260\n",
      "Epoch 68/100\n",
      "100/100 [==============================] - 1s 6ms/step - loss: 69.3056 - mae: 6.5484 - val_loss: 131.2226 - val_mae: 9.1545\n",
      "Epoch 69/100\n",
      "100/100 [==============================] - 1s 5ms/step - loss: 67.2009 - mae: 6.4380 - val_loss: 134.4526 - val_mae: 9.2928\n",
      "Epoch 70/100\n",
      "100/100 [==============================] - 1s 6ms/step - loss: 67.6382 - mae: 6.5069 - val_loss: 132.4055 - val_mae: 9.2308\n",
      "Epoch 71/100\n",
      "100/100 [==============================] - 1s 5ms/step - loss: 66.6526 - mae: 6.4242 - val_loss: 132.6588 - val_mae: 9.2233\n",
      "Epoch 72/100\n",
      "100/100 [==============================] - 0s 5ms/step - loss: 66.7001 - mae: 6.4370 - val_loss: 131.3711 - val_mae: 9.1530\n",
      "Epoch 73/100\n",
      "100/100 [==============================] - 0s 5ms/step - loss: 66.0217 - mae: 6.3692 - val_loss: 132.2734 - val_mae: 9.2628\n",
      "Epoch 74/100\n",
      "100/100 [==============================] - 1s 6ms/step - loss: 66.3740 - mae: 6.4047 - val_loss: 135.6087 - val_mae: 9.2885\n",
      "Epoch 75/100\n",
      "100/100 [==============================] - 1s 7ms/step - loss: 65.5172 - mae: 6.3387 - val_loss: 135.3416 - val_mae: 9.2757\n",
      "Epoch 76/100\n",
      "100/100 [==============================] - 1s 7ms/step - loss: 65.8743 - mae: 6.3610 - val_loss: 130.9493 - val_mae: 9.1717\n",
      "Epoch 77/100\n",
      "100/100 [==============================] - 1s 7ms/step - loss: 65.5692 - mae: 6.3760 - val_loss: 134.2670 - val_mae: 9.2514\n",
      "Epoch 78/100\n",
      "100/100 [==============================] - 1s 7ms/step - loss: 64.4119 - mae: 6.3061 - val_loss: 139.9915 - val_mae: 9.3721\n",
      "Epoch 79/100\n",
      "100/100 [==============================] - 1s 6ms/step - loss: 66.0766 - mae: 6.3869 - val_loss: 134.6350 - val_mae: 9.2252\n",
      "Epoch 80/100\n",
      "100/100 [==============================] - 1s 6ms/step - loss: 63.6387 - mae: 6.2647 - val_loss: 132.0597 - val_mae: 9.2661\n",
      "Epoch 81/100\n",
      "100/100 [==============================] - 1s 6ms/step - loss: 64.3110 - mae: 6.3032 - val_loss: 132.9810 - val_mae: 9.1938\n",
      "Epoch 82/100\n",
      "100/100 [==============================] - 1s 5ms/step - loss: 63.1089 - mae: 6.2218 - val_loss: 133.6577 - val_mae: 9.2905\n",
      "Epoch 83/100\n",
      "100/100 [==============================] - 1s 6ms/step - loss: 63.0467 - mae: 6.2542 - val_loss: 130.4772 - val_mae: 9.2195\n",
      "Epoch 84/100\n",
      "100/100 [==============================] - 1s 6ms/step - loss: 63.0446 - mae: 6.2008 - val_loss: 131.5817 - val_mae: 9.1908\n",
      "Epoch 85/100\n",
      "100/100 [==============================] - 1s 6ms/step - loss: 62.5542 - mae: 6.1771 - val_loss: 136.4149 - val_mae: 9.3558\n",
      "Epoch 86/100\n",
      "100/100 [==============================] - 1s 6ms/step - loss: 62.2824 - mae: 6.1740 - val_loss: 133.4063 - val_mae: 9.2192\n",
      "Epoch 87/100\n",
      "100/100 [==============================] - 1s 5ms/step - loss: 62.2651 - mae: 6.1617 - val_loss: 133.0549 - val_mae: 9.2525\n",
      "Epoch 88/100\n",
      "100/100 [==============================] - 1s 5ms/step - loss: 60.8083 - mae: 6.0843 - val_loss: 131.5857 - val_mae: 9.2322\n",
      "Epoch 89/100\n",
      "100/100 [==============================] - 1s 7ms/step - loss: 62.5374 - mae: 6.1608 - val_loss: 133.6595 - val_mae: 9.2539\n",
      "Epoch 90/100\n",
      "100/100 [==============================] - 1s 7ms/step - loss: 61.5720 - mae: 6.1407 - val_loss: 130.2251 - val_mae: 9.2109\n",
      "Epoch 91/100\n",
      "100/100 [==============================] - 1s 8ms/step - loss: 59.8170 - mae: 6.0154 - val_loss: 131.4422 - val_mae: 9.1748\n",
      "Epoch 92/100\n",
      "100/100 [==============================] - 1s 9ms/step - loss: 62.1552 - mae: 6.1790 - val_loss: 132.0165 - val_mae: 9.2290\n",
      "Epoch 93/100\n",
      "100/100 [==============================] - 1s 6ms/step - loss: 59.3271 - mae: 6.0375 - val_loss: 134.6029 - val_mae: 9.2756\n",
      "Epoch 94/100\n",
      "100/100 [==============================] - 1s 10ms/step - loss: 59.9056 - mae: 6.0287 - val_loss: 131.6596 - val_mae: 9.2179\n",
      "Epoch 95/100\n",
      "100/100 [==============================] - 1s 7ms/step - loss: 59.3501 - mae: 5.9826 - val_loss: 134.7647 - val_mae: 9.3833\n",
      "Epoch 96/100\n",
      "100/100 [==============================] - 1s 6ms/step - loss: 60.8562 - mae: 6.0851 - val_loss: 137.7497 - val_mae: 9.3387\n",
      "Epoch 97/100\n",
      "100/100 [==============================] - 1s 6ms/step - loss: 59.0290 - mae: 5.9736 - val_loss: 131.7125 - val_mae: 9.2242\n",
      "Epoch 98/100\n",
      "100/100 [==============================] - 1s 6ms/step - loss: 58.7626 - mae: 5.9847 - val_loss: 134.2542 - val_mae: 9.2900\n",
      "Epoch 99/100\n",
      "100/100 [==============================] - 1s 6ms/step - loss: 58.6724 - mae: 5.9586 - val_loss: 137.8018 - val_mae: 9.4432\n",
      "Epoch 100/100\n",
      "100/100 [==============================] - 1s 6ms/step - loss: 58.0019 - mae: 5.9472 - val_loss: 132.1281 - val_mae: 9.2446\n"
     ]
    }
   ],
   "source": [
    "hist=model.fit(xtrain,ytrain,validation_split=0.2,epochs=100)"
   ]
  },
  {
   "cell_type": "code",
   "execution_count": 31,
   "metadata": {},
   "outputs": [
    {
     "data": {
      "text/plain": [
       "[67131.65625,\n",
       " 57563.09375,\n",
       " 24388.775390625,\n",
       " 3010.977294921875,\n",
       " 771.100830078125,\n",
       " 465.20062255859375,\n",
       " 401.7733154296875,\n",
       " 374.4605712890625,\n",
       " 356.07659912109375,\n",
       " 336.9841003417969,\n",
       " 319.4101867675781,\n",
       " 300.7155456542969,\n",
       " 283.2875671386719,\n",
       " 268.5317077636719,\n",
       " 251.8533935546875,\n",
       " 239.626953125,\n",
       " 222.44664001464844,\n",
       " 209.12429809570312,\n",
       " 196.1074981689453,\n",
       " 185.23390197753906,\n",
       " 173.53529357910156,\n",
       " 163.7630157470703,\n",
       " 153.40390014648438,\n",
       " 145.16542053222656,\n",
       " 137.82888793945312,\n",
       " 130.8334197998047,\n",
       " 123.3106918334961,\n",
       " 118.5330581665039,\n",
       " 113.75860595703125,\n",
       " 109.3915023803711,\n",
       " 106.79405975341797,\n",
       " 102.15642547607422,\n",
       " 99.64478302001953,\n",
       " 96.68161010742188,\n",
       " 94.53955078125,\n",
       " 92.76321411132812,\n",
       " 91.84065246582031,\n",
       " 88.99333190917969,\n",
       " 88.5162582397461,\n",
       " 86.94483184814453,\n",
       " 85.85022735595703,\n",
       " 84.6711654663086,\n",
       " 83.47052001953125,\n",
       " 82.84232330322266,\n",
       " 81.77009582519531,\n",
       " 80.12925720214844,\n",
       " 79.13229370117188,\n",
       " 79.55696868896484,\n",
       " 77.14334106445312,\n",
       " 79.3108139038086,\n",
       " 77.43640899658203,\n",
       " 76.55560302734375,\n",
       " 75.93962860107422,\n",
       " 74.23544311523438,\n",
       " 74.3319320678711,\n",
       " 74.55089569091797,\n",
       " 73.5439224243164,\n",
       " 73.24285888671875,\n",
       " 71.9066162109375,\n",
       " 71.27686309814453,\n",
       " 70.35324096679688,\n",
       " 71.65324401855469,\n",
       " 70.86101531982422,\n",
       " 69.0551986694336,\n",
       " 68.71455383300781,\n",
       " 68.93578338623047,\n",
       " 68.9204330444336,\n",
       " 69.30557250976562,\n",
       " 67.20089721679688,\n",
       " 67.63819122314453,\n",
       " 66.6525650024414,\n",
       " 66.70011138916016,\n",
       " 66.0217056274414,\n",
       " 66.37403106689453,\n",
       " 65.51715087890625,\n",
       " 65.87425994873047,\n",
       " 65.56922149658203,\n",
       " 64.41194152832031,\n",
       " 66.07662963867188,\n",
       " 63.63872528076172,\n",
       " 64.31097412109375,\n",
       " 63.108890533447266,\n",
       " 63.04670333862305,\n",
       " 63.04457092285156,\n",
       " 62.554229736328125,\n",
       " 62.28242111206055,\n",
       " 62.265079498291016,\n",
       " 60.808250427246094,\n",
       " 62.53742599487305,\n",
       " 61.572044372558594,\n",
       " 59.816993713378906,\n",
       " 62.155189514160156,\n",
       " 59.327091217041016,\n",
       " 59.905643463134766,\n",
       " 59.350074768066406,\n",
       " 60.856170654296875,\n",
       " 59.02900314331055,\n",
       " 58.762596130371094,\n",
       " 58.67241668701172,\n",
       " 58.001914978027344]"
      ]
     },
     "execution_count": 31,
     "metadata": {},
     "output_type": "execute_result"
    }
   ],
   "source": [
    "hist.history['loss']"
   ]
  },
  {
   "cell_type": "code",
   "execution_count": 32,
   "metadata": {},
   "outputs": [
    {
     "data": {
      "text/plain": [
       "[68964.90625,\n",
       " 46397.00390625,\n",
       " 8449.19140625,\n",
       " 1239.423095703125,\n",
       " 608.907470703125,\n",
       " 457.5030517578125,\n",
       " 415.8344421386719,\n",
       " 387.9277038574219,\n",
       " 376.2331237792969,\n",
       " 356.2558898925781,\n",
       " 343.1933898925781,\n",
       " 319.8651428222656,\n",
       " 314.786865234375,\n",
       " 296.7046813964844,\n",
       " 282.5523376464844,\n",
       " 261.42950439453125,\n",
       " 252.91644287109375,\n",
       " 242.24058532714844,\n",
       " 229.30943298339844,\n",
       " 220.64830017089844,\n",
       " 211.00222778320312,\n",
       " 201.7499237060547,\n",
       " 198.2174835205078,\n",
       " 186.14662170410156,\n",
       " 180.4430694580078,\n",
       " 173.9232177734375,\n",
       " 167.74693298339844,\n",
       " 163.5676727294922,\n",
       " 159.33001708984375,\n",
       " 158.1930389404297,\n",
       " 150.66004943847656,\n",
       " 146.97193908691406,\n",
       " 146.6829071044922,\n",
       " 144.65037536621094,\n",
       " 141.79620361328125,\n",
       " 140.8866729736328,\n",
       " 139.00759887695312,\n",
       " 138.5842742919922,\n",
       " 143.41087341308594,\n",
       " 136.687255859375,\n",
       " 135.41429138183594,\n",
       " 141.3365020751953,\n",
       " 136.1544952392578,\n",
       " 135.6973419189453,\n",
       " 134.1057586669922,\n",
       " 133.55152893066406,\n",
       " 130.5242919921875,\n",
       " 134.25732421875,\n",
       " 132.41033935546875,\n",
       " 135.8748016357422,\n",
       " 132.33380126953125,\n",
       " 133.27877807617188,\n",
       " 129.8683319091797,\n",
       " 132.46343994140625,\n",
       " 130.61264038085938,\n",
       " 132.87847900390625,\n",
       " 131.70091247558594,\n",
       " 137.84017944335938,\n",
       " 136.64442443847656,\n",
       " 133.0208740234375,\n",
       " 131.20980834960938,\n",
       " 130.22642517089844,\n",
       " 134.02313232421875,\n",
       " 135.28494262695312,\n",
       " 133.52584838867188,\n",
       " 141.29490661621094,\n",
       " 132.22825622558594,\n",
       " 131.22256469726562,\n",
       " 134.45263671875,\n",
       " 132.40550231933594,\n",
       " 132.65882873535156,\n",
       " 131.37112426757812,\n",
       " 132.2733917236328,\n",
       " 135.60874938964844,\n",
       " 135.34158325195312,\n",
       " 130.94927978515625,\n",
       " 134.2670135498047,\n",
       " 139.9915008544922,\n",
       " 134.635009765625,\n",
       " 132.05966186523438,\n",
       " 132.98097229003906,\n",
       " 133.6576690673828,\n",
       " 130.47718811035156,\n",
       " 131.5817413330078,\n",
       " 136.41485595703125,\n",
       " 133.40628051757812,\n",
       " 133.05487060546875,\n",
       " 131.58572387695312,\n",
       " 133.6594696044922,\n",
       " 130.2250518798828,\n",
       " 131.44215393066406,\n",
       " 132.0165252685547,\n",
       " 134.6028594970703,\n",
       " 131.65956115722656,\n",
       " 134.76470947265625,\n",
       " 137.74974060058594,\n",
       " 131.7125244140625,\n",
       " 134.2541961669922,\n",
       " 137.8018035888672,\n",
       " 132.12814331054688]"
      ]
     },
     "execution_count": 32,
     "metadata": {},
     "output_type": "execute_result"
    }
   ],
   "source": [
    "hist.history['val_loss']"
   ]
  },
  {
   "cell_type": "code",
   "execution_count": 33,
   "metadata": {},
   "outputs": [
    {
     "data": {
      "text/plain": [
       "[209.23870849609375,\n",
       " 168.97103881835938,\n",
       " 64.3666000366211,\n",
       " 25.51351547241211,\n",
       " 18.701152801513672,\n",
       " 16.22852325439453,\n",
       " 15.833928108215332,\n",
       " 15.465673446655273,\n",
       " 14.966469764709473,\n",
       " 14.674405097961426,\n",
       " 14.534987449645996,\n",
       " 14.041040420532227,\n",
       " 13.675281524658203,\n",
       " 13.824749946594238,\n",
       " 13.48613166809082,\n",
       " 12.805794715881348,\n",
       " 12.6129732131958,\n",
       " 12.257840156555176,\n",
       " 12.042372703552246,\n",
       " 11.828875541687012,\n",
       " 11.582006454467773,\n",
       " 11.281023979187012,\n",
       " 11.069466590881348,\n",
       " 10.928062438964844,\n",
       " 10.651449203491211,\n",
       " 10.485097885131836,\n",
       " 10.387150764465332,\n",
       " 10.170434951782227,\n",
       " 10.117295265197754,\n",
       " 9.992104530334473,\n",
       " 9.847702980041504,\n",
       " 9.7197265625,\n",
       " 9.739616394042969,\n",
       " 9.682711601257324,\n",
       " 9.549430847167969,\n",
       " 9.509939193725586,\n",
       " 9.401324272155762,\n",
       " 9.424335479736328,\n",
       " 9.588644027709961,\n",
       " 9.378081321716309,\n",
       " 9.290120124816895,\n",
       " 9.508840560913086,\n",
       " 9.33804988861084,\n",
       " 9.262886047363281,\n",
       " 9.273489952087402,\n",
       " 9.23571491241455,\n",
       " 9.18393325805664,\n",
       " 9.20173454284668,\n",
       " 9.242898941040039,\n",
       " 9.320867538452148,\n",
       " 9.184136390686035,\n",
       " 9.243035316467285,\n",
       " 9.099198341369629,\n",
       " 9.177495002746582,\n",
       " 9.161602020263672,\n",
       " 9.20240306854248,\n",
       " 9.133529663085938,\n",
       " 9.301828384399414,\n",
       " 9.294663429260254,\n",
       " 9.205087661743164,\n",
       " 9.140179634094238,\n",
       " 9.168694496154785,\n",
       " 9.30748462677002,\n",
       " 9.283598899841309,\n",
       " 9.25641918182373,\n",
       " 9.450439453125,\n",
       " 9.225982666015625,\n",
       " 9.154468536376953,\n",
       " 9.292832374572754,\n",
       " 9.230825424194336,\n",
       " 9.223346710205078,\n",
       " 9.153006553649902,\n",
       " 9.262762069702148,\n",
       " 9.288525581359863,\n",
       " 9.275725364685059,\n",
       " 9.171677589416504,\n",
       " 9.251350402832031,\n",
       " 9.372103691101074,\n",
       " 9.225214958190918,\n",
       " 9.266101837158203,\n",
       " 9.193828582763672,\n",
       " 9.290536880493164,\n",
       " 9.219484329223633,\n",
       " 9.190792083740234,\n",
       " 9.355794906616211,\n",
       " 9.21923542022705,\n",
       " 9.252455711364746,\n",
       " 9.232231140136719,\n",
       " 9.25390911102295,\n",
       " 9.210869789123535,\n",
       " 9.17475700378418,\n",
       " 9.228984832763672,\n",
       " 9.275589942932129,\n",
       " 9.217935562133789,\n",
       " 9.383304595947266,\n",
       " 9.338726997375488,\n",
       " 9.224157333374023,\n",
       " 9.28999137878418,\n",
       " 9.443177223205566,\n",
       " 9.24458122253418]"
      ]
     },
     "execution_count": 33,
     "metadata": {},
     "output_type": "execute_result"
    }
   ],
   "source": [
    "hist.history['val_mae']"
   ]
  },
  {
   "cell_type": "markdown",
   "metadata": {},
   "source": [
    "# plot the learning curve"
   ]
  },
  {
   "cell_type": "code",
   "execution_count": 34,
   "metadata": {},
   "outputs": [
    {
     "data": {
      "image/png": "[encoded data removed]",
      "text/plain": [
       "<Figure size 1600x800 with 1 Axes>"
      ]
     },
     "metadata": {},
     "output_type": "display_data"
    }
   ],
   "source": [
    "import matplotlib.pyplot as plt\n",
    "plt.figure(figsize=(16,8))\n",
    "plt.plot(hist.history['loss'],label='Train MSE')\n",
    "plt.plot(hist.history['val_loss'],label='Validation MSE')\n",
    "plt.xlabel('Epochs')\n",
    "plt.ylabel('Mean Squared Error')\n",
    "plt.title('Learning curve')\n",
    "plt.legend()\n",
    "plt.show()"
   ]
  },
  {
   "cell_type": "markdown",
   "metadata": {},
   "source": [
    "## Evaluate the model"
   ]
  },
  {
   "cell_type": "code",
   "execution_count": 35,
   "metadata": {},
   "outputs": [
    {
     "name": "stdout",
     "output_type": "stream",
     "text": [
      "125/125 [==============================] - 1s 5ms/step - loss: 69.6859 - mae: 6.4299\n"
     ]
    },
    {
     "data": {
      "text/plain": [
       "[69.6859130859375, 6.429903984069824]"
      ]
     },
     "execution_count": 35,
     "metadata": {},
     "output_type": "execute_result"
    }
   ],
   "source": [
    "model.evaluate(xtrain,ytrain)"
   ]
  },
  {
   "cell_type": "code",
   "execution_count": 36,
   "metadata": {},
   "outputs": [
    {
     "name": "stdout",
     "output_type": "stream",
     "text": [
      "32/32 [==============================] - 1s 4ms/step - loss: 126.3268 - mae: 8.9143\n"
     ]
    },
    {
     "data": {
      "text/plain": [
       "[126.32677459716797, 8.914347648620605]"
      ]
     },
     "execution_count": 36,
     "metadata": {},
     "output_type": "execute_result"
    }
   ],
   "source": [
    "model.evaluate(xtest,ytest)"
   ]
  },
  {
   "cell_type": "markdown",
   "metadata": {},
   "source": [
    "# Predict train and test\n"
   ]
  },
  {
   "cell_type": "code",
   "execution_count": 37,
   "metadata": {},
   "outputs": [
    {
     "name": "stdout",
     "output_type": "stream",
     "text": [
      "125/125 [==============================] - 1s 3ms/step\n",
      "32/32 [==============================] - 0s 4ms/step\n"
     ]
    }
   ],
   "source": [
    "ypred_tr=model.predict(xtrain)\n",
    "ypred_ts=model.predict(xtest)"
   ]
  },
  {
   "cell_type": "code",
   "execution_count": 38,
   "metadata": {},
   "outputs": [
    {
     "data": {
      "text/plain": [
       "array([[ 419.75586 ],\n",
       "       [-458.04587 ],\n",
       "       [  37.173313],\n",
       "       [ 115.65783 ],\n",
       "       [-221.12163 ]], dtype=float32)"
      ]
     },
     "execution_count": 38,
     "metadata": {},
     "output_type": "execute_result"
    }
   ],
   "source": [
    "ypred_tr[0:5]"
   ]
  },
  {
   "cell_type": "code",
   "execution_count": 39,
   "metadata": {},
   "outputs": [
    {
     "data": {
      "text/html": [
       "<div>\n",
       "<style scoped>\n",
       "    .dataframe tbody tr th:only-of-type {\n",
       "        vertical-align: middle;\n",
       "    }\n",
       "\n",
       "    .dataframe tbody tr th {\n",
       "        vertical-align: top;\n",
       "    }\n",
       "\n",
       "    .dataframe thead th {\n",
       "        text-align: right;\n",
       "    }\n",
       "</style>\n",
       "<table border=\"1\" class=\"dataframe\">\n",
       "  <thead>\n",
       "    <tr style=\"text-align: right;\">\n",
       "      <th></th>\n",
       "      <th>Y</th>\n",
       "    </tr>\n",
       "  </thead>\n",
       "  <tbody>\n",
       "    <tr>\n",
       "      <th>4227</th>\n",
       "      <td>421.295025</td>\n",
       "    </tr>\n",
       "    <tr>\n",
       "      <th>4676</th>\n",
       "      <td>-469.452726</td>\n",
       "    </tr>\n",
       "    <tr>\n",
       "      <th>800</th>\n",
       "      <td>42.172815</td>\n",
       "    </tr>\n",
       "    <tr>\n",
       "      <th>3671</th>\n",
       "      <td>114.083914</td>\n",
       "    </tr>\n",
       "    <tr>\n",
       "      <th>4193</th>\n",
       "      <td>-217.535707</td>\n",
       "    </tr>\n",
       "  </tbody>\n",
       "</table>\n",
       "</div>"
      ],
      "text/plain": [
       "               Y\n",
       "4227  421.295025\n",
       "4676 -469.452726\n",
       "800    42.172815\n",
       "3671  114.083914\n",
       "4193 -217.535707"
      ]
     },
     "execution_count": 39,
     "metadata": {},
     "output_type": "execute_result"
    }
   ],
   "source": [
    "ytrain.head()"
   ]
  },
  {
   "cell_type": "code",
   "execution_count": 40,
   "metadata": {},
   "outputs": [
    {
     "data": {
      "text/plain": [
       "array([[ 304.79837],\n",
       "       [ -67.77373],\n",
       "       [-195.06602],\n",
       "       [ 243.31781],\n",
       "       [ 177.13832]], dtype=float32)"
      ]
     },
     "execution_count": 40,
     "metadata": {},
     "output_type": "execute_result"
    }
   ],
   "source": [
    "ypred_ts[0:5]"
   ]
  },
  {
   "cell_type": "code",
   "execution_count": 41,
   "metadata": {},
   "outputs": [
    {
     "data": {
      "text/html": [
       "<div>\n",
       "<style scoped>\n",
       "    .dataframe tbody tr th:only-of-type {\n",
       "        vertical-align: middle;\n",
       "    }\n",
       "\n",
       "    .dataframe tbody tr th {\n",
       "        vertical-align: top;\n",
       "    }\n",
       "\n",
       "    .dataframe thead th {\n",
       "        text-align: right;\n",
       "    }\n",
       "</style>\n",
       "<table border=\"1\" class=\"dataframe\">\n",
       "  <thead>\n",
       "    <tr style=\"text-align: right;\">\n",
       "      <th></th>\n",
       "      <th>Y</th>\n",
       "    </tr>\n",
       "  </thead>\n",
       "  <tbody>\n",
       "    <tr>\n",
       "      <th>1501</th>\n",
       "      <td>297.782677</td>\n",
       "    </tr>\n",
       "    <tr>\n",
       "      <th>2586</th>\n",
       "      <td>-55.418700</td>\n",
       "    </tr>\n",
       "    <tr>\n",
       "      <th>2653</th>\n",
       "      <td>-181.896454</td>\n",
       "    </tr>\n",
       "    <tr>\n",
       "      <th>1055</th>\n",
       "      <td>210.251382</td>\n",
       "    </tr>\n",
       "    <tr>\n",
       "      <th>705</th>\n",
       "      <td>188.412050</td>\n",
       "    </tr>\n",
       "  </tbody>\n",
       "</table>\n",
       "</div>"
      ],
      "text/plain": [
       "               Y\n",
       "1501  297.782677\n",
       "2586  -55.418700\n",
       "2653 -181.896454\n",
       "1055  210.251382\n",
       "705   188.412050"
      ]
     },
     "execution_count": 41,
     "metadata": {},
     "output_type": "execute_result"
    }
   ],
   "source": [
    "ytest.head()"
   ]
  },
  {
   "cell_type": "code",
   "execution_count": 42,
   "metadata": {},
   "outputs": [
    {
     "name": "stdout",
     "output_type": "stream",
     "text": [
      "Traning R2:0.9990\n"
     ]
    }
   ],
   "source": [
    "# show r2 score in train and test\n",
    "from sklearn.metrics import r2_score\n",
    "tr_r2=r2_score(ytrain,ypred_tr)\n",
    "print(f'Traning R2:{tr_r2:.4f}')"
   ]
  },
  {
   "cell_type": "code",
   "execution_count": 43,
   "metadata": {},
   "outputs": [
    {
     "name": "stdout",
     "output_type": "stream",
     "text": [
      "Testing R2:0.9983\n"
     ]
    }
   ],
   "source": [
    "ts_r2=r2_score(ytest,ypred_ts)\n",
    "print(f'Testing R2:{ts_r2:.4f}')"
   ]
  },
  {
   "cell_type": "markdown",
   "metadata": {},
   "source": [
    "## Save the model for future\n"
   ]
  },
  {
   "cell_type": "code",
   "execution_count": 44,
   "metadata": {},
   "outputs": [],
   "source": [
    "model.save('ExampleRegression.keras')"
   ]
  },
  {
   "cell_type": "markdown",
   "metadata": {},
   "source": [
    "## Loading the model"
   ]
  },
  {
   "cell_type": "code",
   "execution_count": 45,
   "metadata": {},
   "outputs": [],
   "source": [
    "from keras.models import load_model"
   ]
  },
  {
   "cell_type": "code",
   "execution_count": 46,
   "metadata": {},
   "outputs": [],
   "source": [
    "nn=load_model('ExampleRegression.keras')"
   ]
  },
  {
   "cell_type": "code",
   "execution_count": 48,
   "metadata": {},
   "outputs": [
    {
     "name": "stdout",
     "output_type": "stream",
     "text": [
      "Model: \"sequential\"\n",
      "_________________________________________________________________\n",
      " Layer (type)                Output Shape              Param #   \n",
      "=================================================================\n",
      " dense (Dense)               (None, 64)                1984      \n",
      "                                                                 \n",
      " dense_1 (Dense)             (None, 32)                2080      \n",
      "                                                                 \n",
      " dense_2 (Dense)             (None, 1)                 33        \n",
      "                                                                 \n",
      "=================================================================\n",
      "Total params: 4097 (16.00 KB)\n",
      "Trainable params: 4097 (16.00 KB)\n",
      "Non-trainable params: 0 (0.00 Byte)\n",
      "_________________________________________________________________\n"
     ]
    }
   ],
   "source": [
    "nn.summary()"
   ]
  },
  {
   "cell_type": "code",
   "execution_count": null,
   "metadata": {},
   "outputs": [],
   "source": []
  }
 ],
 "metadata": {
  "kernelspec": {
   "display_name": "venv",
   "language": "python",
   "name": "python3"
  },
  "language_info": {
   "codemirror_mode": {
    "name": "ipython",
    "version": 3
   },
   "file_extension": ".py",
   "mimetype": "text/x-python",
   "name": "python",
   "nbconvert_exporter": "python",
   "pygments_lexer": "ipython3",
   "version": "3.11.6"
  }
 },
 "nbformat": 4,
 "nbformat_minor": 2
}
